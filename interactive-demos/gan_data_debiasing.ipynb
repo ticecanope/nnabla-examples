{
 "cells": [
  {
   "attachments": {},
   "cell_type": "markdown",
   "metadata": {},
   "source": [
    "## GAN Data-Debiasing\n",
    "\n",
    "### Table of contents :\n",
    "1. [Introduction](#1.-Introduction)\n",
    "2. [Train Attribute Classifier](#2.-Train-Attribute-Classifier)\n",
    "\t* [Compute Fairness](#Compute-fairness-of-Attribute-classifier)\n",
    "3. [Mitigate bias using GAN's Latent Space De-biasing.](#3.-Mitigate-the-bias-using-GAN's-Latent-Space-De-biasing)\n",
    "4. [Train Attribute classifier with debiased dataset](#4.-Train-Attribute-classifier-with-debiased-dataset)\n",
    "\t* [Compute Fairness](#Compute-Fairness)\n",
    "5. [Summary](#5.-Summary)"
   ]
  },
  {
   "attachments": {},
   "cell_type": "markdown",
   "metadata": {},
   "source": [
    "### 1. Introduction\n",
    "\n",
    "\n",
    "Welcome !\n",
    "\n",
    "\n",
    "Application of Deep Learning for vision problems has proliferated in recent times. Its widespread application necessitates need for \"Fairness\". Deep Learning models trained with only labels as beacons possibly learn spurious correlations between labels and certain features [or attributes].\n",
    "\n",
    "\n",
    "for ex., if we train a model to classify \"people wearing hats\", the classifier may inadvertantly associate sunglasses with hats if the dataset has narrow distribution of mostly outdoor images (people often wear both hats and sunglasses together outdoors and take them off indoors). Because of this correlation in the training data classifier trained to recognize a hat may rely on the presence of glasses. As a result, the classifier may fail to recognize a hat in the absence of sunglasses. Capturing perfectly balanced dataset is not feasible in many cases. In such cases, as shown in this notebook, one could train classifiers while mitigating biases that stem from these correlations, by using [Fair Attribute Classification through Latent Space De-biasing](https://arxiv.org/abs/2012.01469).\n",
    "\n",
    "### Preparation\n",
    "Let's start by installing nnabla and accessing [nnabla-examples repository](https://github.com/sony/nnabla-examples). If you're running on Colab, make sure that your Runtime setting is set as GPU, which can be set up from the top menu (Runtime → change runtime type), and make sure to click **Connect** on the top right-hand side of the screen before you start.\n",
    "\n",
    "Before we go into detailed explanation, here is a sneak peek into the steps involved in the process:\n"
   ]
  },
  {
   "cell_type": "code",
   "execution_count": null,
   "metadata": {},
   "outputs": [],
   "source": [
    "# Preparation\n",
    "# May show warnings for newly imported packages if run in Colab default python environment.\n",
    "# Please click the `RESTART RUNTIME` to run the following script correctly.\n",
    "# The error message of conflicts is acceptable.\n",
    "!git clone https://github.com/sony/nnabla-examples.git\n",
    "!pip install albumentations\n",
    "!pip install nnabla-ext-cuda116"
   ]
  },
  {
   "cell_type": "code",
   "execution_count": null,
   "id": "25998422",
   "metadata": {},
   "outputs": [],
   "source": [
    "%cd nnabla-examples/responsible_ai/gan_data_debiased"
   ]
  },
  {
   "cell_type": "code",
   "execution_count": null,
   "id": "5966e5cf",
   "metadata": {},
   "outputs": [],
   "source": [
    "import cv2\n",
    "from google.colab.patches import cv2_imshow\n",
    "img = cv2.imread('images/gan_data_debiasing_workflow.png')\n",
    "cv2_imshow(img)"
   ]
  },
  {
   "attachments": {},
   "cell_type": "markdown",
   "metadata": {},
   "source": [
    "As illustrated in the picture, we use [GAN](https://arxiv.org/abs/1406.2661) technique to generate realistic-looking images and perturb these images in the underlying latent space to generate training data that is balanced for each protected attribute. Then we augment the original dataset with this generated data and empirically demonstrate that target classifiers trained on the augmented dataset exhibits a number of both quantitative and qualitative benefits.\n",
    "\n",
    "\n",
    "Let's first train a baseline attribute classifier with original [celebA](https://mmlab.ie.cuhk.edu.hk/projects/CelebA.html) dataset, analyze model fairness. Then we shall train the target attribute classifier with a balanced dataset and original dataset to make the model fair if fairness metric is not satisfactory.\n"
   ]
  },
  {
   "cell_type": "code",
   "execution_count": null,
   "metadata": {},
   "outputs": [],
   "source": [
    "import os\n",
    "import glob\n",
    "import pickle\n",
    "import shutil\n",
    "import numpy as np\n",
    "from PIL import Image\n",
    "import albumentations as A\n",
    "import nnabla as nn\n",
    "from nnabla.ext_utils import get_extension_context\n",
    "from nnabla.utils.data_iterator import data_iterator_simple\n",
    "import classifier as clf\n",
    "from utils import utils"
   ]
  },
  {
   "attachments": {},
   "cell_type": "markdown",
   "metadata": {},
   "source": [
    "Let us train an `Arched Eyebrow` classifier that is not dependent on gender expression. For this, we require a dataset that has target labels (`Arched eyebrow`) as well as gender expression labels. [celebA](https://mmlab.ie.cuhk.edu.hk/projects/CelebA.html) is a dataset with 2,022,599 images of celebrity faces, each with 40 binary attributes labels. We assume the `Male` attribute corresponds to gender expression and the target attribute is `Arched Eyebrow`.\n",
    "\n",
    "\n",
    "NNabla provides various utilities for using data for training/validation. Here, we will use NNabla data_iterator_simple.\n"
   ]
  },
  {
   "cell_type": "code",
   "execution_count": null,
   "metadata": {},
   "outputs": [],
   "source": [
    "def data_iterator_celeba(img_path,attr_path, batch_size,\n",
    "                         target_attribute=1,protected_attribute=20,\n",
    "                         num_samples=-1,augment=False, shuffle=False, rng=None):\n",
    "    \"\"\"\n",
    "    create celebA data iterator\n",
    "    Args:\n",
    "        img_path (str) : image path directory \n",
    "        attr_path (str) : celebA attribute file path (ex: list_attr_celeba.txt)\n",
    "        batch_size (int) :  number of samples contained in each generated batch\n",
    "        target_attribute (int) : target attribute (ex: Arched EyeBrows (1), Bushy Eyebrows(12), smilling (31),etc..)\n",
    "        protected_attribute (int): protected attribute (ex: Male (20), Pale_Skin (26))\n",
    "        num_samples (int) : number of samples taken in data loader\n",
    "                            (if num_samples=-1, it will take all the images in the dataset)\n",
    "        augment (bool) : data augmentation (True for training)\n",
    "        shuffle (bool) : shuffle the data (True /False)\n",
    "        rng : None\n",
    "    Returns:\n",
    "        simple data iterator\n",
    "    \"\"\"\n",
    "    \n",
    "    imgs = glob.glob(\"{}/*.jpg\".format(img_path))\n",
    "    label_file = open(attr_path, 'r')\n",
    "    label_file = label_file.readlines()\n",
    "    labels = {}\n",
    "    # skipping first two rows(headers)\n",
    "    for i in range(2, len(label_file)):\n",
    "        temp = label_file[i].strip().split()\n",
    "\n",
    "        labels[os.path.join(img_path, temp[0])] = np.array(\n",
    "            [int((int(temp[target_attribute + 1]) + 1) / 2), int((int(temp[protected_attribute + 1]) + 1) / 2)])\n",
    "    \n",
    "    # as per the author's citation, we have transformed the input image\n",
    "    # (resize to 64×64, 256×256, 224×224)\n",
    "    pre_process = [(64, 64), (256, 256), (224, 224)]\n",
    "    mean_normalize = (0.485, 0.456, 0.406)\n",
    "    std_normalize = (0.229, 0.224, 0.225)\n",
    "    \n",
    "    if augment:\n",
    "        transform = A.Compose([\n",
    "            A.Resize(pre_process[0][0], pre_process[0][1]),\n",
    "            A.Resize(pre_process[1][0], pre_process[1][1]),\n",
    "            A.RandomCrop(width=pre_process[2][0], height=pre_process[2][1]),\n",
    "            A.HorizontalFlip(p=0.5),\n",
    "            A.Normalize(mean=mean_normalize, std=std_normalize)\n",
    "        ])\n",
    "    \n",
    "    else:\n",
    "        transform = A.Compose([\n",
    "            A.Resize(pre_process[0][0], pre_process[0][1]),\n",
    "            A.Resize(pre_process[1][0], pre_process[1][1]),\n",
    "            A.CenterCrop(width=pre_process[2][0], height=pre_process[2][1]),\n",
    "            A.Normalize(mean=mean_normalize, std=std_normalize)\n",
    "        ])\n",
    "    if num_samples == -1:\n",
    "        num_samples = len(imgs)\n",
    "    else:\n",
    "        print(\"Num. of data ({}) is used for debugging\".format(num_samples))\n",
    "        \n",
    "    def load_func(i):\n",
    "        # crop the aligned & cropped 178×218 images to 128x128\n",
    "        cx = 121\n",
    "        cy = 89\n",
    "        c_pixels = 64\n",
    "        img = Image.open(imgs[i])\n",
    "        img = np.array(img.convert('RGB'))\n",
    "        img = img[cx - c_pixels:cx+c_pixels, cy-c_pixels:cy+c_pixels]\n",
    "        # transform\n",
    "        transformed_image = transform(image=img)['image'].transpose(2, 0, 1)\n",
    "        return transformed_image, labels[imgs[i]]\n",
    "    return data_iterator_simple(load_func, num_samples, batch_size, shuffle=shuffle, rng=rng, with_file_cache=False)"
   ]
  },
  {
   "cell_type": "code",
   "execution_count": null,
   "metadata": {},
   "outputs": [],
   "source": [
    "def split_celeba_dataset(img_path, attr_path, out_dir, split=\"test\"):\n",
    "    \n",
    "    \"\"\"\n",
    "    split the celebA dataset\n",
    "    Args:\n",
    "        img_path (str) : image path directory \n",
    "        attr_path (str) : celebA attribute file path (ex: list_attr_celeba.txt)\n",
    "        out_dir (str) : Path where the split data to be saved\n",
    "        split (string) : split the dataset depends on the split attribute(train, valid, and test)\n",
    "    \"\"\"\n",
    "    # as per the author's citation, we are splitting the dataset\n",
    "    train_beg = 0  # train starts from\n",
    "    valid_beg = 162770  # valid starts from\n",
    "    test_beg = 182610  # test starts from\n",
    "    \n",
    "    label_file = open(attr_path, 'r')\n",
    "    label_file = label_file.readlines()\n",
    "    \n",
    "    # skipping the first two rows for header\n",
    "    total_samples = len(label_file) - 2\n",
    "    if split == 'train':\n",
    "        number_samples = valid_beg - train_beg\n",
    "        beg = train_beg\n",
    "    \n",
    "    elif split == 'valid':\n",
    "        number_samples = test_beg - valid_beg\n",
    "        beg = valid_beg\n",
    "    \n",
    "    elif split == 'test':\n",
    "        number_samples = total_samples - test_beg\n",
    "        beg = test_beg\n",
    "    else:\n",
    "        print('Error')\n",
    "        return\n",
    "    \n",
    "    if not os.path.exists(out_dir):\n",
    "        os.makedirs(out_dir)\n",
    "    \n",
    "    for i in range(beg + 2, beg + number_samples + 2):\n",
    "        temp = label_file[i].strip().split()\n",
    "        src_dir = os.path.join(img_path,temp[0])\n",
    "        dst_dir = os.path.join(out_dir,temp[0])\n",
    "        shutil.copy(src_dir, dst_dir)\n",
    "    print(\"splitting completed\")\n",
    "        "
   ]
  },
  {
   "attachments": {},
   "cell_type": "markdown",
   "metadata": {},
   "source": [
    "### 2. Train Attribute Classifier\n",
    "\n",
    "Let's start with importing basic modules for GPU first."
   ]
  },
  {
   "cell_type": "code",
   "execution_count": null,
   "metadata": {},
   "outputs": [],
   "source": [
    "from nnabla.ext_utils import get_extension_context\n",
    "ctx = get_extension_context('cudnn')\n",
    "nn.set_default_context(ctx)"
   ]
  },
  {
   "attachments": {},
   "cell_type": "markdown",
   "metadata": {},
   "source": [
    "#### Now let's run Attribute Classifier \n",
    "\n",
    "For training Attribute Classifier, we have taken [ResNet-50](https://nnabla.org/pretrained-models/nnp_models/imagenet/Resnet-50/Resnet-50.nnp) pretrained on [ImageNet](https://image-net.org/) as the base architecture. We replaced the linear layer in ResNet with two linear layers with the hidden layer of size 2048. Dropout and ReLU are applied between these. We train all models with binary cross entropy loss for 20 epochs with a batch size of 32. We use the [Adam](https://arxiv.org/abs/1412.6980) optimizer with a learning rate of 1e-3.\n",
    "\n",
    "\n",
    "We have trained the Attribute Classifier and saved model with best accuracy on validation set. If you want to train the baseline Attribute Classifier from the scratch please refer to our GitHub page and follow the steps.\n",
    "\n",
    "\n",
    "Now let us get the pre-trained weights for the classifier and load the model. Then we shall check model fairness.\n"
   ]
  },
  {
   "cell_type": "code",
   "execution_count": null,
   "metadata": {},
   "outputs": [],
   "source": [
    "# download the celeba dataset and unzip\n",
    "URL = \"https://www.dropbox.com/s/d1kjpkqklf0uw77/celeba.zip?dl=0\"\n",
    "ZIP_FILE= \"./data/celeba.zip\"\n",
    "!mkdir -p ./data/\n",
    "!wget -N $URL -O $ZIP_FILE\n",
    "!unzip $ZIP_FILE -d ./data/\n",
    "!rm $ZIP_FILE"
   ]
  },
  {
   "cell_type": "code",
   "execution_count": null,
   "metadata": {},
   "outputs": [],
   "source": [
    "# download the pre-trained weights\n",
    "!wget https://nnabla.org/pretrained-models/nnabla-examples/responsible_ai/gan_data_debiased/baseline.h5\n",
    "!wget https://nnabla.org/pretrained-models/nnabla-examples/responsible_ai/gan_data_debiased/val_baseline.pkl"
   ]
  },
  {
   "cell_type": "code",
   "execution_count": null,
   "metadata": {},
   "outputs": [],
   "source": [
    "nn.clear_parameters()\n",
    "\n",
    "attribute_classifier_model = clf.attribute_classifier(model_load_path=r'baseline.h5')\n",
    "# split the dataset\n",
    "split_celeba_dataset(r'./data/celeba/images', r'./data/celeba/list_attr_celeba.txt', r'./test',split=\"test\")\n",
    "# load dataloader\n",
    "\n",
    "test = data_iterator_celeba(img_path= r'./test',\n",
    "                            attr_path= r'./data/celeba/list_attr_celeba.txt',\n",
    "                            batch_size=32, target_attribute=1, protected_attribute=20)\n",
    "cal_thresh = pickle.load(open(r'val_baseline.pkl', 'rb'))['cal_thresh']"
   ]
  },
  {
   "attachments": {},
   "cell_type": "markdown",
   "metadata": {},
   "source": [
    "### Compute Attribute classifier fairness\n",
    "\n",
    "\n",
    "Let's start our investigation of classifier model fairness by analyzing the predictions made on test set. In this tutorial, we use average precission (AP) metric to measure classifier accuracy and three metrics to compute model fairness. First, we measure the [difference in equality of opportunity](https://arxiv.org/abs/2004.01355) (DEO), i.e. the absolute difference in False Negative Rate (FNR) for protected attribute group. As our second fairness metric, we use the [bias amplification](https://arxiv.org/abs/2102.12594) (BA) metric proposed by Wang and Russakovsky. Intuitively, BA measures how much more often a target attribute is predicted with a protected attribute than the ground truth value. Both DEO and BA fluctuate based on the chosen classification threshold. Therefore, as our final fairness metric, we use a threshold-invariant metric that measures the divergence between score distributions [(KL)](https://arxiv.org/abs/2006.10667).\n"
   ]
  },
  {
   "cell_type": "code",
   "execution_count": null,
   "metadata": {},
   "outputs": [],
   "source": [
    "test_targets, test_scores = attribute_classifier_model.get_scores(test)\n",
    "test_pred = np.where(test_scores > cal_thresh, 1, 0)\n",
    "\n",
    "ap = utils.get_average_precision(test_targets[:, 0], test_scores)\n",
    "deo = utils.get_difference_equality_opportunity(test_targets[:, 1],\n",
    "                                                     test_targets[:, 0], test_pred)\n",
    "ba = utils.get_bias_amplification(test_targets[:, 1],\n",
    "                                     test_targets[:, 0], test_pred)\n",
    "kl = utils.get_kl_divergence(test_targets[:, 1], test_targets[:, 0], test_scores)\n",
    "\n",
    "print('Test results: ')\n",
    "print('AP : {:.1f}', 100 * ap)\n",
    "print('DEO : {:.1f}', 100 * deo)\n",
    "print('BA : {:.1f}', 100 * ba)\n",
    "print('KL : {:.1f}', kl)"
   ]
  },
  {
   "attachments": {},
   "cell_type": "markdown",
   "metadata": {
    "id": "gN0d3T0SHWn0"
   },
   "source": [
    "### 3. Mitigate the bias using GAN's Latent Space De-biasing\n",
    "\n",
    "---\n",
    "\n",
    "\n",
    "\n",
    "---\n",
    "\n",
    "\n",
    "\n",
    "As mentioned earlier in this notebook, to debias the dataset we need to generate a balanced synthetic dataset.\n",
    "\n",
    "\n",
    "To generate images, we use a Progressive GAN from nnabla-examples page. This is with 512-D latent space trained on the CelebA dataset. We use 10000 synthetic images, labeled with baseline attribute classifiers and learn hyperplanes (for both target and protected ht, hg) in the latent space with scikit-learn’s linear SVM implementation.\n",
    "\n",
    "\n",
    "In this tutorial, Progressive GAN training is skipped intentionally. Please refer to our [GitHub page](https://github.com/sony/nnabla-examples/tree/master/GANs/pggan) for more info if you are interested in training PG GAN.\n",
    "\n"
   ]
  },
  {
   "attachments": {},
   "cell_type": "markdown",
   "metadata": {},
   "source": [
    "\n",
    "### 4. Train Attribute classifier with debiased dataset\n",
    "Well!\n",
    "Now we can train Attribute Classifier using both balanced synthetic dataset and original dataset. If you want to train the GAN-debiased model from the scratch please refer to our GitHub page and follow the steps.\n",
    "\n",
    "\n",
    "Let's get pre-trained weights of GAN-debiased model and check model fairness."
   ]
  },
  {
   "cell_type": "code",
   "execution_count": null,
   "metadata": {},
   "outputs": [],
   "source": [
    "# download the pre-trained weights\n",
    "!wget https://nnabla.org/pretrained-models/nnabla-examples/responsible_ai/gan_data_debiased/gan_data_debised.h5\n",
    "!wget https://nnabla.org/pretrained-models/nnabla-examples/responsible_ai/gan_data_debiased/val_gan_data_debised.pkl"
   ]
  },
  {
   "cell_type": "code",
   "execution_count": null,
   "metadata": {
    "colab": {
     "base_uri": "https://localhost:8080/"
    },
    "executionInfo": {
     "elapsed": 12210,
     "status": "ok",
     "timestamp": 1645491715512,
     "user": {
      "displayName": "Toya Teramoto",
      "photoUrl": "https://lh3.googleusercontent.com/a-/AOh14Ggd4BkCoIzWBFRojVmpN4xbcLZYlVk4m4iXZHk2=s64",
      "userId": "00439026895970972334"
     },
     "user_tz": -540
    },
    "id": "PFxaFeNoHWn1",
    "outputId": "8a9cfd82-8554-48ed-f5b1-1b3028f8cc34"
   },
   "outputs": [],
   "source": [
    "nn.clear_parameters()\n",
    "attribute_classifier_debiased_model = clf.attribute_classifier(model_load_path=r'gan_data_debised.h5')\n",
    "cal_thresh = pickle.load(open(r'val_gan_data_debised.pkl', 'rb'))['cal_thresh']"
   ]
  },
  {
   "attachments": {},
   "cell_type": "markdown",
   "metadata": {},
   "source": [
    "### Compute Fairness "
   ]
  },
  {
   "cell_type": "code",
   "execution_count": null,
   "metadata": {},
   "outputs": [],
   "source": [
    "test_targets, test_scores = attribute_classifier_debiased_model.get_scores(test)\n",
    "test_pred = np.where(test_scores > cal_thresh, 1, 0)\n",
    "\n",
    "ap = utils.get_average_precision(test_targets[:, 0], test_scores)\n",
    "deo = utils.get_difference_equality_opportunity(test_targets[:, 1],\n",
    "                                                     test_targets[:, 0], test_pred)\n",
    "ba = utils.get_bias_amplification(test_targets[:, 1],\n",
    "                                     test_targets[:, 0], test_pred)\n",
    "kl = utils.get_kl_divergence(test_targets[:, 1], test_targets[:, 0], test_scores)\n",
    "\n",
    "print('Test results: ')\n",
    "print('AP : {:.1f}', 100 * ap)\n",
    "print('DEO : {:.1f}', 100 * deo)\n",
    "print('BA : {:.1f}', 100 * ba)\n",
    "print('KL : {:.1f}', kl)"
   ]
  },
  {
   "attachments": {},
   "cell_type": "markdown",
   "metadata": {},
   "source": [
    "If you observe above results with four metrics, GAN-debiased model performs better on all three fairness metrics: DEO, BA, and KL Divergence, while maintaining comparable AP over the baseline `Arched Brows` Classifier."
   ]
  },
  {
   "attachments": {},
   "cell_type": "markdown",
   "metadata": {},
   "source": [
    "### 5. Summary\n",
    "\n",
    "In this tutorial, we have shown how GAN-based data augmentation method could be employed to train a fairer Attribute Classifier in the presense of correlation between target label (Arched eyebrows) and a protected attribute (Gender Expression). In the same way, you may try different attribute classifiers. If there is bias in baseline Attribute Classifier model, try to balance the training data with an approach like GAN for data augmentation. To train different attribute classifiers, please refer to our GitHub page and follow the steps."
   ]
  },
  {
   "attachments": {},
   "cell_type": "markdown",
   "metadata": {},
   "source": [
    "### References\n",
    "1. Ramaswamy, Vikram V., Sunnie SY Kim, and Olga Russakovsky. \"Fair attribute classification through latent space de-biasing.\" Proceedings of the IEEE/CVF Conference on Computer Vision and Pattern Recognition. 2021\n",
    "2. Goodfellow, Ian, et al. \"Generative adversarial nets.\" Advances in neural information processing systems 27 (2014).\n",
    "3. Liu, Ziwei, et al. \"Large-scale celebfaces attributes (celeba) dataset.\" Retrieved August 15.2018 (2018): 11.\n",
    "4. Kingma, Diederik P., and Jimmy Ba. \"Adam: A method for stochastic optimization.\" arXiv preprint arXiv:1412.6980 (2014).\n",
    "5. Lokhande, Vishnu Suresh, et al. \"Fairalm: Augmented lagrangian method for training fair models with little regret.\" European Conference on Computer Vision. Springer, Cham, 2020.\n",
    "6. Wang, Angelina, and Olga Russakovsky. \"Directional bias amplification.\" International Conference on Machine Learning. PMLR, 2021.\n",
    "7. Chen, Mingliang, and Min Wu. \"Towards threshold invariant fair classification.\" Conference on Uncertainty in Artificial Intelligence. PMLR, 2020."
   ]
  }
 ],
 "metadata": {
  "accelerator": "GPU",
  "colab": {
   "collapsed_sections": [],
   "name": "gan_data_debiasing.ipynb",
   "provenance": []
  },
  "kernelspec": {
   "display_name": "Python 3",
   "language": "python",
   "name": "python3"
  },
  "language_info": {
   "codemirror_mode": {
    "name": "ipython",
    "version": 3
   },
   "file_extension": ".py",
   "mimetype": "text/x-python",
   "name": "python",
   "nbconvert_exporter": "python",
   "pygments_lexer": "ipython3",
   "version": "3.7.3"
  }
 },
 "nbformat": 4,
 "nbformat_minor": 5
}
