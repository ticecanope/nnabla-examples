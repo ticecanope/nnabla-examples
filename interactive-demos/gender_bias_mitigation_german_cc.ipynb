{
 "cells": [
  {
   "cell_type": "markdown",
   "metadata": {
    "id": "22v9XvLuurIg"
   },
   "source": [
    "## Introduction of Fairness Workflow Tutorial \n",
    "## (Dataset/Model Bias Check and Mitigation by Reweighing)"
   ]
  },
  {
   "cell_type": "markdown",
   "metadata": {
    "id": "8vWpgeoFurIi"
   },
   "source": [
    "### Table of contents :\n",
    "* [1 Introduction](#1.-Introduction)\n",
    "* [2. Data preparation](#2.-Data-preparation)\n",
    "* [3. Data fairness](#3.-Data-fairness)\n",
    "\t* [Data bias checking](#3.1-Bias-Detection)\n",
    "    * [Data mitigation](#3.2-Bias-mitigation)\n",
    "    * [Data-Fairness-comparison](#3.3-Data-Fairness-comparison) \n",
    "* [4. Model fairness on different ML models](#4.-Model-Fairness---on-different-ML-models)\n",
    "* [5. Summary](#Summary)"
   ]
  },
  {
   "cell_type": "markdown",
   "metadata": {
    "id": "huYeszmourIj"
   },
   "source": [
    "## 1. Introduction\n",
    "\n",
    "Welcome! \n",
    "\n",
    "With the proliferation of ML and AI across diverse set of real world problems, there is strong need to keep an eye on explainability and fairness of the impact of ML-AI techniques. This tutorial is one such attempt, offering glimpse into the world of fairness. \n",
    "\n",
    "We will walk you through an interesting case study in this tutorial. The aim is to familiarize you with one of the primary problem statements in Responsible AI: `Bias Detection and Mitigation`.\n",
    "\n",
    "Bias is one of the basic problems which plagues datasets and ML models. After all, ML models are only as good as the data they see. \n",
    "\n",
    "Before we go into detailed explanation, we would like to give a sneak peak of the steps involved in the bias detection and mitigation process.\n",
    "\n",
    "As illustrated in the picture, one must first prepare the data for analysis, detect bias, mitigate bias and observe the effect of bias mitigation objectively with data fairness and model fairness metrics."
   ]
  },
  {
   "cell_type": "code",
   "execution_count": 1,
   "metadata": {
    "colab": {
     "base_uri": "https://localhost:8080/",
     "height": 383
    },
    "id": "cMgyV09sTkE6",
    "outputId": "d86e2bdc-fa7d-4575-f8e2-eae6ca893808"
   },
   "outputs": [],
   "source": [
    "# Preparation\n",
    "!git clone https://github.com/sony/nnabla-examples.git\n",
    "%cd nnabla-examples/responsible_ai/gender_bias_mitigation\n",
    "\n",
    "import cv2\n",
    "from google.colab.patches import cv2_imshow\n",
    "img = cv2.imread('images/xai-bias-mitigation-workflow.png')\n",
    "cv2_imshow(img)"
   ]
  },
  {
   "cell_type": "markdown",
   "metadata": {
    "id": "yasTq1dGurIj"
   },
   "source": [
    "### 1.1 Sources of bias :\n",
    "There are many types of bias in data, which can exist in many shapes and forms, some of which may lead to unfairness [1]. \n",
    "\n",
    "Following are some examples of sources which introduce bias in datasets:\n",
    "\n",
    "__Insufficient data :__ \n",
    "There may not be sufficient data overall or for some minority groups in the training data.<br>\n",
    "\n",
    "__Data collection practice :__ \n",
    "Bad data collection practices could introduce bias even for large datasets. For example, high proportion of missing values for few features in some groups - indication of incomplete representation of these groups in the dataset.<br>\n",
    "\n",
    "__Historical bias :__ \n",
    "Significant difference in the target distribution for different groups could also be present due to underlying human prejudices."
   ]
  },
  {
   "cell_type": "markdown",
   "metadata": {
    "id": "hA89nRCLurIj"
   },
   "source": [
    "### 1.2 Bias detection :\n",
    "There are multiple definitions of fairness and bias. Depending on the use case, appropriate fairness definition must be chosen to decide the criterion to detect bias in the model predictions. \n",
    "<br>\n",
    "\n",
    "### 1.3 Bias mitigation :\n",
    "There are three different approaches of bias-reduction intervention in the ML pipelines: \n",
    "1. Pre-processing\n",
    "2. In-processing \n",
    "3. Post-processing\n",
    "\n",
    "In this tutorial, we will see how to identify bias in [German credit dataset ](https://archive.ics.uci.edu/ml/datasets/Statlog+%28German+Credit+Data%29)[7] and mitigate it with a `pre-processing algorithm (reweighing)`.<br>"
   ]
  },
  {
   "cell_type": "markdown",
   "metadata": {
    "id": "IHZKgk2FurIk"
   },
   "source": [
    "### 1.4 German credit dataset :\n",
    "[German Credit dataset](https://archive.ics.uci.edu/ml/datasets/Statlog+%28German+Credit+Data%29) has classification of people into good/bad credit categories. It has 1000 instances and 20 features.\n",
    "\n",
    "In this dataset, one may observe age/gender playing significant role in the prediction of credit risk label. Instances with one gender may be favored and other gender[s] may be discriminated against by ML models. \n",
    "\n",
    "So, we must be aware of the following: <br>\n",
    "* Training dataset may not be representative of the true population across age/gender groups\n",
    "* Even if it is representative of the population, it is not fair to base any decision on applicant's age/gender\n",
    "\n",
    "Let us get our hands dirty with the dataset. We shall determine presence of such biases in this dataset, try using a preprocessing algorithm to mitigate the bias and then evaluate model and data fairness."
   ]
  },
  {
   "cell_type": "code",
   "execution_count": 2,
   "metadata": {
    "id": "yVKLsbemurIk"
   },
   "outputs": [
    {
     "name": "stderr",
     "output_type": "stream",
     "text": [
      "C:\\Users\\7000030346\\Anaconda3\\envs\\xai\\lib\\site-packages\\statsmodels\\tools\\_testing.py:19: FutureWarning: pandas.util.testing is deprecated. Use the functions in the public API at pandas.testing instead.\n",
      "  import pandas.util.testing as tm\n"
     ]
    }
   ],
   "source": [
    "import sys\n",
    "import copy\n",
    "import pandas as pd # for tabular data\n",
    "\n",
    "import matplotlib.pyplot as plt # to plot charts\n",
    "import seaborn as sns # to make pretty charts\n",
    "from collections import defaultdict\n",
    "import numpy as np # for math\n",
    "\n",
    "# # sklearn to work with ML models, splitting the train-test data as well as imported metrics \n",
    "from sklearn.preprocessing import StandardScaler\n",
    "from sklearn.tree import DecisionTreeClassifier\n",
    "from sklearn.linear_model import LogisticRegression\n",
    "from sklearn.ensemble import RandomForestClassifier\n",
    "from sklearn.svm import SVC\n",
    "from xgboost import XGBClassifier\n",
    "from sklearn.metrics import accuracy_score,confusion_matrix,roc_curve, auc\n",
    "sys.path.append('../responsible-ai/gender-bias-mitigation/')\n",
    "from utils import *\n",
    "%matplotlib inline"
   ]
  },
  {
   "cell_type": "markdown",
   "metadata": {
    "id": "fZdErNVRurIl"
   },
   "source": [
    "## 2. Data preparation\n",
    "#### Load dataset\n",
    "First, let’s load [dataset](https://archive.ics.uci.edu/ml/machine-learning-databases/statlog/german/german.data). Column names as listed in [`german.doc`](https://archive.ics.uci.edu/ml/machine-learning-databases/statlog/german/german.doc)"
   ]
  },
  {
   "cell_type": "code",
   "execution_count": 3,
   "metadata": {
    "colab": {
     "base_uri": "https://localhost:8080/",
     "height": 224
    },
    "id": "qCX_P-HGurIm",
    "outputId": "0381c349-200e-4127-d771-d7c431f60f32"
   },
   "outputs": [
    {
     "data": {
      "text/html": [
       "<div>\n",
       "<style scoped>\n",
       "    .dataframe tbody tr th:only-of-type {\n",
       "        vertical-align: middle;\n",
       "    }\n",
       "\n",
       "    .dataframe tbody tr th {\n",
       "        vertical-align: top;\n",
       "    }\n",
       "\n",
       "    .dataframe thead th {\n",
       "        text-align: right;\n",
       "    }\n",
       "</style>\n",
       "<table border=\"1\" class=\"dataframe\">\n",
       "  <thead>\n",
       "    <tr style=\"text-align: right;\">\n",
       "      <th></th>\n",
       "      <th>status</th>\n",
       "      <th>month</th>\n",
       "      <th>credit_history</th>\n",
       "      <th>purpose</th>\n",
       "      <th>credit_amount</th>\n",
       "      <th>savings</th>\n",
       "      <th>employment</th>\n",
       "      <th>investment_as_income_percentage</th>\n",
       "      <th>personal_status</th>\n",
       "      <th>other_debtors</th>\n",
       "      <th>...</th>\n",
       "      <th>property</th>\n",
       "      <th>age</th>\n",
       "      <th>installment_plans</th>\n",
       "      <th>housing</th>\n",
       "      <th>number_of_credits</th>\n",
       "      <th>skill_level</th>\n",
       "      <th>people_liable_for</th>\n",
       "      <th>telephone</th>\n",
       "      <th>foreign_worker</th>\n",
       "      <th>credit</th>\n",
       "    </tr>\n",
       "  </thead>\n",
       "  <tbody>\n",
       "    <tr>\n",
       "      <th>0</th>\n",
       "      <td>A11</td>\n",
       "      <td>6</td>\n",
       "      <td>A34</td>\n",
       "      <td>A43</td>\n",
       "      <td>1169</td>\n",
       "      <td>A65</td>\n",
       "      <td>A75</td>\n",
       "      <td>4</td>\n",
       "      <td>A93</td>\n",
       "      <td>A101</td>\n",
       "      <td>...</td>\n",
       "      <td>A121</td>\n",
       "      <td>67</td>\n",
       "      <td>A143</td>\n",
       "      <td>A152</td>\n",
       "      <td>2</td>\n",
       "      <td>A173</td>\n",
       "      <td>1</td>\n",
       "      <td>A192</td>\n",
       "      <td>A201</td>\n",
       "      <td>1</td>\n",
       "    </tr>\n",
       "    <tr>\n",
       "      <th>1</th>\n",
       "      <td>A12</td>\n",
       "      <td>48</td>\n",
       "      <td>A32</td>\n",
       "      <td>A43</td>\n",
       "      <td>5951</td>\n",
       "      <td>A61</td>\n",
       "      <td>A73</td>\n",
       "      <td>2</td>\n",
       "      <td>A92</td>\n",
       "      <td>A101</td>\n",
       "      <td>...</td>\n",
       "      <td>A121</td>\n",
       "      <td>22</td>\n",
       "      <td>A143</td>\n",
       "      <td>A152</td>\n",
       "      <td>1</td>\n",
       "      <td>A173</td>\n",
       "      <td>1</td>\n",
       "      <td>A191</td>\n",
       "      <td>A201</td>\n",
       "      <td>2</td>\n",
       "    </tr>\n",
       "    <tr>\n",
       "      <th>2</th>\n",
       "      <td>A14</td>\n",
       "      <td>12</td>\n",
       "      <td>A34</td>\n",
       "      <td>A46</td>\n",
       "      <td>2096</td>\n",
       "      <td>A61</td>\n",
       "      <td>A74</td>\n",
       "      <td>2</td>\n",
       "      <td>A93</td>\n",
       "      <td>A101</td>\n",
       "      <td>...</td>\n",
       "      <td>A121</td>\n",
       "      <td>49</td>\n",
       "      <td>A143</td>\n",
       "      <td>A152</td>\n",
       "      <td>1</td>\n",
       "      <td>A172</td>\n",
       "      <td>2</td>\n",
       "      <td>A191</td>\n",
       "      <td>A201</td>\n",
       "      <td>1</td>\n",
       "    </tr>\n",
       "    <tr>\n",
       "      <th>3</th>\n",
       "      <td>A11</td>\n",
       "      <td>42</td>\n",
       "      <td>A32</td>\n",
       "      <td>A42</td>\n",
       "      <td>7882</td>\n",
       "      <td>A61</td>\n",
       "      <td>A74</td>\n",
       "      <td>2</td>\n",
       "      <td>A93</td>\n",
       "      <td>A103</td>\n",
       "      <td>...</td>\n",
       "      <td>A122</td>\n",
       "      <td>45</td>\n",
       "      <td>A143</td>\n",
       "      <td>A153</td>\n",
       "      <td>1</td>\n",
       "      <td>A173</td>\n",
       "      <td>2</td>\n",
       "      <td>A191</td>\n",
       "      <td>A201</td>\n",
       "      <td>1</td>\n",
       "    </tr>\n",
       "    <tr>\n",
       "      <th>4</th>\n",
       "      <td>A11</td>\n",
       "      <td>24</td>\n",
       "      <td>A33</td>\n",
       "      <td>A40</td>\n",
       "      <td>4870</td>\n",
       "      <td>A61</td>\n",
       "      <td>A73</td>\n",
       "      <td>3</td>\n",
       "      <td>A93</td>\n",
       "      <td>A101</td>\n",
       "      <td>...</td>\n",
       "      <td>A124</td>\n",
       "      <td>53</td>\n",
       "      <td>A143</td>\n",
       "      <td>A153</td>\n",
       "      <td>2</td>\n",
       "      <td>A173</td>\n",
       "      <td>2</td>\n",
       "      <td>A191</td>\n",
       "      <td>A201</td>\n",
       "      <td>2</td>\n",
       "    </tr>\n",
       "  </tbody>\n",
       "</table>\n",
       "<p>5 rows × 21 columns</p>\n",
       "</div>"
      ],
      "text/plain": [
       "  status  month credit_history purpose  credit_amount savings employment  \\\n",
       "0    A11      6            A34     A43           1169     A65        A75   \n",
       "1    A12     48            A32     A43           5951     A61        A73   \n",
       "2    A14     12            A34     A46           2096     A61        A74   \n",
       "3    A11     42            A32     A42           7882     A61        A74   \n",
       "4    A11     24            A33     A40           4870     A61        A73   \n",
       "\n",
       "   investment_as_income_percentage personal_status other_debtors  ...  \\\n",
       "0                                4             A93          A101  ...   \n",
       "1                                2             A92          A101  ...   \n",
       "2                                2             A93          A101  ...   \n",
       "3                                2             A93          A103  ...   \n",
       "4                                3             A93          A101  ...   \n",
       "\n",
       "   property age  installment_plans housing number_of_credits  skill_level  \\\n",
       "0      A121  67               A143    A152                 2         A173   \n",
       "1      A121  22               A143    A152                 1         A173   \n",
       "2      A121  49               A143    A152                 1         A172   \n",
       "3      A122  45               A143    A153                 1         A173   \n",
       "4      A124  53               A143    A153                 2         A173   \n",
       "\n",
       "  people_liable_for  telephone foreign_worker credit  \n",
       "0                 1       A192           A201      1  \n",
       "1                 1       A191           A201      2  \n",
       "2                 2       A191           A201      1  \n",
       "3                 2       A191           A201      1  \n",
       "4                 2       A191           A201      2  \n",
       "\n",
       "[5 rows x 21 columns]"
      ]
     },
     "execution_count": 3,
     "metadata": {},
     "output_type": "execute_result"
    }
   ],
   "source": [
    "filepath = r'https://archive.ics.uci.edu/ml/machine-learning-databases/statlog/german/german.data'\n",
    "dataframe = load_dataset(filepath)\n",
    "dataframe.head()"
   ]
  },
  {
   "cell_type": "markdown",
   "metadata": {
    "id": "aiL73VJCurIm"
   },
   "source": [
    "Interesting! The dataframe has discrete numerical values and some encoded representations.\n",
    "Let us quickly sift through features/attributes in this dataset.\n",
    "\n",
    "##### Number of attributes/features : \n",
    "This dataset has a total of 20 (7 numerical + 13 categorical) attributes/features.\n",
    "\n",
    "##### [Categorical attributes/features](https://en.wikipedia.org/wiki/Categorical_variable): \n",
    "13 categorical features: 'status', 'credit_history', 'purpose', 'savings', 'employment', 'personal_status', 'other_debtors', 'property', 'installment_plans', 'housing', 'skill_level', 'telephone', 'foreign_worker' <br>\n",
    "\n",
    "##### Numerical attributes/features : \n",
    "Seven numerical features: 'month', 'credit_amount', 'investment_as_income_percentage', 'residence_since', 'age', 'number_of_credits' and 'people_liable_for'. <br>\n",
    "\n",
    "##### [Target variable](https://en.wikipedia.org/wiki/Dependent_and_independent_variables#:~:text=Known%20values%20for%20the%20target,but%20not%20in%20unsupervised%20learning.) : \n",
    "Credit coloumn represents target variable in this dataset. It has classification of good or bad credit label (good credit = 1, bad credit= 2). <br>"
   ]
  },
  {
   "cell_type": "markdown",
   "metadata": {
    "id": "BJ9bJ0xIurIn"
   },
   "source": [
    "#### Nomenclature and properties relevant to Bias Detection and mitigation\n",
    "\n",
    "Allow us to introduce some terms related to `bias detection and mitigation` in the context of dataset now.\n",
    "\n",
    "##### Favourable & Unfavourable class :\n",
    "Target values which are considered to be positive(good) may be called favourable class. The opposite may be called unfavourable class.\n",
    "\n",
    "##### Protected attributes :\n",
    "An attribute that partitions a population into groups with parity. Examples include race, gender, caste, and religion. Protected attributes are not universal, but are application specific [protected attributes](https://www.fairwork.gov.au/employee-entitlements/protections-at-work/protection-from-discrimination-at-work). Age and gender are the protected attributes in this dataset. <br>\n",
    "\n",
    "##### Privileged class & Unprivileged class :\n",
    "* Class in the protected attribute with majority is called privileged class. \n",
    "* The opposite is called unprivileged class.<br>"
   ]
  },
  {
   "cell_type": "markdown",
   "metadata": {
    "id": "6S7pSvPxurIn"
   },
   "source": [
    "#### Dataset specific preprocessing\n",
    "Data preprocessing in machine learning is a crucial step that helps enhance the quality of data to promote the extraction of meaningful insights from the data. \n",
    "\n",
    "For now let us specify the data specific preprocessing arguments to enhance the quality of data, for Ex: what is favourable & unfavourable labels, Protected attributes, privileged & unprivileged class ...etc to process the dataset."
   ]
  },
  {
   "cell_type": "code",
   "execution_count": 4,
   "metadata": {
    "colab": {
     "base_uri": "https://localhost:8080/",
     "height": 224
    },
    "id": "UaF6cEDrurIn",
    "outputId": "cb04ec71-3019-45ce-ff3e-7cd5e9fa870e"
   },
   "outputs": [
    {
     "data": {
      "text/html": [
       "<div>\n",
       "<style scoped>\n",
       "    .dataframe tbody tr th:only-of-type {\n",
       "        vertical-align: middle;\n",
       "    }\n",
       "\n",
       "    .dataframe tbody tr th {\n",
       "        vertical-align: top;\n",
       "    }\n",
       "\n",
       "    .dataframe thead th {\n",
       "        text-align: right;\n",
       "    }\n",
       "</style>\n",
       "<table border=\"1\" class=\"dataframe\">\n",
       "  <thead>\n",
       "    <tr style=\"text-align: right;\">\n",
       "      <th></th>\n",
       "      <th>month</th>\n",
       "      <th>credit_amount</th>\n",
       "      <th>investment_as_income_percentage</th>\n",
       "      <th>residence_since</th>\n",
       "      <th>age</th>\n",
       "      <th>number_of_credits</th>\n",
       "      <th>people_liable_for</th>\n",
       "      <th>credit</th>\n",
       "      <th>gender</th>\n",
       "      <th>status=A11</th>\n",
       "      <th>...</th>\n",
       "      <th>housing=A152</th>\n",
       "      <th>housing=A153</th>\n",
       "      <th>skill_level=A171</th>\n",
       "      <th>skill_level=A172</th>\n",
       "      <th>skill_level=A173</th>\n",
       "      <th>skill_level=A174</th>\n",
       "      <th>telephone=A191</th>\n",
       "      <th>telephone=A192</th>\n",
       "      <th>foreign_worker=A201</th>\n",
       "      <th>foreign_worker=A202</th>\n",
       "    </tr>\n",
       "  </thead>\n",
       "  <tbody>\n",
       "    <tr>\n",
       "      <th>0</th>\n",
       "      <td>6</td>\n",
       "      <td>1169</td>\n",
       "      <td>4</td>\n",
       "      <td>4</td>\n",
       "      <td>67</td>\n",
       "      <td>2</td>\n",
       "      <td>1</td>\n",
       "      <td>1</td>\n",
       "      <td>1</td>\n",
       "      <td>1</td>\n",
       "      <td>...</td>\n",
       "      <td>1</td>\n",
       "      <td>0</td>\n",
       "      <td>0</td>\n",
       "      <td>0</td>\n",
       "      <td>1</td>\n",
       "      <td>0</td>\n",
       "      <td>0</td>\n",
       "      <td>1</td>\n",
       "      <td>1</td>\n",
       "      <td>0</td>\n",
       "    </tr>\n",
       "    <tr>\n",
       "      <th>1</th>\n",
       "      <td>48</td>\n",
       "      <td>5951</td>\n",
       "      <td>2</td>\n",
       "      <td>2</td>\n",
       "      <td>22</td>\n",
       "      <td>1</td>\n",
       "      <td>1</td>\n",
       "      <td>0</td>\n",
       "      <td>0</td>\n",
       "      <td>0</td>\n",
       "      <td>...</td>\n",
       "      <td>1</td>\n",
       "      <td>0</td>\n",
       "      <td>0</td>\n",
       "      <td>0</td>\n",
       "      <td>1</td>\n",
       "      <td>0</td>\n",
       "      <td>1</td>\n",
       "      <td>0</td>\n",
       "      <td>1</td>\n",
       "      <td>0</td>\n",
       "    </tr>\n",
       "    <tr>\n",
       "      <th>2</th>\n",
       "      <td>12</td>\n",
       "      <td>2096</td>\n",
       "      <td>2</td>\n",
       "      <td>3</td>\n",
       "      <td>49</td>\n",
       "      <td>1</td>\n",
       "      <td>2</td>\n",
       "      <td>1</td>\n",
       "      <td>1</td>\n",
       "      <td>0</td>\n",
       "      <td>...</td>\n",
       "      <td>1</td>\n",
       "      <td>0</td>\n",
       "      <td>0</td>\n",
       "      <td>1</td>\n",
       "      <td>0</td>\n",
       "      <td>0</td>\n",
       "      <td>1</td>\n",
       "      <td>0</td>\n",
       "      <td>1</td>\n",
       "      <td>0</td>\n",
       "    </tr>\n",
       "    <tr>\n",
       "      <th>3</th>\n",
       "      <td>42</td>\n",
       "      <td>7882</td>\n",
       "      <td>2</td>\n",
       "      <td>4</td>\n",
       "      <td>45</td>\n",
       "      <td>1</td>\n",
       "      <td>2</td>\n",
       "      <td>1</td>\n",
       "      <td>1</td>\n",
       "      <td>1</td>\n",
       "      <td>...</td>\n",
       "      <td>0</td>\n",
       "      <td>1</td>\n",
       "      <td>0</td>\n",
       "      <td>0</td>\n",
       "      <td>1</td>\n",
       "      <td>0</td>\n",
       "      <td>1</td>\n",
       "      <td>0</td>\n",
       "      <td>1</td>\n",
       "      <td>0</td>\n",
       "    </tr>\n",
       "    <tr>\n",
       "      <th>4</th>\n",
       "      <td>24</td>\n",
       "      <td>4870</td>\n",
       "      <td>3</td>\n",
       "      <td>4</td>\n",
       "      <td>53</td>\n",
       "      <td>2</td>\n",
       "      <td>2</td>\n",
       "      <td>0</td>\n",
       "      <td>1</td>\n",
       "      <td>1</td>\n",
       "      <td>...</td>\n",
       "      <td>0</td>\n",
       "      <td>1</td>\n",
       "      <td>0</td>\n",
       "      <td>0</td>\n",
       "      <td>1</td>\n",
       "      <td>0</td>\n",
       "      <td>1</td>\n",
       "      <td>0</td>\n",
       "      <td>1</td>\n",
       "      <td>0</td>\n",
       "    </tr>\n",
       "  </tbody>\n",
       "</table>\n",
       "<p>5 rows × 59 columns</p>\n",
       "</div>"
      ],
      "text/plain": [
       "   month  credit_amount  investment_as_income_percentage  residence_since  \\\n",
       "0      6           1169                                4                4   \n",
       "1     48           5951                                2                2   \n",
       "2     12           2096                                2                3   \n",
       "3     42           7882                                2                4   \n",
       "4     24           4870                                3                4   \n",
       "\n",
       "   age  number_of_credits  people_liable_for  credit gender  status=A11  ...  \\\n",
       "0   67                  2                  1       1      1           1  ...   \n",
       "1   22                  1                  1       0      0           0  ...   \n",
       "2   49                  1                  2       1      1           0  ...   \n",
       "3   45                  1                  2       1      1           1  ...   \n",
       "4   53                  2                  2       0      1           1  ...   \n",
       "\n",
       "   housing=A152  housing=A153  skill_level=A171  skill_level=A172  \\\n",
       "0             1             0                 0                 0   \n",
       "1             1             0                 0                 0   \n",
       "2             1             0                 0                 1   \n",
       "3             0             1                 0                 0   \n",
       "4             0             1                 0                 0   \n",
       "\n",
       "   skill_level=A173  skill_level=A174  telephone=A191  telephone=A192  \\\n",
       "0                 1                 0               0               1   \n",
       "1                 1                 0               1               0   \n",
       "2                 0                 0               1               0   \n",
       "3                 1                 0               1               0   \n",
       "4                 1                 0               1               0   \n",
       "\n",
       "   foreign_worker=A201  foreign_worker=A202  \n",
       "0                    1                    0  \n",
       "1                    1                    0  \n",
       "2                    1                    0  \n",
       "3                    1                    0  \n",
       "4                    1                    0  \n",
       "\n",
       "[5 rows x 59 columns]"
      ]
     },
     "execution_count": 4,
     "metadata": {},
     "output_type": "execute_result"
    }
   ],
   "source": [
    "# To keep it simple, in this tutorial, we shall try to determine whether there is gender bias in the dataset\n",
    "# and mitigate that.\n",
    "protected_attribute_names = ['gender']\n",
    "privileged_classes = [['male']]\n",
    "\n",
    "# derive the gender attribute from personal_status (you can refer the german.doc)\n",
    "status_map = {'A91': 'male', 'A93': 'male', 'A94': 'male',\n",
    "              'A92': 'female', 'A95': 'female'}\n",
    "dataframe['gender'] = dataframe['personal_status'].replace(status_map)\n",
    "\n",
    "# target variable\n",
    "label_name = 'credit'\n",
    "\n",
    "favorable_label = 1.0  # good credit\n",
    "unfavorable_label = 0.0  # bad credit\n",
    "categorical_features = ['status', 'credit_history', 'purpose',\n",
    "                        'savings', 'employment', 'other_debtors', 'property',\n",
    "                        'installment_plans', 'housing', 'skill_level', 'telephone',\n",
    "                        'foreign_worker']\n",
    "features_to_drop = ['personal_status']\n",
    "\n",
    "# dataset specific preprocessing\n",
    "dataframe = preprocess_dataset(dataframe, label_name, protected_attribute_names,\n",
    "                               privileged_classes, favorable_class=favorable_label,\n",
    "                               categorical_features=categorical_features,\n",
    "                               features_to_drop=features_to_drop)\n",
    "dataframe.head()"
   ]
  },
  {
   "cell_type": "markdown",
   "metadata": {
    "id": "VESs7Z_turIo"
   },
   "source": [
    "Split the preprocessed data set into train and test data i.e,how well does the trained model perform on unseen data (test data)?"
   ]
  },
  {
   "cell_type": "code",
   "execution_count": 5,
   "metadata": {
    "id": "ry3rfLN8urIo"
   },
   "outputs": [],
   "source": [
    "train = dataframe.sample(frac=0.7, random_state=0)\n",
    "test = dataframe.drop(train.index)"
   ]
  },
  {
   "cell_type": "markdown",
   "metadata": {
    "id": "TOd9MazaurIo"
   },
   "source": [
    "## 3. Data fairness\n",
    "\n",
    "### 3.1 Bias Detection\n",
    "\n",
    "Before creating ML models, one must first analyze and check for biases in dataset, as mentioned [earlier](#1.2-Bias-detection-:). In this tutorial, we will aim to achieve `Statistical Parity`. Statistical parity is achieved when all segments of protected class (e.g. gender/age) have equal rates of positive outcome.\n",
    "\n",
    "#### 3.1.1 Statistical Parity Difference\n",
    "\n",
    "`Statistical Parity` is checked by computing `Statistical Parity Difference (SPD)`. SPD is the difference between the rate of favorable outcomes received by unprivileged group compared to privileged group. Negative value indicates less favorable outcomes for unprivileged groups.\n",
    "\n",
    "#### 3.1.2 Disparate Impact\n",
    "\n",
    "`Disparate Impact (DI)` is a method for evaluating fairness by comparing the number of positive outcomes between unpriileged and privileged groups. It's calculated by dividing the proportion of positive outcomes for the unpriileged group by that of the privileged group. If the disadvantaged group receives positive outcomes that are less than 80% of the privileged group's proportion, it may indicate a violation. However, you may decide to increase this for your requirment.\n",
    "\n",
    "Please look at the code below to get mathematical idea of SPD and DI. It is ok to skip through follow sections and come back later if you want to understand from holistic perspective:"
   ]
  },
  {
   "cell_type": "code",
   "execution_count": 6,
   "metadata": {
    "id": "qQ1cpUHDurIo"
   },
   "outputs": [],
   "source": [
    "# return `True` if the corresponding row satisfies the `condition` and `False` otherwise\n",
    "def get_condition_vector(X, feature_names, condition=None):\n",
    "    if condition is None:\n",
    "        return np.ones(X.shape[0], dtype=bool)\n",
    "\n",
    "    overall_cond = np.zeros(X.shape[0], dtype=bool)\n",
    "    for group in condition:\n",
    "        group_cond = np.ones(X.shape[0], dtype=bool)\n",
    "        for name, val in group.items():\n",
    "            index = feature_names.index(name)\n",
    "            group_cond = np.logical_and(group_cond, X[:, index] == val)\n",
    "        overall_cond = np.logical_or(overall_cond, group_cond)\n",
    "\n",
    "    return overall_cond"
   ]
  },
  {
   "cell_type": "markdown",
   "metadata": {
    "id": "7RrQjSqfurIo"
   },
   "source": [
    "##### Compute the number of positives"
   ]
  },
  {
   "cell_type": "code",
   "execution_count": 7,
   "metadata": {
    "id": "XU72Cl__urIp"
   },
   "outputs": [],
   "source": [
    "def get_num_pos_neg(X, y, w, feature_names, label, condition=None):\n",
    "    \"\"\"\n",
    "    Returns number of optionally conditioned positives/negatives\n",
    "    \"\"\"\n",
    "\n",
    "    y = y.ravel()\n",
    "    cond_vec = get_condition_vector(X, feature_names, condition=condition)\n",
    "    return np.sum(w[np.logical_and(y == label, cond_vec)], dtype=np.float64)"
   ]
  },
  {
   "cell_type": "markdown",
   "metadata": {
    "id": "0pZ7jxZJurIp"
   },
   "source": [
    "##### Compute the number of instances"
   ]
  },
  {
   "cell_type": "code",
   "execution_count": 8,
   "metadata": {
    "id": "hvgR4TuWurIp"
   },
   "outputs": [],
   "source": [
    "def get_num_instances(X, w, feature_names, condition=None):\n",
    "    cond_vec = get_condition_vector(X, feature_names, condition)\n",
    "\n",
    "    return np.sum(w[cond_vec], dtype=np.float64)"
   ]
  },
  {
   "cell_type": "markdown",
   "metadata": {
    "id": "cEeeWa8eurIp"
   },
   "source": [
    "##### Compute the rate of favourable result for a given condition"
   ]
  },
  {
   "cell_type": "code",
   "execution_count": 9,
   "metadata": {
    "id": "t6IO5XB9urIp"
   },
   "outputs": [],
   "source": [
    "# Compute the base rate, :`Pr(Y = 1) = P/(P+N)\n",
    "# Compute the persentage of favourable result for a given condition\n",
    "def get_base_rate(X, y, w, feature_names, label, condition=None):\n",
    "    return (get_num_pos_neg(X, y, w, feature_names, label, condition=condition)\n",
    "            / get_num_instances(X, w, feature_names, condition=condition))"
   ]
  },
  {
   "cell_type": "markdown",
   "metadata": {
    "id": "fxnHTpMkurIp"
   },
   "source": [
    "##### Compute fairness in training data"
   ]
  },
  {
   "cell_type": "markdown",
   "metadata": {
    "id": "krjdEoZ-urIq"
   },
   "source": [
    "For computing the fairness of the data using SPD & DI, we need to specify and get some of the key inputs. So, let us specify what are privileged & unprivileged groups, Protected attributes, and instance weights to be considered in the train data set."
   ]
  },
  {
   "cell_type": "code",
   "execution_count": 10,
   "metadata": {
    "id": "QH61NVl8urIq"
   },
   "outputs": [],
   "source": [
    "# target value\n",
    "labels_train = train[label_name].values.copy()\n",
    "\n",
    "# protected attributes\n",
    "df_prot = train.loc[:, protected_attribute_names]\n",
    "protected_attributes = df_prot.values.copy()\n",
    "privileged_groups = [{'gender': 1}]\n",
    "unprivileged_groups = [{'gender': 0}]\n",
    "\n",
    "# equal weights for all classes by default in the train dataset \n",
    "instance_weights = np.ones_like(train.index, dtype=np.float64)"
   ]
  },
  {
   "cell_type": "markdown",
   "metadata": {
    "id": "w_D-yLKxurIq"
   },
   "source": [
    "now let's compute the fairness of data with respect to protected attribute"
   ]
  },
  {
   "cell_type": "code",
   "execution_count": 11,
   "metadata": {
    "id": "S3TNraEYurIq"
   },
   "outputs": [],
   "source": [
    "positive_privileged = get_base_rate(protected_attributes, labels_train, instance_weights,\n",
    "                                    protected_attribute_names,\n",
    "                                    favorable_label, privileged_groups)\n",
    "\n",
    "positive_unprivileged = get_base_rate(protected_attributes, labels_train, instance_weights,\n",
    "                                      protected_attribute_names,\n",
    "                                      favorable_label, unprivileged_groups)"
   ]
  },
  {
   "cell_type": "markdown",
   "metadata": {
    "id": "wjEu7nd3urIq"
   },
   "source": [
    "Let's look at favorable results for privileged & unprivileged groups in terms of statistical parity difference."
   ]
  },
  {
   "cell_type": "code",
   "execution_count": 12,
   "metadata": {
    "colab": {
     "base_uri": "https://localhost:8080/",
     "height": 281
    },
    "id": "Tqoa4WEPurIq",
    "outputId": "185144ac-61c1-484c-9d4c-ad5c6ca260bb"
   },
   "outputs": [
    {
     "data": {
      "image/png": "[encoded data removed]",
      "text/plain": [
       "<Figure size 432x288 with 1 Axes>"
      ]
     },
     "metadata": {
      "needs_background": "light"
     },
     "output_type": "display_data"
    }
   ],
   "source": [
    "x = [\"positive_privileged\", \"positive_unprivileged\"]\n",
    "y = [positive_privileged, positive_unprivileged]\n",
    "plt.barh(x, y, color=['green', 'blue'])\n",
    "\n",
    "for index, value in enumerate(y):\n",
    "    plt.text(value, index, str(round(value, 2)), fontweight='bold')\n",
    "plt.text(0.2, 0.5, \"Statistical parity difference : \" + str(\n",
    "    round((positive_unprivileged - positive_privileged), 3)),\n",
    "         bbox=dict(facecolor='white', alpha=0.4), fontweight='bold')\n",
    "plt.title(\"Statistical parity difference\", fontweight='bold')\n",
    "plt.show()"
   ]
  },
  {
   "cell_type": "markdown",
   "metadata": {
    "id": "omXiIruHurIr"
   },
   "source": [
    "Privileged group gets 10.8% more positive outcomes in the training dataset. This is `Bias`. Such Bias must be mitigated. "
   ]
  },
  {
   "cell_type": "code",
   "execution_count": 13,
   "metadata": {
    "id": "A7lIfyREurIr"
   },
   "outputs": [],
   "source": [
    "def statistical_parity_difference(X, y, w, feature_names, label, privileged_groups,\n",
    "                                  unprivileged_groups):\n",
    "    \"\"\"\n",
    "    Compute difference in the metric between unprivileged and privileged groups.\n",
    "    \"\"\"\n",
    "\n",
    "    positive_privileged = get_base_rate(X, y, w, feature_names, label, privileged_groups)\n",
    "    positive_unprivileged = get_base_rate(X, y, w, feature_names, label, unprivileged_groups)\n",
    "    return (positive_unprivileged - positive_privileged)"
   ]
  },
  {
   "cell_type": "code",
   "execution_count": 14,
   "metadata": {},
   "outputs": [],
   "source": [
    "def disparate_impact(X, y, w, feature_names, label, privileged_groups,\n",
    "                                  unprivileged_groups):\n",
    "    \"\"\"\n",
    "    Compute the ratio of the metric between unprivileged and privileged groups.\n",
    "    \"\"\"\n",
    "\n",
    "    positive_privileged = get_base_rate(X, y, w, feature_names, label, privileged_groups)\n",
    "    positive_unprivileged = get_base_rate(X, y, w, feature_names, label, unprivileged_groups)\n",
    "    return (positive_unprivileged/positive_privileged)"
   ]
  },
  {
   "cell_type": "markdown",
   "metadata": {
    "id": "Xt7jiduyurIr"
   },
   "source": [
    "Let's store the fairnes of data in a variable "
   ]
  },
  {
   "cell_type": "code",
   "execution_count": 15,
   "metadata": {
    "id": "knREAK1RurIr"
   },
   "outputs": [],
   "source": [
    "original_spd = statistical_parity_difference(protected_attributes,\n",
    "                                         labels_train, instance_weights,\n",
    "                                         protected_attribute_names, favorable_label,\n",
    "                                         privileged_groups, unprivileged_groups)\n",
    "original_di = disparate_impact(protected_attributes,\n",
    "                                         labels_train, instance_weights,\n",
    "                                         protected_attribute_names, favorable_label,\n",
    "                                         privileged_groups, unprivileged_groups)"
   ]
  },
  {
   "cell_type": "markdown",
   "metadata": {
    "id": "9XdWim0MurIr"
   },
   "source": [
    "#### 3.1.2 Analyze bias in the dataset\n",
    "Let's understand how bias occurred in the dataset with respect to protected attribute. \n",
    "First, let's calculate the frequency count for categories of protected attributes in the training dataset."
   ]
  },
  {
   "cell_type": "code",
   "execution_count": 16,
   "metadata": {
    "id": "XMECmn8burIr"
   },
   "outputs": [],
   "source": [
    "# get the only privileged condition vector for the given protected attributes\n",
    "# Values are `True` for the privileged values else 'False'\n",
    "privileged_cond = get_condition_vector(\n",
    "    protected_attributes,\n",
    "    protected_attribute_names,\n",
    "    condition=privileged_groups)\n",
    "\n",
    "# Get the only unprivileged condition vector for the given protected attributes \n",
    "# Values are `True` for the unprivileged values else 'False)\n",
    "unprivileged_cond = get_condition_vector(\n",
    "    protected_attributes,\n",
    "    protected_attribute_names,\n",
    "    condition=unprivileged_groups)"
   ]
  },
  {
   "cell_type": "code",
   "execution_count": 17,
   "metadata": {
    "id": "7CpaUBDkurIr"
   },
   "outputs": [],
   "source": [
    "# get the favorable(postive outcome) condition vector\n",
    "# Values are `True` for the favorable values else 'False'\n",
    "favorable_cond = labels_train.ravel() == favorable_label\n",
    "\n",
    "# get the unfavorable condition vector\n",
    "# Values are `True` for the unfavorable values else 'False'\n",
    "unfavorable_cond = labels_train.ravel() == unfavorable_label"
   ]
  },
  {
   "cell_type": "code",
   "execution_count": 18,
   "metadata": {
    "id": "fyzGzgKhurIs"
   },
   "outputs": [],
   "source": [
    "# combination of label and privileged/unprivileged groups\n",
    "\n",
    "# Postive outcome for privileged group\n",
    "privileged_favorable_cond = np.logical_and(favorable_cond, privileged_cond)\n",
    "\n",
    "# Negative outcome for privileged group\n",
    "privileged_unfavorable_cond = np.logical_and(unfavorable_cond, privileged_cond)\n",
    "\n",
    "# Postive outcome for unprivileged group\n",
    "unprivileged_favorable_cond = np.logical_and(favorable_cond, unprivileged_cond)\n",
    "\n",
    "# Negative outcome for unprivileged group\n",
    "unprivileged_unfavorable_cond = np.logical_and(unfavorable_cond, unprivileged_cond)"
   ]
  },
  {
   "cell_type": "markdown",
   "metadata": {
    "id": "3Dta7xHwurIs"
   },
   "source": [
    "We need total number of instances, privileged, unprivileged, favorable outcomes, etc.."
   ]
  },
  {
   "cell_type": "code",
   "execution_count": 19,
   "metadata": {
    "id": "mmeH2MFsurIs"
   },
   "outputs": [],
   "source": [
    "instance_count = train.shape[0]\n",
    "privileged_count = np.sum(privileged_cond, dtype=np.float64)\n",
    "unprivileged_count = np.sum(unprivileged_cond, dtype=np.float64)\n",
    "favourable_count = np.sum(favorable_cond, dtype=np.float64)\n",
    "unfavourable_count = np.sum(unfavorable_cond, dtype=np.float64)\n",
    "\n",
    "privileged_favourable_count = np.sum(privileged_favorable_cond, dtype=np.float64)\n",
    "privileged_unfavourable_count = np.sum(privileged_unfavorable_cond, dtype=np.float64)\n",
    "unprivileged_favourable_count = np.sum(unprivileged_favorable_cond, dtype=np.float64)\n",
    "unprivileged_unfavourable_count = np.sum(unprivileged_unfavorable_cond, dtype=np.float64)"
   ]
  },
  {
   "cell_type": "markdown",
   "metadata": {
    "id": "impObRfGurIs"
   },
   "source": [
    "Now, let us analyze above variables and see how the frequency of count is distributed for protected attribute."
   ]
  },
  {
   "cell_type": "code",
   "execution_count": 20,
   "metadata": {
    "colab": {
     "base_uri": "https://localhost:8080/",
     "height": 265
    },
    "id": "EwBHMe_ourIs",
    "outputId": "0e38d4d0-0822-4bed-94bd-e8e2f6d3e79a"
   },
   "outputs": [
    {
     "data": {
      "image/png": "[encoded data removed]",
      "text/plain": [
       "<Figure size 432x288 with 1 Axes>"
      ]
     },
     "metadata": {
      "needs_background": "light"
     },
     "output_type": "display_data"
    }
   ],
   "source": [
    "x = [\"privileged_favourable_count\", \"privileged_unfavourable_count\",\n",
    "     \"unprivileged_favourable_count\", \"unprivileged_unfavourable_count\"]\n",
    "y = [privileged_favourable_count, privileged_unfavourable_count, unprivileged_favourable_count,\n",
    "     unprivileged_unfavourable_count]\n",
    "plt.barh(x, y, color=['blue', 'green', 'orange', 'brown'])\n",
    "\n",
    "for index, value in enumerate(y):\n",
    "    plt.text(value, index,\n",
    "             str(value), fontweight='bold')\n",
    "plt.show()"
   ]
  },
  {
   "cell_type": "markdown",
   "metadata": {
    "id": "j7ACTmg5urIs"
   },
   "source": [
    "##### Privileged and unprivileged group outcomes"
   ]
  },
  {
   "cell_type": "code",
   "execution_count": 21,
   "metadata": {
    "colab": {
     "base_uri": "https://localhost:8080/",
     "height": 427
    },
    "id": "WujbP-Z6urIs",
    "outputId": "d74066be-0491-41bc-e8b3-6ab41f22d46b"
   },
   "outputs": [
    {
     "data": {
      "image/png": "[encoded data removed]",
      "text/plain": [
       "<Figure size 1080x1080 with 2 Axes>"
      ]
     },
     "metadata": {},
     "output_type": "display_data"
    }
   ],
   "source": [
    "labels_privileged = ['male - rated good', 'male - rated bad']\n",
    "sz_privileged = [privileged_favourable_count, privileged_unfavourable_count]\n",
    "labels_unprivileged = ['female - rated good', 'female - rated bad']\n",
    "sz_unpriveleged = [unprivileged_favourable_count, unprivileged_unfavourable_count]\n",
    "\n",
    "fig, (ax1, ax2) = plt.subplots(1, 2, figsize=(15, 15))\n",
    "ax1.pie(sz_privileged, labels=labels_privileged, autopct='%1.1f%%', shadow=True)\n",
    "ax1.title.set_text('Privileged class outcomes')\n",
    "\n",
    "ax2.pie(sz_unpriveleged, labels=labels_unprivileged, autopct='%1.1f%%', shadow=True)\n",
    "ax2.title.set_text('Unprivileged class outcomes')\n",
    "plt.show()"
   ]
  },
  {
   "cell_type": "markdown",
   "metadata": {
    "id": "492ALDWJurIt"
   },
   "source": [
    "Male is the privileged group with 73.5% favourable outcome and 26.5% unfavourable outcome.\n",
    "Female is the unprivileged group with a 62.7% favourable outcome and 37.3% unfavourable outcome. <br>\n",
    "\n",
    "So, there is bias against the unprivileged group (privileged group gets 10.8% more positive outcomes).\n",
    "\n",
    "There may have been insufficient data for certain groups (gender attribute) at the feature (column) level resulting in an incomplete representation of these groups in the dataset. So, we could try to mitigate such bias using a pre-processing mitigation technique."
   ]
  },
  {
   "cell_type": "markdown",
   "metadata": {
    "id": "nCly7KB4urIt"
   },
   "source": [
    "\n",
    "### 3.2 Bias mitigation\n",
    "Pre-processing describes the set of data preparation and feature engineering steps before application of machine learning algorithms. Sampling, reweighing and suppression are examples of pre-processing bias mitigation techniques proposed in academic literature[2]. In this tutorial, we will focus on reweighing [3] technique that assigns weights to instances. "
   ]
  },
  {
   "cell_type": "markdown",
   "metadata": {
    "id": "yUbB5V11urIt"
   },
   "source": [
    "#### 3.2.1 Reweighing algorithm\n",
    "\n",
    "This approach assigns different weights to the examples based on the categories in protected attribute and outcomes such that bias is removed from the training dataset. Weights are based on frequency counts. But this technique is designed to work only with classifiers that can handle row-level weights.\n",
    "\n",
    "#### Compute the reweighing weights (Equations)\n",
    "\n",
    "***\n",
    "1.&emsp;Privileged group with the favourable outcome : $W_\\text{privileged favourable} = \\displaystyle\\frac{\\#\\{\\text{favourable}\\} \\times \\#\\{\\text{privileged}\\}}{\\#\\{\\text{all}\\} \\times \\#\\{\\text{privileged favourable}\\}}$ <br>\n",
    "\n",
    "2.&emsp;Privileged group with the unfavourable outcome : $W_\\text{privileged unfavourable} = \\displaystyle\\frac{\\#\\{\\text{unfavourable}\\} \\times \\#\\{\\text{prvileged}\\}}{\\#\\{\\text{all}\\} \\times \\#\\{\\text{prvileged unfavourable}\\}}$ <br>\n",
    "\n",
    "3.&emsp;Unprivileged group with the favourable outcome : $W_\\text{unprivileged favourable} = \\displaystyle\\frac{\\#\\{\\text{favourable}\\} \\times \\#\\{\\text{unprvileged}\\}}{\\#\\{\\text{all}\\} \\times \\#\\{\\text{unprivileged favourable}\\}}$ <br>\n",
    "\n",
    "4.&emsp;Unprivileged group with the unfavourable outcome : $W_\\text{unprivileged unfavourable} = \\displaystyle\\frac{\\#\\{\\text{unfavourable}\\} \\times \\#\\{\\text{unprivileged}\\}}{\\#\\{\\text{all}\\} \\times \\#\\{\\text{unprivileged unfavourable}\\}}$ <br>\n",
    "***"
   ]
  },
  {
   "cell_type": "code",
   "execution_count": 22,
   "metadata": {
    "id": "9i5aTJarurIt"
   },
   "outputs": [],
   "source": [
    "# reweighing weights\n",
    "weight_privileged_favourable = favourable_count * privileged_count / (instance_count * privileged_favourable_count)\n",
    "weight_privileged_unfavourable = unfavourable_count * privileged_count / (instance_count * privileged_unfavourable_count)\n",
    "weight_unprivileged_favourable = favourable_count * unprivileged_count / (instance_count * unprivileged_favourable_count)\n",
    "weight_unprivileged_unfavourable = unfavourable_count * unprivileged_count / (instance_count * unprivileged_unfavourable_count)"
   ]
  },
  {
   "cell_type": "code",
   "execution_count": 23,
   "metadata": {
    "id": "AhGR_KlCurIt"
   },
   "outputs": [],
   "source": [
    "transformed_instance_weights = copy.deepcopy(instance_weights)"
   ]
  },
  {
   "cell_type": "code",
   "execution_count": 24,
   "metadata": {
    "id": "UdRZBor7urIt"
   },
   "outputs": [],
   "source": [
    "transformed_instance_weights[privileged_favorable_cond] *= weight_privileged_favourable\n",
    "transformed_instance_weights[privileged_unfavorable_cond] *= weight_privileged_unfavourable\n",
    "transformed_instance_weights[unprivileged_favorable_cond] *= weight_unprivileged_favourable\n",
    "transformed_instance_weights[unprivileged_unfavorable_cond] *= weight_unprivileged_unfavourable"
   ]
  },
  {
   "cell_type": "markdown",
   "metadata": {
    "id": "5wbCcnGBurIt"
   },
   "source": [
    "Now that we have transformed instance_weights from reweighing algorithm, we can check how effective it is in removing bias by calculating the same metrics(Statistical Parity Difference & Disparate Impact) again."
   ]
  },
  {
   "cell_type": "code",
   "execution_count": 25,
   "metadata": {
    "id": "PEmV-JJZurIt"
   },
   "outputs": [],
   "source": [
    "mitigated_spd = statistical_parity_difference(protected_attributes,\n",
    "                                          labels_train, transformed_instance_weights,\n",
    "                                          protected_attribute_names, favorable_label,\n",
    "                                          privileged_groups, unprivileged_groups)\n",
    "mitigated_di = disparate_impact(protected_attributes,\n",
    "                                          labels_train, transformed_instance_weights,\n",
    "                                          protected_attribute_names, favorable_label,\n",
    "                                          privileged_groups, unprivileged_groups)"
   ]
  },
  {
   "cell_type": "markdown",
   "metadata": {
    "id": "DibWq0_5urIu"
   },
   "source": [
    "### 3.3 Data Fairness comparison"
   ]
  },
  {
   "cell_type": "markdown",
   "metadata": {},
   "source": [
    "let's compare the statistical parity difference(demogrpahic parity) of Original and Reweighing dataset."
   ]
  },
  {
   "cell_type": "code",
   "execution_count": 26,
   "metadata": {
    "colab": {
     "base_uri": "https://localhost:8080/",
     "height": 283
    },
    "id": "G-eQi3PzurIu",
    "outputId": "704e7dd3-0575-4729-9208-03e64de86d77"
   },
   "outputs": [
    {
     "data": {
      "image/png": "[encoded data removed]",
      "text/plain": [
       "<Figure size 288x288 with 1 Axes>"
      ]
     },
     "metadata": {},
     "output_type": "display_data"
    }
   ],
   "source": [
    "plot_fairness_comp(abs(original_spd),abs(mitigated_spd),metric=\"SPD\")"
   ]
  },
  {
   "cell_type": "code",
   "execution_count": 27,
   "metadata": {},
   "outputs": [
    {
     "data": {
      "image/png": "[encoded data removed]",
      "text/plain": [
       "<Figure size 288x288 with 1 Axes>"
      ]
     },
     "metadata": {},
     "output_type": "display_data"
    }
   ],
   "source": [
    "plot_fairness_comp(abs(original_di),abs(mitigated_di),metric=\"DI\")"
   ]
  },
  {
   "cell_type": "markdown",
   "metadata": {
    "id": "DmLwd3u0urIu"
   },
   "source": [
    "Reweighing algorithm has proven to be highly effective in reducing data bias, as it results in a Statistical Parity Difference of `zero` and a Disparate Impact of `one`. This algorithm enables us to address and minimize bias in the data by adjusting the weights of certain groups.\n",
    "\n",
    "Now that we have both original and bias mitigated data, let's evaluate model fairness before and after bias mitigation."
   ]
  },
  {
   "cell_type": "markdown",
   "metadata": {
    "id": "RdjNC6_furIu"
   },
   "source": [
    "## 4. Model Fairness - on different ML models"
   ]
  },
  {
   "cell_type": "markdown",
   "metadata": {
    "id": "G2qYHLA8urIu"
   },
   "source": [
    "Model Fairness is a relatively new field in Machine Learning, \n",
    "\n",
    "Since predictive ML models have started making their way into the industry including sensitive medical, insurance and banking sectors, it has become prudent to implement strategies to ensure the fairness of those models to check discriminative behavior during predictions. Several definitions have been proposed [4][5][6] to evaluate model fairness.\n",
    "In this tutorial, we will implement statistical parity (demographical parity) and Disparate Impact strategy to evaluate model fairness and detect any discriminative behavior during the prediction.\n",
    "\n",
    "#### Statistical Parity (Demographic parity)\n",
    "As discussed in [sec. 3.1.1](#3.1.1-Statistical-parity-difference), statistical parity states that the each segment of a protected class (e.g. gender) should receive the positive outcome at equal rates (the outcome is independent of a protected class). For example, the probability of getting admission to a college must be independent of gender. Let us assume the prediction of a machine learning model (Ŷ) to be independent of protected class A.\n",
    "\n",
    "$$P(\\hat{Y} \\mid A=a) = P(\\hat{Y} \\mid A=a')$$, <br>\n",
    "#### Disparate Impact\n",
    "As discussed in [sec. 3.1.2](#3.1.1-Disparate-Impact), It's calculated by dividing the proportion of positive outcomes for the unpriileged group by that of the privileged group.\n",
    "\n",
    "$$\\frac{P(\\hat{Y} \\mid A=a')}{P(\\hat{Y} \\mid A=a)}$$,<br>\n",
    "where a and a' are different sensitive attribute values (for example, gender male vs gender female)."
   ]
  },
  {
   "cell_type": "markdown",
   "metadata": {
    "id": "oAeMi-ZourIu"
   },
   "source": [
    "##### Compute fairness of the different ML models\n",
    "To compute model fairness (SPD & DI), let us specify privileged & unprivileged groups, protected attributes and instance weights to be considered in the test data set."
   ]
  },
  {
   "cell_type": "code",
   "execution_count": 28,
   "metadata": {
    "id": "UkqckR0BurIu"
   },
   "outputs": [],
   "source": [
    "# protected attribute\n",
    "df_prot_test = test.loc[:, protected_attribute_names]\n",
    "protected_attributes_test = df_prot_test.values.copy()\n",
    "privileged_groups = [{'gender': 1}]\n",
    "unprivileged_groups = [{'gender': 0}]\n",
    "# equal weights for all classes by default in the testing dataset \n",
    "instance_weights_test = np.ones_like(test.index, dtype=np.float64)"
   ]
  },
  {
   "cell_type": "markdown",
   "metadata": {
    "id": "TpR1Q5IfurIu"
   },
   "source": [
    "Well, before training any ML model we need to standardize our dataset, when all numerical variables are scaled to a common range in the dataset, machine learning algorithms converge faster. So, we do scaling with the standardization technique in this tutorial."
   ]
  },
  {
   "cell_type": "code",
   "execution_count": 29,
   "metadata": {
    "id": "23k6UTmHurIv"
   },
   "outputs": [],
   "source": [
    "# split the features and labels for both train and test data\n",
    "feature_names = [n for n in train.columns if n not in label_name]\n",
    "X_train, X_test, Y_train, Y_test = train[feature_names].values.copy(), test[\n",
    "    feature_names].values.copy(), train[label_name].values.copy(), test[label_name].values.copy()\n",
    "# standardize the inputs \n",
    "scale_orig = StandardScaler()\n",
    "X_train = scale_orig.fit_transform(X_train)\n",
    "X_test = scale_orig.fit_transform(X_test)"
   ]
  },
  {
   "cell_type": "markdown",
   "metadata": {
    "id": "6JHy2PgjurIv"
   },
   "source": [
    "It is important to compare fairness and performance of multiple different machine learning algorithms before and after bias mitigation. We shall do that for Logistic Regression, Decision Trees, Random Forest classifier, XG Boost and SVM in this tutorial."
   ]
  },
  {
   "cell_type": "code",
   "execution_count": 30,
   "metadata": {
    "id": "pckqtReLurIv"
   },
   "outputs": [],
   "source": [
    "# prepare list of models\n",
    "models = []\n",
    "models.append(('LR', LogisticRegression()))\n",
    "models.append(('DT', DecisionTreeClassifier(random_state=0)))\n",
    "models.append(('RF', RandomForestClassifier(random_state=4)))\n",
    "models.append(('XGB', XGBClassifier(use_label_encoder=False, eval_metric='mlogloss')))\n",
    "models.append(('SVM', SVC(probability=True)))"
   ]
  },
  {
   "cell_type": "markdown",
   "metadata": {
    "id": "fyxcf8iqurIv"
   },
   "source": [
    "let's compute the Performance & Model Fairness before after bias mitigation on the above models\n",
    "First let's start trining the baseline models"
   ]
  },
  {
   "cell_type": "code",
   "execution_count": 31,
   "metadata": {},
   "outputs": [],
   "source": [
    "ml_models, accuracy_list, roc_auc_list, spd_list, di_list = [], [], [], [], []\n",
    "for name, model in models:\n",
    "    # evaluate the base model\n",
    "    clf = train_model(model, X_train, Y_train,sample_weight=instance_weights)\n",
    "    y_score = clf.predict_proba(X_test)[:, 1]\n",
    "    predicted = (y_score > 0.5).astype(int)\n",
    "    accuracy = accuracy_score(Y_test, predicted)\n",
    "    fpr, tpr, _ = roc_curve(Y_test, predicted)\n",
    "    roc_auc = auc(fpr, tpr)\n",
    "    # compute SPD for base model\n",
    "    spd = statistical_parity_difference(protected_attributes_test,\n",
    "                                                  predicted, instance_weights_test,\n",
    "                                                  protected_attribute_names, favorable_label,\n",
    "                                                  privileged_groups, unprivileged_groups)\n",
    "    # compute DI for base model\n",
    "    di = disparate_impact(protected_attributes_test,predicted, instance_weights_test,\n",
    "                          protected_attribute_names, favorable_label,\n",
    "                          privileged_groups, unprivileged_groups)\n",
    "    accuracy_list.append(accuracy)\n",
    "    roc_auc_list.append(roc_auc)\n",
    "    spd_list.append(spd)\n",
    "    di_list.append(di)\n",
    "    ml_models.append(name)"
   ]
  },
  {
   "cell_type": "markdown",
   "metadata": {},
   "source": [
    "To facilitate comparison of model performance and fairness, we will store all the relevant values in a dictionary"
   ]
  },
  {
   "cell_type": "code",
   "execution_count": 32,
   "metadata": {},
   "outputs": [],
   "source": [
    "before_debiasing = defaultdict(dict)\n",
    "before_debiasing[\"SPD\"] = spd_list\n",
    "before_debiasing[\"DI\"] = di_list\n",
    "before_debiasing[\"Accuracy\"] = accuracy_list\n",
    "before_debiasing[\"AUC\"] = roc_auc_list"
   ]
  },
  {
   "cell_type": "code",
   "execution_count": 33,
   "metadata": {},
   "outputs": [],
   "source": [
    "ml_models, accuracy_list, roc_auc_list, spd_list, di_list = [], [], [], [], []\n",
    "for name, model in models:\n",
    "    # evaluate the mitgated model\n",
    "    clf = train_model(model, X_train, Y_train,sample_weight=transformed_instance_weights)\n",
    "    y_score = clf.predict_proba(X_test)[:, 1]\n",
    "    predicted = (y_score > 0.5).astype(int)\n",
    "    accuracy = accuracy_score(Y_test, predicted)\n",
    "    fpr, tpr, _ = roc_curve(Y_test, predicted)\n",
    "    roc_auc = auc(fpr, tpr)\n",
    "    # compute SPD for base model\n",
    "    spd = statistical_parity_difference(protected_attributes_test,\n",
    "                                                  predicted, instance_weights_test,\n",
    "                                                  protected_attribute_names, favorable_label,\n",
    "                                                  privileged_groups, unprivileged_groups)\n",
    "    # compute DI for base model\n",
    "    di = disparate_impact(protected_attributes_test,predicted, instance_weights_test,\n",
    "                          protected_attribute_names, favorable_label,\n",
    "                          privileged_groups, unprivileged_groups)\n",
    "    accuracy_list.append(accuracy)\n",
    "    roc_auc_list.append(roc_auc)\n",
    "    spd_list.append(spd)\n",
    "    di_list.append(di)\n",
    "    ml_models.append(name)"
   ]
  },
  {
   "cell_type": "code",
   "execution_count": 34,
   "metadata": {},
   "outputs": [],
   "source": [
    "after_debiasing = defaultdict(dict)\n",
    "after_debiasing[\"SPD\"] = spd_list\n",
    "after_debiasing[\"DI\"] = di_list\n",
    "after_debiasing[\"Accuracy\"] = accuracy_list\n",
    "after_debiasing[\"AUC\"] = roc_auc_list"
   ]
  },
  {
   "cell_type": "markdown",
   "metadata": {
    "id": "bcKZmgcFurIv"
   },
   "source": [
    "##### Graphical Comparison of fairness & performance"
   ]
  },
  {
   "cell_type": "code",
   "execution_count": 35,
   "metadata": {
    "colab": {
     "base_uri": "https://localhost:8080/",
     "height": 350
    },
    "id": "FOj4OARUurIv",
    "outputId": "b0e1841b-43c2-4d35-9a76-57646ba181dd"
   },
   "outputs": [
    {
     "data": {
      "image/png": "[encoded data removed]",
      "text/plain": [
       "<Figure size 1800x288 with 4 Axes>"
      ]
     },
     "metadata": {
      "needs_background": "light"
     },
     "output_type": "display_data"
    }
   ],
   "source": [
    "def autolabel(rects, axes):\n",
    "        for rect in rects:\n",
    "            h = rect.get_height()\n",
    "            if h < 0:\n",
    "                axes.text(rect.get_x() + rect.get_width() / 2., h - 0.04, '%.2f' % float(h),\n",
    "                          ha='center', va='bottom')\n",
    "            else:\n",
    "                axes.text(rect.get_x() + rect.get_width() / 2., 1.02 * h, '%.2f' % float(h),\n",
    "                          ha='center', va='bottom')\n",
    "ind = np.arange(len(ml_models))  # the x locations for the groups\n",
    "width = 0.2  # the width of the bars\n",
    "\n",
    "fig, axs = plt.subplots(1, 4, figsize=(25, 4))\n",
    "\n",
    "for ax,metric in zip (axs.ravel(),after_debiasing.keys()):\n",
    "    fairness_base_bar = ax.bar(ind, before_debiasing[metric], width, color='r',\n",
    "                        label='Before bias mitigation')\n",
    "    fairness_mitigated_bar = ax.bar(ind + width, after_debiasing[metric], width, color='g',\n",
    "                                     label='After bias mitigation')\n",
    "    ax.set_ylabel(metric)\n",
    "    ax.set_xticks(ind + width)\n",
    "    ax.set_xticklabels(ml_models)\n",
    "    ax.title.set_text(metric)\n",
    "    autolabel(fairness_base_bar, axes=ax)\n",
    "    autolabel(fairness_mitigated_bar, axes=ax)\n",
    "plt.legend(loc =\"lower right\")\n",
    "plt.show()"
   ]
  },
  {
   "cell_type": "markdown",
   "metadata": {
    "id": "QaWsFxJnurIv"
   },
   "source": [
    "It can be observed that the classifiers learned on the bias mitigated data produce less discriminatory results (fairness improved) as compared to the biased data; If you consider the statistical parity difference (SPD) metric, logistic regression (LR) model trained on biased data classifies the future data objects with `-0.25` discrimination, indicating more positive outcomes for the privileged group and a biased model against the unprivileged group. However, after applying the Reweighing algorithm, the discrimination goes down to `-0.14`, indicating an improvement in fairness. Similarly, the Disparate Impact metric also shows improvement in fairness after bias mitigation. Though there is bias in favor of the privileged group after reweighing, it is much lesser and keeps the ML practitioner informed about the amount of bias in order to make calculated decisions. Besides, it can be observed, there is no significant drop in the Accuracy and AUC for any algorithm after bias mitigation. This is good and it makes strong case for `Bias Detection and Mitigation`. "
   ]
  },
  {
   "cell_type": "markdown",
   "metadata": {
    "id": "XmJFjcPKjAyV"
   },
   "source": [
    "Well, let us visualize the detailed flow of everything we learned in this tutorial:\n",
    "\n"
   ]
  },
  {
   "cell_type": "code",
   "execution_count": 36,
   "metadata": {
    "colab": {
     "base_uri": "https://localhost:8080/",
     "height": 563
    },
    "id": "jPurkVRFjELT",
    "outputId": "bd583f7f-e4c8-4a34-8b41-46b093233859"
   },
   "outputs": [
    {
     "data": {
      "image/png": "[encoded data removed]",
      "text/plain": [
       "<IPython.core.display.Image object>"
      ]
     },
     "execution_count": 36,
     "metadata": {},
     "output_type": "execute_result"
    }
   ],
   "source": [
    "from google.colab.patches import cv2_imshow\n",
    "img2 = cv2.imread('images/xai-bias-mitigation.png')\n",
    "cv2_imshow(img2)"
   ]
  },
  {
   "cell_type": "markdown",
   "metadata": {
    "id": "4VQYjgExurIw"
   },
   "source": [
    "\n",
    "\n",
    " In short, we can summarize the procedure in the following 4 steps:\n",
    " 1. Prepare the data for analysis\n",
    " 2. Detect bias in the data set\n",
    " 3. Mitigate bias in the data set\n",
    " 4. Observe the fairness of the model before and after bias mitigation"
   ]
  },
  {
   "cell_type": "markdown",
   "metadata": {
    "id": "WKLmcw-eurIw"
   },
   "source": [
    "### Summary\n",
    "\n",
    "In this tutorial, we have tried to give a gentle introduction to gender bias detection and mitigation to enthusiasts of Responsible AI. Although there are many ways to detect and mitigate bias, we have only illustrated one simple way to detect bias and mitigate it with `Reweighing` algorithm in this tutorial. We plan to create and open-source tutorials illustrating other ways of bias detection and mitigation in the future."
   ]
  },
  {
   "cell_type": "markdown",
   "metadata": {
    "id": "9ooW7IljurIw"
   },
   "source": [
    "### References\n",
    "[1] [Ninareh Mehrabi, Fred Morstatter, Nripsuta Saxena, Kristina Lerman, Aram Galstyan. A Survey on Bias and Fairness in Machine Learning. arXiv:1908.09635\n",
    "](https://arxiv.org/abs/1908.09635)   \n",
    "[2] Kamiran F, Calders T (2009a) Classifying without discriminating. In: Proceedings of IEEE IC4 international conference on computer, Control & Communication. IEEE press<br>\n",
    "[3] [Kamiran, Faisal and Calders, Toon. Data preprocessing techniques for classification without discrimination](https://link.springer.com/content/pdf/10.1007%2Fs10115-011-0463-8.pdf). Knowledge and Information Systems, 33(1):1–33, 2012<br>\n",
    "[4] Hardt, M., Price, E., and Srebro, N. (2016). “Equality of opportunity in supervised learning,” in Advances in Neural Information Processing Systems, eds D. D. Lee, M. Sugiyama, U. V. Luxburg, I. Guyon, and R. Garnett (Barcelona: Curran Associates, Inc.), 3315–3323.<br>\n",
    "[5] Chouldechova, A. (2017). Fair prediction with disparate impact: a study of bias in recidivism prediction instruments. Big Data 5, 153–163. doi: 10.1089/big.2016.0047<br>\n",
    "[6] Zafar, M. B., Valera, I., Gomez Rodriguez, M., and Gummadi, K. P. (2017a). “Fairness beyond disparate treatment & disparate impact: Learning classification without disparate mistreatment,” in Proceedings of the 26th International Conference on World Wide Web (Perth: International World Wide Web Conferences Steering Committee), 1171–1180. doi: 10.1145/3038912.3052660<br>\n",
    "[7] https://archive.ics.uci.edu/ml/datasets/Statlog+%28German+Credit+Data%29 <br>"
   ]
  }
 ],
 "metadata": {
  "colab": {
   "collapsed_sections": [],
   "name": "gender_bias_mitigation_german_cc.ipynb",
   "provenance": []
  },
  "kernelspec": {
   "display_name": "Python 3",
   "language": "python",
   "name": "python3"
  },
  "language_info": {
   "codemirror_mode": {
    "name": "ipython",
    "version": 3
   },
   "file_extension": ".py",
   "mimetype": "text/x-python",
   "name": "python",
   "nbconvert_exporter": "python",
   "pygments_lexer": "ipython3",
   "version": "3.6.10"
  }
 },
 "nbformat": 4,
 "nbformat_minor": 4
}
