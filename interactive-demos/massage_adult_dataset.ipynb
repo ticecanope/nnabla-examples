{
 "cells": [
  {
   "cell_type": "markdown",
   "metadata": {},
   "source": [
    "## Massage Data (Relabeling) Preprocessing Algorithm on UCI Adult Dataset\n",
    "\n",
    "### Dataset/Model Bias Check and Mitigation by Massage Data"
   ]
  },
  {
   "cell_type": "markdown",
   "metadata": {},
   "source": [
    "### Table of contents :\n",
    "1. [Introduction](#1.-Introduction)\n",
    "2. [Data preparation](#2.-Data-Preparation)\n",
    "3. [Fairness Before Debiasing](#3.-Fairness-Before-Debiasing)\n",
    "    * 3.1 [Bias In The Data](#3.1-Bias-In-The-Data)\n",
    "    * 3.2 [Bias In The Model](#3.2-Bias-In-The-Model)\n",
    "4. [Massage Data Preprocessing Algorithm](#4.-Massage-Data-Preprocessing-Algorithm)\n",
    "5. [Fairness After Debiasing](#5.-Fairness-After-Debiasing)\n",
    "    * 5.1 [Bias In The Data](#5.1-Bias-In-The-Data)\n",
    "    * 5.2 [Bias In The Model](#5.2-Bias-In-The-Model)\n",
    "6. [Fairness Comparission (Orignial vs Mitigated)](#6.-Fairness-Comparission-(Orignial-vs-Mitigated)) \n",
    "    * 6.1 [Data Fairness](#6.1-Data-Fairness)\n",
    "    * 6.2 [Model Fairness](#6.2-Model-Fairness)\n",
    "7. [Summary](#7.-Summary)\n",
    "8. [References](#8.-References)"
   ]
  },
  {
   "cell_type": "markdown",
   "metadata": {},
   "source": [
    "### 1. Introduction\n",
    "\n",
    "Welcome to this tutorial notebook on the Massage Data Preprocessing(Relabeling) Algorithm.\n",
    "\n",
    "In the previous Sony Fairness AI tutorial, we discussed the `Reweighing` preprocessing technique to mitigate the bias in the dataset by using the rewiging sample weights. In this tutorial, we will discuss a new preprocessing technique called the `Massage Data Preprocessing Algorithm` that can be used to reduce discrimination in datasets while maintaining the overall class distribution. Discrimination in datasets can often arise due to factors such as class imbalance or outlier data points. We will cover the key concepts of the algorithm and provide step-by-step instructions on how to implement it on the UCI Adult dataset. This includes identifying promotion and demotion candidates and training a ranker to sort objects by their positive class probability.\n",
    "\n",
    "Before we go into detailed explanation, here is a sneak peek into the steps involved in the process\n"
   ]
  },
  {
   "cell_type": "code",
   "execution_count": 1,
   "metadata": {},
   "outputs": [],
   "source": [
    "# Preparation\n",
    "!git clone https://github.com/sony/nnabla-examples.git\n",
    "%cd nnabla-examples/responsible_ai/massage_data\n",
    "\n",
    "import cv2\n",
    "from google.colab.patches import cv2_imshow\n",
    "img = cv2.imread('images/massage_data_workflow_diagram.png')\n",
    "cv2_imshow(img)"
   ]
  },
  {
   "cell_type": "markdown",
   "metadata": {},
   "source": [
    "Let's get import the necessary python packages"
   ]
  },
  {
   "cell_type": "code",
   "execution_count": 2,
   "metadata": {},
   "outputs": [],
   "source": [
    "import sys\n",
    "import pandas as pd\n",
    "import numpy as np\n",
    "from collections import defaultdict\n",
    "import matplotlib.pyplot as plt\n",
    "import xgboost as xgb\n",
    "from sklearn.linear_model import LogisticRegression\n",
    "from sklearn.ensemble import RandomForestClassifier\n",
    "from sklearn.ensemble import GradientBoostingClassifier\n",
    "from sklearn.preprocessing import StandardScaler\n",
    "from sklearn.metrics import accuracy_score,confusion_matrix,roc_curve, auc\n",
    "sys.path.append('../responsible_ai/massage_data')\n",
    "from utils import *"
   ]
  },
  {
   "cell_type": "markdown",
   "metadata": {},
   "source": [
    "### 2. Data Preparation\n",
    "Download and parse the UCI Adult dataset as a pandas dataframe"
   ]
  },
  {
   "cell_type": "code",
   "execution_count": 3,
   "metadata": {},
   "outputs": [],
   "source": [
    "train_url = 'https://archive.ics.uci.edu/ml/machine-learning-databases/adult/adult.data'\n",
    "test_url = 'https://archive.ics.uci.edu/ml/machine-learning-databases/adult/adult.test'\n",
    "column_names = ['age', 'workclass', 'fnlwgt', 'education', 'education-num', 'marital-status',\n",
    "              'occupation', 'relationship', 'race', 'sex', 'capital-gain', 'capital-loss',\n",
    "              'hours-per-week', 'native-country', 'income']\n",
    "train_samples = pd.read_csv(train_url,names=column_names,na_values=\"?\", sep=r'\\s*,\\s*', engine='python')\n",
    "num_train = len(train_samples)\n",
    "test_samples = pd.read_csv(test_url,names=column_names, na_values=\"?\", sep=r'\\s*,\\s*', engine='python', skiprows=1)\n",
    "df = pd.concat([train_samples,test_samples])"
   ]
  },
  {
   "cell_type": "markdown",
   "metadata": {},
   "source": [
    "let's preprocess and split the `UCI Adult` dataset to check for any gender bias in the data. In this analysis, the `sex` attribute will be considered as the `sensitive attribute`, and the `income` attribute will be treated as the `target attribute`. "
   ]
  },
  {
   "cell_type": "code",
   "execution_count": 4,
   "metadata": {},
   "outputs": [],
   "source": [
    "# select target attribute\n",
    "target_attribute = \"income\"\n",
    "df[target_attribute] = ((df[target_attribute] == '>50K') | (df[target_attribute] == '>50K.')).astype(int)\n",
    "positive_class = 1\n",
    "negative_class= 0\n",
    "\n",
    "# select senstive attribute \n",
    "sensitive_attribute = \"sex\"\n",
    "privileged_class = 1 # Male\n",
    "unprivileged_class = 0 # Female\n",
    "df[sensitive_attribute] = df[sensitive_attribute].map({'Male': 1, 'Female': 0})\n",
    "\n",
    "# one-hot encoding\n",
    "df = pd.get_dummies(df, columns=[\"workclass\", \"education\", \"marital-status\",\n",
    "                                 \"occupation\", \"relationship\", \"race\", \"native-country\"])\n",
    "train_samples = df[:num_train].copy()\n",
    "test_samples = df[num_train:].copy()"
   ]
  },
  {
   "cell_type": "markdown",
   "metadata": {},
   "source": [
    "### 3. Fairness Before Debiasing"
   ]
  },
  {
   "cell_type": "markdown",
   "metadata": {},
   "source": [
    "\n",
    "#### 3.1 Bias In The Data\n",
    "\n",
    "Now will check the data bias in the dataset using `Statistical Parity Difference` and `Disparate Impact` metrics before model training. For those who are unfamiliar with these metrics, please refer to our Gender Bias Mitigation and Four Metrics Tutorial Notebook for more information."
   ]
  },
  {
   "cell_type": "code",
   "execution_count": 5,
   "metadata": {},
   "outputs": [],
   "source": [
    "# split the features and labels for both train and test data\n",
    "feature_names = [n for n in train_samples.columns if n not in target_attribute]\n",
    "X_train, X_test, Y_train, Y_test, Z_train, Z_test = train_samples[feature_names].copy(), test_samples[\n",
    "    feature_names].copy(), train_samples[target_attribute].to_frame().copy(), test_samples[target_attribute].to_frame().copy(),train_samples[sensitive_attribute].to_frame().copy(),test_samples[sensitive_attribute].to_frame().copy()"
   ]
  },
  {
   "cell_type": "code",
   "execution_count": 6,
   "metadata": {},
   "outputs": [],
   "source": [
    "dpd_before_debiasing = statistical_parity_difference(X_train,Y_train,target_attribute,positive_class,sensitive_attribute,privileged_class,unprivileged_class)\n",
    "di_before_debiasing = disparate_impact(X_train,Y_train,target_attribute,positive_class,sensitive_attribute,privileged_class,unprivileged_class)"
   ]
  },
  {
   "cell_type": "code",
   "execution_count": 7,
   "metadata": {},
   "outputs": [
    {
     "name": "stdout",
     "output_type": "stream",
     "text": [
      "Before Data debiasing : DPD 0.19627598779361352 Disparate Impact : 0.3580225496813511\n"
     ]
    }
   ],
   "source": [
    "print(f\"Before Data debiasing : DPD {abs(dpd_before_debiasing)} Disparate Impact : {abs(di_before_debiasing)}\" )"
   ]
  },
  {
   "cell_type": "markdown",
   "metadata": {},
   "source": [
    "#### 3.2 Bias In The Model\n",
    "\n",
    "Here in this tutorial we have trained multiple classifiers to evaluate their performance and fairness before and after debiasing the dataset with the Massage Data Preprocessing Algorithm. To keep it simple and facilitate understanding, we have included only the Logistic Regression, GradientBoostingClassifier, Random Forest Classifier, and XGB Classifier in the models list. However, you can add your preferred models to the list and run the experiment accordingly."
   ]
  },
  {
   "cell_type": "code",
   "execution_count": 8,
   "metadata": {},
   "outputs": [],
   "source": [
    "models = []\n",
    "models.append(('LR', LogisticRegression(max_iter=500,random_state=42)))\n",
    "models.append(('GBC', GradientBoostingClassifier(random_state=42)))\n",
    "models.append(('RF', RandomForestClassifier(random_state=42)))\n",
    "models.append(('XGB', xgb.XGBClassifier(eval_metric='mlogloss',use_label_encoder=False)))"
   ]
  },
  {
   "cell_type": "markdown",
   "metadata": {},
   "source": [
    "Let's standardize the dataset before training the model"
   ]
  },
  {
   "cell_type": "code",
   "execution_count": 9,
   "metadata": {},
   "outputs": [],
   "source": [
    "scale_orig = StandardScaler()\n",
    "S_train = scale_orig.fit_transform(X_train)\n",
    "S_test = scale_orig.fit_transform(X_test)"
   ]
  },
  {
   "cell_type": "markdown",
   "metadata": {},
   "source": [
    "As the next step, we will train all the models using the original dataset and evaluate their performance and fairness. We will compute the fairness metrics, including `Demographic Parity Difference (DPD)`, `Disparate Impact (DI)`, `Equal Opportunity Difference (EOD)`, and `Equalized Odds (AAOD)`, using the `get_model_fairness` function. Additionally, to evaluate the model performance, we will compute the `Accuracy` and `ROC-AUC` metrics."
   ]
  },
  {
   "cell_type": "code",
   "execution_count": 10,
   "metadata": {},
   "outputs": [
    {
     "name": "stdout",
     "output_type": "stream",
     "text": [
      "Model : LR accuracy : 0.85 DPD : 0.177 ,DI : 0.307, EOD : 0.082 , AAOD : 0.08\n",
      "Model : GBC accuracy : 0.87 DPD : 0.159 ,DI : 0.31, EOD : 0.078 , AAOD : 0.066\n",
      "Model : RF accuracy : 0.85 DPD : 0.172 ,DI : 0.32, EOD : 0.065 , AAOD : 0.071\n",
      "Model : XGB accuracy : 0.87 DPD : 0.173 ,DI : 0.318, EOD : 0.076 , AAOD : 0.071\n"
     ]
    }
   ],
   "source": [
    "models_names, dpd_list, di_list, eod_list, aaod_list, accuracy_list, roc_auc_list, preds_prob = [], [], [], [], [], [], [], []\n",
    "for name, model in models:\n",
    "    clf = train_model(model, S_train, Y_train.values.ravel())\n",
    "    y_score = clf.predict_proba(S_test)[:, 1]\n",
    "    preds = (y_score > 0.5).astype(int)\n",
    "    accuracy = accuracy_score(Y_test, preds)\n",
    "    fpr, tpr, _ = roc_curve(Y_test, preds)\n",
    "    roc_auc = auc(fpr, tpr)\n",
    "    \n",
    "    DPD, DI, EOD,AAOD = get_model_fairness(Y_test,Z_test[sensitive_attribute]==privileged_class,preds)\n",
    "    dpd_list.append(abs(DPD))\n",
    "    di_list.append(abs(DI))\n",
    "    eod_list.append(abs(EOD))\n",
    "    aaod_list.append(abs(AAOD))\n",
    "    accuracy_list.append(accuracy)\n",
    "    preds_prob.append(y_score)\n",
    "    roc_auc_list.append(roc_auc)\n",
    "    models_names.append(name)\n",
    "    print(f\"Model : {name} accuracy : {round(accuracy,2)} DPD : {abs(round(DPD,3))} ,DI : {abs(round(DI,3))}, EOD : {abs(round(EOD,3))} , AAOD : {abs(round(AAOD,3))}\")"
   ]
  },
  {
   "cell_type": "markdown",
   "metadata": {},
   "source": [
    "Let's compute the performance of all the models by plotting their ROC AUC curves"
   ]
  },
  {
   "cell_type": "markdown",
   "metadata": {},
   "source": [
    "Based on the above fairness metrics, it is evident that there is bias towards the gender attribute, favoring one of the groups. To address this issue, we will use the Massage Data Preprocessing algorithm to mitigate the bias.\n",
    "\n",
    "To facilitate comparison of model performance and fairness, we will store all the relevant values in a dictionary"
   ]
  },
  {
   "cell_type": "code",
   "execution_count": 11,
   "metadata": {},
   "outputs": [],
   "source": [
    "before_debiasing = defaultdict(dict)\n",
    "before_debiasing[\"Accuracy\"] = accuracy_list\n",
    "before_debiasing[\"DPD\"] = dpd_list\n",
    "before_debiasing[\"DI\"] = di_list\n",
    "before_debiasing[\"EOD\"] = eod_list\n",
    "before_debiasing[\"AAOD\"] = aaod_list\n",
    "before_debiasing[\"AUC\"] = roc_auc_list"
   ]
  },
  {
   "cell_type": "markdown",
   "metadata": {},
   "source": [
    "### 4. Massage Data Preprocessing Algorithm\n",
    "\n",
    "To provide an overview of how the Massage Data algorithm works to mitigate bias in a dataset, let's first understand its purpose. As mentioned earlier in the  introduction, It's pre-processing technique that modifies the class labels of certain objects in a strategic manner, with the aim of reducing discrimination while preserving the overall class distribution in a dataset. This is done by selectively promoting or demoting objects, which are then relabeled to achieve greater fairness in the dataset.\n",
    "\n",
    "Promotion candidates are objects that belong to the sensitive group (For Ex: female candidates in a job recruitment dataset) and were assigned the negative class label (For Ex; not hired). Demotion candidates, on the other hand, are objects that belong to the non-sensitive group (For Ex: male candidates) and were assigned the positive class label (For Ex: hired).\n",
    "\n",
    "To identify the promotion and demotion candidates, a ranker is trained to sort objects by their positive class probability. This allows the promotion candidates to be sorted in descending order, while the demotion candidates are sorted in ascending order. This ranking strategy ensures that objects closest to the decision boundary are targeted first for relabeling, which minimizes the impact on the overall accuracy of the dataset.  now let's implement the ranker algorithm to identify the promotion and demotion list. "
   ]
  },
  {
   "cell_type": "code",
   "execution_count": 12,
   "metadata": {},
   "outputs": [],
   "source": [
    "def get_pr_dem(x_train,y_train,z_train,sensitive_attribute, sensitive_class,target_attribute,desired_class):\n",
    "    # Create a ranker model to get promotion and demotion \n",
    "    ranker = RandomForestClassifier(random_state=42)\n",
    "    # Fit the ranker model using the dataset D\n",
    "    ranker.fit(x_train, y_train.values.ravel())\n",
    "    pr = x_train[(z_train[sensitive_attribute] == sensitive_class) & (y_train[target_attribute] != desired_class)].copy()\n",
    "    dem = x_train[(z_train[sensitive_attribute] != sensitive_class) & (y_train[target_attribute] == desired_class)].copy()\n",
    "    pr[\"score\"] = ranker.predict_proba(pr)[:,1]\n",
    "    pr = pr.sort_values(\"score\", ascending=False)\n",
    "    dem[\"score\"] = ranker.predict_proba(dem)[:,1]\n",
    "    dem = dem.sort_values(\"score\", ascending=True)\n",
    "    return pr, dem"
   ]
  },
  {
   "cell_type": "markdown",
   "metadata": {},
   "source": [
    "To achieve a discrimination-free dataset, we need to calculate the number of pairs of promotions and demotions that need to be modified. The formula to achieve zero discrimination is given below."
   ]
  },
  {
   "cell_type": "markdown",
   "metadata": {},
   "source": [
    "$disc_{S=b}(D) := \\frac{\\left|\\{X \\in D | X(S) = w, X(Class) = +\\}\\right|}{\\left|\\{X \\in D | X(S) = w\\}\\right|} - \\frac{\\left|\\{X \\in D | X(S) = b, X(Class) = +\\}\\right|}{\\left|\\{X \\in D | X(S) = b\\}\\right|}$,\n",
    "$M = \\text{disc}(D) \\times \\frac{|D_b| \\times |D_w|}{|D|}$\n",
    "\n",
    "In the above formula, the dataset is denoted by D, and S represents the sensitive attribute, b and w denotes the deprived and favored communities respectively and the superscript + represents the desired class.\n",
    "\n",
    "To select the promotion and demotion candidates in the Massage Data algorithm, the top M objects from the promotion and demotion list are chosen. This method ensures that objects closest to the decision border are relabeled first, which minimizes the impact on the overall accuracy of the model. now let's implement the Massage Data Algorithm"
   ]
  },
  {
   "cell_type": "code",
   "execution_count": 13,
   "metadata": {},
   "outputs": [],
   "source": [
    "def get_massaged_data(x_train,y_train,z_train, sensitive_attribute,sensitive_class,target_attribute,positive_class=1, negative_class=0):\n",
    "    \n",
    "    # Get the promotion and demotion lists\n",
    "    pr, dem = get_pr_dem(x_train,y_train,z_train, sensitive_attribute, sensitive_class, target_attribute, positive_class)\n",
    "    \n",
    "    count_b_positive = len (x_train[(z_train[sensitive_attribute] == sensitive_class) & (y_train[target_attribute] == positive_class)])\n",
    "    count_b = len(x_train[(z_train[sensitive_attribute] == sensitive_class)])\n",
    "    \n",
    "    count_w_positive = len(x_train[(z_train[sensitive_attribute] != sensitive_class) & (y_train[target_attribute] == positive_class)])\n",
    "    count_w = len(x_train[(z_train[sensitive_attribute] != sensitive_class)])\n",
    "    \n",
    "    # Way to calculate M\n",
    "    \n",
    "    discS_b = abs((count_w_positive / count_w) - (count_b_positive / count_b))\n",
    "    di = ((count_b_positive / count_b) / (count_w_positive / count_w))\n",
    "    M = int((discS_b * count_w * count_b)/len(x_train))\n",
    "    \n",
    "    print (\"Discrimination M(Relabeled) :\",M)\n",
    "    # change Top M objects of pr and dem\n",
    "    pr = pr[:M]\n",
    "    pr[target_attribute] = positive_class\n",
    "    dem = dem[:M]\n",
    "    dem[target_attribute] = negative_class\n",
    "    \n",
    "    y_train.loc[pr.index, target_attribute] = positive_class\n",
    "    y_train.loc[dem.index, target_attribute] = negative_class"
   ]
  },
  {
   "cell_type": "markdown",
   "metadata": {},
   "source": [
    "Now that we have implemented the Massage Data Algorithm, we will apply it on the UCI Adult Dataset and examine if the fairness of the data and model has improved in comparison to the original model."
   ]
  },
  {
   "cell_type": "code",
   "execution_count": 14,
   "metadata": {},
   "outputs": [
    {
     "name": "stdout",
     "output_type": "stream",
     "text": [
      "Discrimination M(Relabeled) : 1414\n"
     ]
    }
   ],
   "source": [
    "get_massaged_data(X_train,Y_train,Z_train, sensitive_attribute, unprivileged_class, target_attribute,positive_class)"
   ]
  },
  {
   "cell_type": "markdown",
   "metadata": {},
   "source": [
    "### 5. Fairness After Debiasing"
   ]
  },
  {
   "cell_type": "markdown",
   "metadata": {},
   "source": [
    "#### 5.1 Bias In The Data"
   ]
  },
  {
   "cell_type": "code",
   "execution_count": 15,
   "metadata": {},
   "outputs": [
    {
     "name": "stdout",
     "output_type": "stream",
     "text": [
      "After Data debiasing : DPD 0.00010540260125166401 Disparate Impact : 0.9995623622939646\n"
     ]
    }
   ],
   "source": [
    "dpd_after_debiasing = statistical_parity_difference(X_train,Y_train,target_attribute,positive_class,sensitive_attribute,privileged_class,unprivileged_class)\n",
    "di_after_debiasing = disparate_impact(X_train,Y_train,target_attribute,positive_class,sensitive_attribute,privileged_class,unprivileged_class)\n",
    "print(f\"After Data debiasing : DPD {abs(dpd_after_debiasing)} Disparate Impact : {abs(di_after_debiasing)}\" )"
   ]
  },
  {
   "cell_type": "markdown",
   "metadata": {},
   "source": [
    "#### 5.2 Bias In The Model\n",
    "let's train the model with the relabelled target attribute"
   ]
  },
  {
   "cell_type": "code",
   "execution_count": 16,
   "metadata": {},
   "outputs": [],
   "source": [
    "# y_train = train_samples[target_attribute].values.copy()"
   ]
  },
  {
   "cell_type": "code",
   "execution_count": 17,
   "metadata": {},
   "outputs": [
    {
     "name": "stdout",
     "output_type": "stream",
     "text": [
      "Model : LR accuracy : 0.83 DPD : 0.002 ,DI : 1.009, EOD : 0.302 , AAOD : 0.183\n",
      "Model : GBC accuracy : 0.84 DPD : 0.007 ,DI : 1.035, EOD : 0.298 , AAOD : 0.186\n",
      "Model : RF accuracy : 0.83 DPD : 0.013 ,DI : 0.94, EOD : 0.275 , AAOD : 0.165\n",
      "Model : XGB accuracy : 0.84 DPD : 0.01 ,DI : 1.049, EOD : 0.3 , AAOD : 0.191\n"
     ]
    }
   ],
   "source": [
    "models_names, dpd_list, di_list, eod_list, aaod_list, accuracy_list, roc_auc_list, preds_prob = [], [], [], [], [], [], [], []\n",
    "for name, model in models:\n",
    "    clf = train_model(model, S_train, Y_train.values.ravel())\n",
    "    y_score = clf.predict_proba(S_test)[:, 1]\n",
    "    preds = (y_score > 0.5).astype(int)\n",
    "    accuracy = accuracy_score(Y_test, preds)\n",
    "    fpr, tpr, _ = roc_curve(Y_test, preds)\n",
    "    roc_auc = auc(fpr, tpr)\n",
    "    \n",
    "    DPD, DI, EOD,AAOD = get_model_fairness(Y_test,Z_test[sensitive_attribute]==privileged_class,preds)\n",
    "    dpd_list.append(abs(DPD))\n",
    "    di_list.append(abs(DI))\n",
    "    eod_list.append(abs(EOD))\n",
    "    aaod_list.append(abs(AAOD))\n",
    "    accuracy_list.append(accuracy)\n",
    "    preds_prob.append(y_score)\n",
    "    roc_auc_list.append(roc_auc)\n",
    "    models_names.append(name)\n",
    "    print(f\"Model : {name} accuracy : {round(accuracy,2)} DPD : {abs(round(DPD,3))} ,DI : {abs(round(DI,3))}, EOD : {abs(round(EOD,3))} , AAOD : {abs(round(AAOD,3))}\")"
   ]
  },
  {
   "cell_type": "markdown",
   "metadata": {},
   "source": [
    "To facilitate comparison of model performance and fairness, we will store all the relevant values in a dictionary"
   ]
  },
  {
   "cell_type": "code",
   "execution_count": 18,
   "metadata": {},
   "outputs": [],
   "source": [
    "after_debiasing = defaultdict(dict)\n",
    "after_debiasing[\"Accuracy\"] = accuracy_list\n",
    "after_debiasing[\"DPD\"] = dpd_list\n",
    "after_debiasing[\"DI\"] = di_list\n",
    "after_debiasing[\"EOD\"] = eod_list\n",
    "after_debiasing[\"AAOD\"] = aaod_list\n",
    "after_debiasing[\"AUC\"] = roc_auc_list"
   ]
  },
  {
   "cell_type": "markdown",
   "metadata": {},
   "source": [
    "Now that we have all the data, let's plot and compare the bias of the original and modified datasets to determine if the fairness of the dataset and model has improved or not."
   ]
  },
  {
   "cell_type": "markdown",
   "metadata": {},
   "source": [
    "### 6. Fairness Comparission (Orignial vs Mitigated)"
   ]
  },
  {
   "cell_type": "markdown",
   "metadata": {},
   "source": [
    "#### 6.1 Data Fairness"
   ]
  },
  {
   "cell_type": "markdown",
   "metadata": {},
   "source": [
    "compare the statistical parity difference(demogrpahic parity) of original and relabelled dataset. "
   ]
  },
  {
   "cell_type": "code",
   "execution_count": 19,
   "metadata": {},
   "outputs": [
    {
     "data": {
      "image/png": "[encoded data removed]",
      "text/plain": [
       "<Figure size 288x288 with 1 Axes>"
      ]
     },
     "metadata": {},
     "output_type": "display_data"
    }
   ],
   "source": [
    "plot_fairness_comp(abs(dpd_before_debiasing),abs(dpd_after_debiasing))"
   ]
  },
  {
   "cell_type": "markdown",
   "metadata": {},
   "source": [
    "As you observe the above plots, the initial value of `statistical parity difference` was `0.19`(Original). However, after applying the Massage Data Algorithm, the fairness improved and reached `0.0`(Mitigated). This indicates that the fairness of the dataset has improved significantly with respect to this metric. same let's plot for the `Disparate Impact`."
   ]
  },
  {
   "cell_type": "code",
   "execution_count": 20,
   "metadata": {},
   "outputs": [
    {
     "data": {
      "image/png": "[encoded data removed]",
      "text/plain": [
       "<Figure size 288x288 with 1 Axes>"
      ]
     },
     "metadata": {},
     "output_type": "display_data"
    }
   ],
   "source": [
    "plot_fairness_comp(abs(di_before_debiasing),abs(di_after_debiasing),metric = \"DI\")"
   ]
  },
  {
   "cell_type": "markdown",
   "metadata": {},
   "source": [
    "The initial value of `Disparate Impact` was `0.35`(original), After applying the Massage Data Algorithm, the fairness improved and reached `1.0`(Mitigated). This indicates that the fairness of the dataset has improved significantly with respect to this metric. same let's plot for `Disparate Impact`. Now let's compare Model Performance and Fairness."
   ]
  },
  {
   "cell_type": "markdown",
   "metadata": {},
   "source": [
    "#### 6.2 Model Performance & Fairness"
   ]
  },
  {
   "cell_type": "code",
   "execution_count": 21,
   "metadata": {},
   "outputs": [
    {
     "data": {
      "image/png": "[encoded data removed]",
      "text/plain": [
       "<Figure size 1800x288 with 6 Axes>"
      ]
     },
     "metadata": {
      "needs_background": "light"
     },
     "output_type": "display_data"
    }
   ],
   "source": [
    "def autolabel(rects, axes):\n",
    "        for rect in rects:\n",
    "            h = rect.get_height()\n",
    "            if h < 0:\n",
    "                axes.text(rect.get_x() + rect.get_width() / 2., h - 0.04, '%.2f' % float(h),\n",
    "                          ha='center', va='bottom')\n",
    "            else:\n",
    "                axes.text(rect.get_x() + rect.get_width() / 2., 1.02 * h, '%.2f' % float(h),\n",
    "                          ha='center', va='bottom')\n",
    "ind = np.arange(len(models_names))  # the x locations for the groups\n",
    "width = 0.2  # the width of the bars\n",
    "\n",
    "fig, axs = plt.subplots(1, 6, figsize=(25, 4))\n",
    "\n",
    "for ax,metric in zip (axs.ravel(),after_debiasing.keys()):\n",
    "    fairness_base_bar = ax.bar(ind, before_debiasing[metric], width, color='r',\n",
    "                        label='Before bias mitigation')\n",
    "    fairness_mitigated_bar = ax.bar(ind + width, after_debiasing[metric], width, color='g',\n",
    "                                     label='After bias mitigation')\n",
    "    ax.set_ylabel(metric)\n",
    "    ax.set_xticks(ind + width)\n",
    "    ax.set_xticklabels(models_names)\n",
    "    ax.title.set_text(metric)\n",
    "    autolabel(fairness_base_bar, axes=ax)\n",
    "    autolabel(fairness_mitigated_bar, axes=ax)\n",
    "plt.legend(loc =\"lower right\")\n",
    "plt.show()"
   ]
  },
  {
   "cell_type": "markdown",
   "metadata": {},
   "source": [
    "Based on the above plots, After applying the `Massage Data Algorithm` on the `UCI Adult Dataset`, there was a slight drop in accuracy and ROC-AUC, but it improved the fairness of the dataset with respect to Demographic Parity and Disparate Impact. However, the Equal Opportunity Difference and Equalised Odds fairness metrics have dropped, possibly due to too many adjusted labels. If we can minimise the number of adjusted labels, the fairness of the models will improve for other fairness metrics as well. In a separate tutorial, the Massage Data algorithm was applied to the `UCI German Credit Dataset`, where fairness was improved for all criteria."
   ]
  },
  {
   "cell_type": "markdown",
   "metadata": {},
   "source": [
    "### 7. Summary\n",
    "\n",
    "The Massage Data Algorithm is a fair data preprocessing technique used to mitigate discrimination in machine learning models. This algorithm operates on labeled datasets and adjusts the labels of sensitive attributes to achieve fairness. In this tutorial, we applied the algorithm on the UCI Adult dataset and observed improved fairness in some metrics while others were affected due to a large number of adjusted labels as we discussed we can minimise the number of adjusted labels, the fairness of the models will improve for other fairness metrics as well . The algorithm useful for ensuring fairness in machine learning models."
   ]
  },
  {
   "cell_type": "markdown",
   "metadata": {},
   "source": [
    "### 8. References"
   ]
  },
  {
   "cell_type": "markdown",
   "metadata": {},
   "source": [
    "1. Kamiran, Faisal, and Toon Calders. \"Data preprocessing techniques for classification without discrimination.\" Knowledge and information systems 33, no. 1 (2012): 1-33.\n",
    "2. [UCI Adult Dataset](https://archive.ics.uci.edu/ml/datasets/adult)"
   ]
  }
 ],
 "metadata": {
  "kernelspec": {
   "display_name": "Python 3",
   "language": "python",
   "name": "python3"
  },
  "language_info": {
   "codemirror_mode": {
    "name": "ipython",
    "version": 3
   },
   "file_extension": ".py",
   "mimetype": "text/x-python",
   "name": "python",
   "nbconvert_exporter": "python",
   "pygments_lexer": "ipython3",
   "version": "3.6.10"
  }
 },
 "nbformat": 4,
 "nbformat_minor": 4
}
