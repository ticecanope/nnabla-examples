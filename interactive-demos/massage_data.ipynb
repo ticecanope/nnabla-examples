{
 "cells": [
  {
   "cell_type": "markdown",
   "metadata": {},
   "source": [
    "## Massage Data Preprocessing Algorithm on Different Datasets \n",
    "\n",
    "### Dataset/Model Bias Check and Mitigation by Massage Data Preprocessing Algorithm"
   ]
  },
  {
   "cell_type": "markdown",
   "metadata": {},
   "source": [
    "### Table of contents :\n",
    "1. [Introduction](#1.-Introduction)\n",
    "2. [Data preparation](#2.-Data-Preparation)\n",
    "3. [Fairness Before Debiasing](#3.-Fairness-Before-Debiasing)\n",
    "    * 3.1 [Bias In The Data](#3.1-Bias-In-The-Data)\n",
    "    * 3.2 [Bias In The Model](#3.2-Bias-In-The-Model)\n",
    "4. [Massage Data Preprocessing Algorithm](#4.-Massage-Data-Preprocessing-Algorithm)\n",
    "5. [Fairness After Debiasing](#5.-Fairness-After-Debiasing)\n",
    "    * 5.1 [Bias In The Data](#5.1-Bias-In-The-Data)\n",
    "    * 5.2 [Bias In The Model](#5.2-Bias-In-The-Model)\n",
    "6. [Fairness Comparission (Orignial vs Mitigated)](#6.-Fairness-Comparission-(Orignial-vs-Mitigated)) \n",
    "    * 6.1 [Data Fairness](#6.1-Data-Fairness)\n",
    "    * 6.2 [Model Fairness](#6.2-Model-Performance-and-Fairness)\n",
    "7. [Summary](#7.-Summary)\n",
    "8. [References](#8.-References)"
   ]
  },
  {
   "cell_type": "markdown",
   "metadata": {},
   "source": [
    "### 1. Introduction"
   ]
  },
  {
   "cell_type": "markdown",
   "metadata": {},
   "source": [
    "Welcome!\n",
    "\n",
    "The goal of this tutorial notebook is to demonstrate how to use the Massage Data Preprocessing algorithm to improve fairness metrics on different datasets. We have a separate tutorial notebook for the adult dataset where we have discussed each step of this algorithm in detail, So please [refer](https://github.com/sony/nnabla-examples/blob/master/interactive-demos/massage_adult_dataset.ipynb) to that notebook for more information. In this tutorial, we will dive into how to apply the algorithm on other datasets. Let's get started!"
   ]
  },
  {
   "cell_type": "code",
   "execution_count": 1,
   "metadata": {},
   "outputs": [],
   "source": [
    "# Preparation\n",
    "!git clone https://github.com/sony/nnabla-examples.git\n",
    "%cd nnabla-examples/responsible_ai"
   ]
  },
  {
   "cell_type": "code",
   "execution_count": 2,
   "metadata": {},
   "outputs": [],
   "source": [
    "import sys\n",
    "import numpy as np\n",
    "from collections import defaultdict\n",
    "import matplotlib.pyplot as plt\n",
    "import xgboost as xgb\n",
    "from sklearn.linear_model import LogisticRegression\n",
    "from sklearn.ensemble import RandomForestClassifier\n",
    "from sklearn.ensemble import GradientBoostingClassifier\n",
    "from sklearn.preprocessing import StandardScaler\n",
    "from sklearn.metrics import accuracy_score,confusion_matrix,roc_curve, auc\n",
    "sys.path.append('../responsible_ai/')\n",
    "from massage_data.utils import *\n",
    "from utils.data_loader import *"
   ]
  },
  {
   "cell_type": "markdown",
   "metadata": {},
   "source": [
    "### 2. Data Preparation"
   ]
  },
  {
   "cell_type": "markdown",
   "metadata": {},
   "source": [
    "First, let's load the dataset using the `load_data()` function, specifying the name of the dataset(`data_name`) and setting the `download` parameter. `download` is True if the dataset is not already available.\n",
    "Then it uses the `train_test_split`function of the `data_loader` object to split the data into training and testing sets and shuffle (True) the data before the split.\n",
    "\n",
    "The resulting datasets are assigned to the variables 'X_train', 'X_test','Y_train','Y_test','Z_train', and 'Z_test', which represent the features target variable and protected attributes for the training and testing data. These datasets can then be used to train models and also evaluate fairness."
   ]
  },
  {
   "cell_type": "code",
   "execution_count": 3,
   "metadata": {},
   "outputs": [],
   "source": [
    "data_loader = load_data(data_name='compas', download = True)\n",
    "X_train, X_test,Y_train, Y_test, Z_train, Z_test = data_loader.train_test_split(test_size=0.3,shuffle=True)"
   ]
  },
  {
   "cell_type": "markdown",
   "metadata": {},
   "source": [
    "To prepare the data for fairness evaluation, we need to define the target attribute, sensitive attribute, and privileged/unprivileged classes. We can use the 'data_loader' object created earlier to get this information."
   ]
  },
  {
   "cell_type": "code",
   "execution_count": 4,
   "metadata": {},
   "outputs": [],
   "source": [
    "target_attribute = data_loader.target_variable[0]\n",
    "positive_class = data_loader.favorable_label\n",
    "negative_class= data_loader.unfavorable_label\n",
    "sensitive_attribute = data_loader.protected_attribute[0]\n",
    "privileged_class= data_loader.privileged_classes[0]\n",
    "unprivileged_class = data_loader.unprivileged_classes[0]"
   ]
  },
  {
   "cell_type": "code",
   "execution_count": 5,
   "metadata": {},
   "outputs": [
    {
     "name": "stdout",
     "output_type": "stream",
     "text": [
      "target_attribute : two_year_recid\n",
      "positive_class : 1\n",
      "negative_class : 0\n",
      "sensitive_attribute : sex\n",
      "privileged_class : 1\n",
      "unprivileged_class : 0\n"
     ]
    }
   ],
   "source": [
    "print(f\"target_attribute : {target_attribute}\")\n",
    "print(f\"positive_class : {positive_class}\")\n",
    "print(f\"negative_class : {negative_class}\")\n",
    "print(f\"sensitive_attribute : {sensitive_attribute}\")\n",
    "print(f\"privileged_class : {privileged_class}\")\n",
    "print(f\"unprivileged_class : {unprivileged_class}\")"
   ]
  },
  {
   "cell_type": "markdown",
   "metadata": {},
   "source": [
    "### 3. Fairness Before Debiasing"
   ]
  },
  {
   "cell_type": "markdown",
   "metadata": {},
   "source": [
    "\n",
    "#### 3.1 Bias In The Data\n",
    "\n",
    "Now will check the data bias in the dataset using `Statistical Parity Difference` and `Disparate Impact` metrics before model training. For those who are unfamiliar with these metrics, please refer to our Gender Bias Mitigation and Four Metrics Tutorial Notebook for more information."
   ]
  },
  {
   "cell_type": "code",
   "execution_count": 6,
   "metadata": {},
   "outputs": [],
   "source": [
    "dpd_before_debiasing = statistical_parity_difference(X_train,Y_train,target_attribute,positive_class,sensitive_attribute,privileged_class,unprivileged_class)\n",
    "di_before_debiasing = disparate_impact(X_train,Y_train,target_attribute,positive_class,sensitive_attribute,privileged_class,unprivileged_class)"
   ]
  },
  {
   "cell_type": "code",
   "execution_count": 7,
   "metadata": {},
   "outputs": [
    {
     "name": "stdout",
     "output_type": "stream",
     "text": [
      "Before Data debiasing : DPD 0.12439645182650927 Disparate Impact : 0.807624817993205\n"
     ]
    }
   ],
   "source": [
    "print(f\"Before Data debiasing : DPD {abs(dpd_before_debiasing)} Disparate Impact : {abs(di_before_debiasing)}\" )"
   ]
  },
  {
   "cell_type": "markdown",
   "metadata": {},
   "source": [
    "#### 3.2 Bias In The Model\n",
    "\n",
    "Here in this tutorial we have trained multiple classifiers to evaluate their performance and fairness before and after debiasing the dataset with the Massage Data Preprocessing Algorithm. To keep it simple and facilitate understanding, we have included only the Logistic Regression, GradientBoostingClassifier, Random Forest Classifier, and XGB Classifier in the models list. However, you can add your preferred models to the list and run the experiment accordingly."
   ]
  },
  {
   "cell_type": "code",
   "execution_count": 8,
   "metadata": {},
   "outputs": [],
   "source": [
    "models = []\n",
    "models.append(('LR', LogisticRegression(max_iter=500,random_state=42)))\n",
    "models.append(('GBC', GradientBoostingClassifier(random_state=42)))\n",
    "models.append(('RF', RandomForestClassifier(random_state=42)))\n",
    "models.append(('XGB', xgb.XGBClassifier(eval_metric='mlogloss',use_label_encoder=False)))"
   ]
  },
  {
   "cell_type": "markdown",
   "metadata": {},
   "source": [
    "Let's standardize the dataset before training the model"
   ]
  },
  {
   "cell_type": "code",
   "execution_count": 9,
   "metadata": {},
   "outputs": [],
   "source": [
    "scale_orig = StandardScaler()\n",
    "S_train = scale_orig.fit_transform(X_train)\n",
    "S_test = scale_orig.fit_transform(X_test)"
   ]
  },
  {
   "cell_type": "markdown",
   "metadata": {},
   "source": [
    "As the next step, we will train all the models using the original dataset and evaluate their performance and fairness. We will compute the fairness metrics, including `Demographic Parity Difference (DPD)`, `Disparate Impact (DI)`, `Equal Opportunity Difference (EOD)`, and `Equalized Odds (AAOD)`, using the `get_model_fairness` function. Additionally, to evaluate the model performance, we will compute the `Accuracy` and `ROC-AUC` metrics."
   ]
  },
  {
   "cell_type": "code",
   "execution_count": 10,
   "metadata": {},
   "outputs": [
    {
     "name": "stdout",
     "output_type": "stream",
     "text": [
      "Model : LR accuracy : 0.66 DPD : 0.273 ,DI : 0.674, EOD : 0.197 , AAOD : 0.247, AUC : 0.654\n",
      "Model : GBC accuracy : 0.68 DPD : 0.213 ,DI : 0.731, EOD : 0.153 , AAOD : 0.173, AUC : 0.673\n",
      "Model : RF accuracy : 0.65 DPD : 0.211 ,DI : 0.703, EOD : 0.189 , AAOD : 0.167, AUC : 0.647\n",
      "Model : XGB accuracy : 0.67 DPD : 0.174 ,DI : 0.767, EOD : 0.109 , AAOD : 0.14, AUC : 0.66\n"
     ]
    }
   ],
   "source": [
    "models_names, dpd_list, di_list, eod_list, aaod_list, accuracy_list, roc_auc_list, preds_prob = [], [], [], [], [], [], [], []\n",
    "for name, model in models:\n",
    "    clf = train_model(model, S_train, Y_train.values.ravel())\n",
    "    y_score = clf.predict_proba(S_test)[:, 1]\n",
    "    preds = (y_score > 0.5).astype(int)\n",
    "    accuracy = accuracy_score(Y_test, preds)\n",
    "    fpr, tpr, _ = roc_curve(Y_test, preds)\n",
    "    roc_auc = auc(fpr, tpr)\n",
    "    \n",
    "    DPD, DI, EOD,AAOD = get_model_fairness(Y_test,Z_test[sensitive_attribute]==privileged_class,preds)\n",
    "    dpd_list.append(abs(DPD))\n",
    "    di_list.append(abs(DI))\n",
    "    eod_list.append(abs(EOD))\n",
    "    aaod_list.append(abs(AAOD))\n",
    "    accuracy_list.append(accuracy)\n",
    "    preds_prob.append(y_score)\n",
    "    roc_auc_list.append(roc_auc)\n",
    "    models_names.append(name)\n",
    "    print(f\"Model : {name} accuracy : {round(accuracy,2)} DPD : {abs(round(DPD,3))} ,DI : {abs(round(DI,3))}, EOD : {abs(round(EOD,3))} , AAOD : {abs(round(AAOD,3))}, AUC : {abs(round(roc_auc,3))}\")"
   ]
  },
  {
   "cell_type": "markdown",
   "metadata": {},
   "source": [
    "Check if the fairness metric indicates any bias towards a particular group. if such bias exists, use the Massage Data Preprocessing algorithm to address it and make the model more fair. "
   ]
  },
  {
   "cell_type": "markdown",
   "metadata": {},
   "source": [
    "To facilitate comparison of model performance and fairness, we will store all the relevant values in a dictionary"
   ]
  },
  {
   "cell_type": "code",
   "execution_count": 11,
   "metadata": {},
   "outputs": [],
   "source": [
    "before_debiasing = defaultdict(dict)\n",
    "before_debiasing[\"Accuracy\"] = accuracy_list\n",
    "before_debiasing[\"DPD\"] = dpd_list\n",
    "before_debiasing[\"DI\"] = di_list\n",
    "before_debiasing[\"EOD\"] = eod_list\n",
    "before_debiasing[\"AAOD\"] = aaod_list\n",
    "before_debiasing[\"AUC\"] = roc_auc_list"
   ]
  },
  {
   "cell_type": "markdown",
   "metadata": {},
   "source": [
    "### 4. Massage Data Preprocessing Algorithm"
   ]
  },
  {
   "cell_type": "markdown",
   "metadata": {},
   "source": [
    "To learn more about the Massage Data Preprocessing Algorithm, we have created a tutorial notebook called [\"massage_adult_dataset.ipynb\"](https://github.com/sony/nnabla-examples/blob/master/interactive-demos/massage_adult_dataset.ipynb) where you can find the detailed explanation in section 4. Now let's define a function to obtain the promotion and demotion list."
   ]
  },
  {
   "cell_type": "code",
   "execution_count": 12,
   "metadata": {},
   "outputs": [],
   "source": [
    "def get_pr_dem(x_train,y_train,z_train,sensitive_attribute, sensitive_class,target_attribute,desired_class):\n",
    "    # Create a ranker model to get promotion and demotion \n",
    "    ranker = RandomForestClassifier(random_state=42)\n",
    "    # Fit the ranker model using the dataset D\n",
    "    ranker.fit(x_train, y_train.values.ravel())\n",
    "    pr = x_train[(z_train[sensitive_attribute] == sensitive_class) & (y_train[target_attribute] != desired_class)].copy()\n",
    "    dem = x_train[(z_train[sensitive_attribute] != sensitive_class) & (y_train[target_attribute] == desired_class)].copy()\n",
    "    pr[\"score\"] = ranker.predict_proba(pr)[:,1]\n",
    "    pr = pr.sort_values(\"score\", ascending=False)\n",
    "    dem[\"score\"] = ranker.predict_proba(dem)[:,1]\n",
    "    dem = dem.sort_values(\"score\", ascending=True)\n",
    "    return pr, dem"
   ]
  },
  {
   "cell_type": "markdown",
   "metadata": {},
   "source": [
    "To achieve a discrimination-free dataset, we need to calculate the number of pairs of promotions and demotions that need to be modified. The formula to achieve zero discrimination is given below.\n",
    "\n",
    "$disc_{S=b}(D) := \\frac{\\left|\\{X \\in D | X(S) = w, X(Class) = +\\}\\right|}{\\left|\\{X \\in D | X(S) = w\\}\\right|} - \\frac{\\left|\\{X \\in D | X(S) = b, X(Class) = +\\}\\right|}{\\left|\\{X \\in D | X(S) = b\\}\\right|}$,\n",
    "$M = \\text{disc}(D) \\times \\frac{|D_b| \\times |D_w|}{|D|}$\n",
    "\n",
    "In the above formula, the dataset is denoted by D, and S represents the sensitive attribute, b and w denotes the deprived and favored communities respectively and the superscript + represents the desired class."
   ]
  },
  {
   "cell_type": "code",
   "execution_count": 13,
   "metadata": {},
   "outputs": [],
   "source": [
    "def get_massaged_data(x_train,y_train,z_train, sensitive_attribute,sensitive_class,target_attribute,positive_class=1, negative_class=0):\n",
    "    \n",
    "    # Get the promotion and demotion lists\n",
    "    pr, dem = get_pr_dem(x_train,y_train,z_train, sensitive_attribute, sensitive_class, target_attribute, positive_class)\n",
    "    \n",
    "    count_b_positive = len (x_train[(z_train[sensitive_attribute] == sensitive_class) & (y_train[target_attribute] == positive_class)])\n",
    "    count_b = len(x_train[(z_train[sensitive_attribute] == sensitive_class)])\n",
    "    \n",
    "    count_w_positive = len(x_train[(z_train[sensitive_attribute] != sensitive_class) & (y_train[target_attribute] == positive_class)])\n",
    "    count_w = len(x_train[(z_train[sensitive_attribute] != sensitive_class)])\n",
    "    \n",
    "    # Way to calculate M\n",
    "    \n",
    "    discS_b = abs((count_w_positive / count_w) - (count_b_positive / count_b))\n",
    "    di = ((count_b_positive / count_b) / (count_w_positive / count_w))\n",
    "    M = int((discS_b * count_w * count_b)/len(x_train))\n",
    "    \n",
    "    print (\"Discrimination M(Relabeled) :\",M)\n",
    "    # change Top M objects of pr and dem\n",
    "    pr = pr[:M]\n",
    "    pr[target_attribute] = positive_class\n",
    "    dem = dem[:M]\n",
    "    dem[target_attribute] = negative_class\n",
    "    \n",
    "    y_train.loc[pr.index, target_attribute] = positive_class\n",
    "    y_train.loc[dem.index, target_attribute] = negative_class"
   ]
  },
  {
   "cell_type": "markdown",
   "metadata": {},
   "source": [
    "Now we have implemented the \"Massage Data Preprocessing Algorithm\", apply it on the specified dataset to reduce bias."
   ]
  },
  {
   "cell_type": "code",
   "execution_count": 14,
   "metadata": {},
   "outputs": [
    {
     "name": "stdout",
     "output_type": "stream",
     "text": [
      "Discrimination M(Relabeled) : 83\n"
     ]
    }
   ],
   "source": [
    "get_massaged_data(X_train,Y_train,Z_train, sensitive_attribute, unprivileged_class, target_attribute,positive_class)"
   ]
  },
  {
   "cell_type": "markdown",
   "metadata": {},
   "source": [
    "### 5. Fairness After Debiasing\n",
    "#### 5.1 Bias In The Data"
   ]
  },
  {
   "cell_type": "code",
   "execution_count": 15,
   "metadata": {},
   "outputs": [],
   "source": [
    "dpd_after_debiasing = statistical_parity_difference(X_train,Y_train,target_attribute,positive_class,sensitive_attribute,privileged_class,unprivileged_class)\n",
    "di_after_debiasing = disparate_impact(X_train,Y_train,target_attribute,positive_class,sensitive_attribute,privileged_class,unprivileged_class)"
   ]
  },
  {
   "cell_type": "code",
   "execution_count": 16,
   "metadata": {},
   "outputs": [
    {
     "name": "stdout",
     "output_type": "stream",
     "text": [
      "After Data debiasing : DPD 0.0008204806312769319 Disparate Impact : 0.9984996925599507\n"
     ]
    }
   ],
   "source": [
    "print(f\"After Data debiasing : DPD {abs(dpd_after_debiasing)} Disparate Impact : {abs(di_after_debiasing)}\" )"
   ]
  },
  {
   "cell_type": "markdown",
   "metadata": {},
   "source": [
    "#### 5.2 Bias In The Model\n",
    "Let's train the model with the relabelled target attribute"
   ]
  },
  {
   "cell_type": "code",
   "execution_count": 17,
   "metadata": {},
   "outputs": [
    {
     "name": "stdout",
     "output_type": "stream",
     "text": [
      "Model : LR accuracy : 0.66 DPD : 0.012 ,DI : 0.981, EOD : 0.009 , AAOD : 0.035\n",
      "Model : GBC accuracy : 0.68 DPD : 0.087 ,DI : 0.872, EOD : 0.05 , AAOD : 0.038\n",
      "Model : RF accuracy : 0.64 DPD : 0.118 ,DI : 0.81, EOD : 0.067 , AAOD : 0.085\n",
      "Model : XGB accuracy : 0.66 DPD : 0.009 ,DI : 1.015, EOD : 0.063 , AAOD : 0.047\n"
     ]
    }
   ],
   "source": [
    "models_names, dpd_list, di_list, eod_list, aaod_list, accuracy_list, roc_auc_list, preds_prob = [], [], [], [], [], [], [], []\n",
    "for name, model in models:\n",
    "    clf = train_model(model, S_train, Y_train.values.ravel())\n",
    "    y_score = clf.predict_proba(S_test)[:, 1]\n",
    "    preds = (y_score > 0.5).astype(int)\n",
    "    accuracy = accuracy_score(Y_test, preds)\n",
    "    fpr, tpr, _ = roc_curve(Y_test, preds)\n",
    "    roc_auc = auc(fpr, tpr)\n",
    "    \n",
    "    DPD, DI, EOD,AAOD = get_model_fairness(Y_test,Z_test[sensitive_attribute]==privileged_class,preds)\n",
    "    dpd_list.append(abs(DPD))\n",
    "    di_list.append(abs(DI))\n",
    "    eod_list.append(abs(EOD))\n",
    "    aaod_list.append(abs(AAOD))\n",
    "    accuracy_list.append(accuracy)\n",
    "    preds_prob.append(y_score)\n",
    "    roc_auc_list.append(roc_auc)\n",
    "    models_names.append(name)\n",
    "    print(f\"Model : {name} accuracy : {round(accuracy,2)} DPD : {abs(round(DPD,3))} ,DI : {abs(round(DI,3))}, EOD : {abs(round(EOD,3))} , AAOD : {abs(round(AAOD,3))}\")"
   ]
  },
  {
   "cell_type": "markdown",
   "metadata": {},
   "source": [
    "To facilitate comparison of model performance and fairness, we will store all the relevant values in a dictionary"
   ]
  },
  {
   "cell_type": "code",
   "execution_count": 18,
   "metadata": {},
   "outputs": [],
   "source": [
    "after_debiasing = defaultdict(dict)\n",
    "after_debiasing[\"Accuracy\"] = accuracy_list\n",
    "after_debiasing[\"DPD\"] = dpd_list\n",
    "after_debiasing[\"DI\"] = di_list\n",
    "after_debiasing[\"EOD\"] = eod_list\n",
    "after_debiasing[\"AAOD\"] = aaod_list\n",
    "after_debiasing[\"AUC\"] = roc_auc_list"
   ]
  },
  {
   "cell_type": "markdown",
   "metadata": {},
   "source": [
    "Now that we have all the data, let's plot and compare the bias of the original and modified datasets to determine if the fairness of the dataset and model has improved or not."
   ]
  },
  {
   "cell_type": "markdown",
   "metadata": {},
   "source": [
    "### 6. Fairness Comparission (Orignial vs Mitigated)"
   ]
  },
  {
   "cell_type": "markdown",
   "metadata": {},
   "source": [
    "#### 6.1 Data Fairness"
   ]
  },
  {
   "cell_type": "markdown",
   "metadata": {},
   "source": [
    "Compare the Statistical Parity Difference(Demogrpahic Parity) of Original and Relabelled dataset. "
   ]
  },
  {
   "cell_type": "code",
   "execution_count": 19,
   "metadata": {},
   "outputs": [
    {
     "data": {
      "image/png": "[encoded data removed]",
      "text/plain": [
       "<Figure size 288x288 with 1 Axes>"
      ]
     },
     "metadata": {},
     "output_type": "display_data"
    }
   ],
   "source": [
    "plot_fairness_comp(abs(dpd_before_debiasing),abs(dpd_after_debiasing))"
   ]
  },
  {
   "cell_type": "markdown",
   "metadata": {},
   "source": [
    "compare the Disparate Impact of Original and Relabelled dataset."
   ]
  },
  {
   "cell_type": "code",
   "execution_count": 20,
   "metadata": {},
   "outputs": [
    {
     "data": {
      "image/png": "[encoded data removed]",
      "text/plain": [
       "<Figure size 288x288 with 1 Axes>"
      ]
     },
     "metadata": {},
     "output_type": "display_data"
    }
   ],
   "source": [
    "plot_fairness_comp(abs(di_before_debiasing),abs(di_after_debiasing),metric = \"DI\")"
   ]
  },
  {
   "cell_type": "markdown",
   "metadata": {},
   "source": [
    "#### 6.2 Model Performance and Fairness"
   ]
  },
  {
   "cell_type": "code",
   "execution_count": 21,
   "metadata": {},
   "outputs": [
    {
     "data": {
      "image/png": "[encoded data removed]",
      "text/plain": [
       "<Figure size 1800x288 with 6 Axes>"
      ]
     },
     "metadata": {
      "needs_background": "light"
     },
     "output_type": "display_data"
    }
   ],
   "source": [
    "def autolabel(rects, axes):\n",
    "        for rect in rects:\n",
    "            h = rect.get_height()\n",
    "            if h < 0:\n",
    "                axes.text(rect.get_x() + rect.get_width() / 2., h - 0.04, '%.2f' % float(h),\n",
    "                          ha='center', va='bottom')\n",
    "            else:\n",
    "                axes.text(rect.get_x() + rect.get_width() / 2., 1.02 * h, '%.2f' % float(h),\n",
    "                          ha='center', va='bottom')\n",
    "ind = np.arange(len(models_names))  # the x locations for the groups\n",
    "width = 0.2  # the width of the bars\n",
    "\n",
    "fig, axs = plt.subplots(1, 6, figsize=(25, 4))\n",
    "\n",
    "for ax,metric in zip (axs.ravel(),after_debiasing.keys()):\n",
    "    fairness_base_bar = ax.bar(ind, before_debiasing[metric], width, color='r',\n",
    "                        label='Before bias mitigation')\n",
    "    fairness_mitigated_bar = ax.bar(ind + width, after_debiasing[metric], width, color='g',\n",
    "                                     label='After bias mitigation')\n",
    "    ax.set_ylabel(metric)\n",
    "    ax.set_xticks(ind + width)\n",
    "    ax.set_xticklabels(models_names)\n",
    "    ax.title.set_text(metric)\n",
    "    autolabel(fairness_base_bar, axes=ax)\n",
    "    autolabel(fairness_mitigated_bar, axes=ax)\n",
    "plt.legend(loc =\"lower right\")\n",
    "plt.show()"
   ]
  },
  {
   "cell_type": "markdown",
   "metadata": {},
   "source": [
    "Above plots indicate whether there is any improvement in model fairness after application of \"Massage Data Preprocessing Algorithm\". We used several fairness metrics such as Demographic Parity, Disparate Impact, Equal Opportunity Difference and Equalised odds, along with Accuracy and ROC-AUC for measuring the model performance. However, in some cases, it can be observed that the model fairness decreases for some fairness metrics (Equal Opportunity Difference and Equalised odds) due to a large number of adjusted labels. If the number of adjusted labels are minimized, other fairness metrics could be improved."
   ]
  },
  {
   "cell_type": "markdown",
   "metadata": {},
   "source": [
    "### 7. Summary\n",
    "This tutorial provides a high-level overview of how to use the \"Massage Data Pre-processing\" algorithm to reduce bias in datasets and mitigate discrimination in machine learning models. The algorithm operates on labeled datasets and adjusts the labels of sensitive attributes to achieve fairness. We demonstrated how to apply this algorithm on different datasets and showed how it can be used to improve fairness metrics."
   ]
  },
  {
   "cell_type": "markdown",
   "metadata": {},
   "source": [
    "### 8. References"
   ]
  },
  {
   "cell_type": "markdown",
   "metadata": {},
   "source": [
    "1. Kamiran, Faisal, and Toon Calders. \"Data preprocessing techniques for classification without discrimination.\" Knowledge and information systems 33, no. 1 (2012): 1-33."
   ]
  }
 ],
 "metadata": {
  "kernelspec": {
   "display_name": "Python 3",
   "language": "python",
   "name": "python3"
  },
  "language_info": {
   "codemirror_mode": {
    "name": "ipython",
    "version": 3
   },
   "file_extension": ".py",
   "mimetype": "text/x-python",
   "name": "python",
   "nbconvert_exporter": "python",
   "pygments_lexer": "ipython3",
   "version": "3.6.10"
  }
 },
 "nbformat": 4,
 "nbformat_minor": 4
}
