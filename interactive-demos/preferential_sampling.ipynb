{
 "cells": [
  {
   "cell_type": "markdown",
   "metadata": {},
   "source": [
    "## Preferential Sampling Algorithm"
   ]
  },
  {
   "cell_type": "markdown",
   "metadata": {
    "jp-MarkdownHeadingCollapsed": true,
    "tags": []
   },
   "source": [
    "### Table of contents :\n",
    "1. [Introduction](#1.-Introduction)\n",
    "2. [Data preparation](#2.-Data-Preparation)\n",
    "3. [Fairness Before Debiasing](#3.-Fairness-Before-Debiasing)\n",
    "    * 3.1 [Bias In The Data](#3.1-Bias-In-The-Data)\n",
    "    * 3.2 [Bias In The Model](#3.2-Bias-In-The-Model)\n",
    "4. [Preferential Sampling Algorithm](#4.-Preferential-Sampling-Algorithm)\n",
    "5. [Fairness After Debiasing](#5.-Fairness-After-Debiasing)\n",
    "    * 5.1 [Bias In The Data](#5.1-Bias-In-The-Data)\n",
    "    * 5.2 [Bias In The Model](#5.2-Bias-In-The-Model)\n",
    "6. [Fairness Comparission (Orignial vs Mitigated)](#6.-Fairness-Comparission-(Orignial-vs-Mitigated)) \n",
    "    * 6.1 [Data Fairness](#6.1-Data-Fairness)\n",
    "    * 6.2 [Model Fairness](#6.2-Model-Performance-and-Fairness)\n",
    "7. [Summary](#7.-Summary)\n",
    "8. [References](#8.-References)"
   ]
  },
  {
   "cell_type": "markdown",
   "metadata": {},
   "source": [
    "### 1. Introduction"
   ]
  },
  {
   "cell_type": "markdown",
   "metadata": {},
   "source": [
    "Welcome!\n",
    "\n",
    "The goal of this tutorial is to showcase the usage of the Preferential Sampling (PS) algorithm to enhance fairness metrics across various datasets. Preferential Sampling is a pre-processing technique that reduces the discrimination in the dataset by using a sampling technique. In the previous tutorials we have discussed other pre-processing algorithms such as \"Reweighing[link]\" and \"Massage Data[link]\". In this tutorial, we will cover the key concepts of the algorithm and provide step-by-step instructions to implement it on various datasets.\n",
    "\n",
    "Before we go into detailed explanation, here is a sneak peek into the steps involved in the process."
   ]
  },
  {
   "cell_type": "code",
   "execution_count": 1,
   "metadata": {},
   "outputs": [],
   "source": [
    "# Preparation\n",
    "!git clone https://github.com/sony/nnabla-examples.git\n",
    "%cd nnabla-examples/responsible_ai\n",
    "import cv2\n",
    "from google.colab.patches import cv2_imshow\n",
    "img = cv2.imread(r'preferential_sampling/images/preferential_sampling_workflow_diagram.png')\n",
    "cv2_imshow(img)"
   ]
  },
  {
   "cell_type": "code",
   "execution_count": 3,
   "metadata": {},
   "outputs": [],
   "source": [
    "import numpy as np\n",
    "import sys\n",
    "from collections import defaultdict\n",
    "import matplotlib.pyplot as plt\n",
    "import xgboost as xgb\n",
    "from sklearn.linear_model import LogisticRegression\n",
    "from sklearn.ensemble import RandomForestClassifier\n",
    "from sklearn.ensemble import GradientBoostingClassifier\n",
    "from sklearn.preprocessing import StandardScaler\n",
    "from sklearn.metrics import accuracy_score,confusion_matrix,roc_curve, auc\n",
    "\n",
    "sys.path.append('../responsible_ai/')\n",
    "from preferential_sampling.utils import *\n",
    "from utils.data_loader import *"
   ]
  },
  {
   "cell_type": "markdown",
   "metadata": {},
   "source": [
    "### 2. Data Preparation"
   ]
  },
  {
   "cell_type": "markdown",
   "metadata": {},
   "source": [
    "First, let's load the dataset and split it into training and testing sets."
   ]
  },
  {
   "cell_type": "code",
   "execution_count": 4,
   "metadata": {},
   "outputs": [],
   "source": [
    "data_loader = load_data(data_name='compas', download = True)\n",
    "X_train, X_test, Y_train, Y_test, Z_train, Z_test = data_loader.train_test_split(test_size=0.3,shuffle=True,random_state=0)"
   ]
  },
  {
   "cell_type": "markdown",
   "metadata": {},
   "source": [
    "To prepare the data for fairness evaluation, we need to define the target attribute, sensitive attribute and privileged/unprivileged classes."
   ]
  },
  {
   "cell_type": "code",
   "execution_count": 5,
   "metadata": {},
   "outputs": [],
   "source": [
    "target_attribute = data_loader.target_variable[0]\n",
    "positive_class = data_loader.favorable_label\n",
    "negative_class= data_loader.unfavorable_label\n",
    "sensitive_attribute = data_loader.protected_attribute[0]\n",
    "privileged_class= data_loader.privileged_classes[0]\n",
    "unprivileged_class = data_loader.unprivileged_classes[0]"
   ]
  },
  {
   "cell_type": "code",
   "execution_count": 6,
   "metadata": {},
   "outputs": [
    {
     "name": "stdout",
     "output_type": "stream",
     "text": [
      "target_attribute : two_year_recid\n",
      "positive_class : 1\n",
      "negative_class : 0\n",
      "sensitive_attribute : sex\n",
      "privileged_class : 1\n",
      "unprivileged_class : 0\n"
     ]
    }
   ],
   "source": [
    "print(f\"target_attribute : {target_attribute}\")\n",
    "print(f\"positive_class : {positive_class}\")\n",
    "print(f\"negative_class : {negative_class}\")\n",
    "print(f\"sensitive_attribute : {sensitive_attribute}\")\n",
    "print(f\"privileged_class : {privileged_class}\")\n",
    "print(f\"unprivileged_class : {unprivileged_class}\")"
   ]
  },
  {
   "cell_type": "markdown",
   "metadata": {},
   "source": [
    "### 3. Fairness Before Debiasing"
   ]
  },
  {
   "cell_type": "markdown",
   "metadata": {},
   "source": [
    "#### 3.1 Bias In The Data\n",
    "\n",
    "Now let us check the data bias in the dataset using \"Statistical Parity Difference[link]\" and \"Disparate Impact[link]\" metrics before model training. "
   ]
  },
  {
   "cell_type": "code",
   "execution_count": 7,
   "metadata": {},
   "outputs": [],
   "source": [
    "dpd_before_debiasing = statistical_parity_difference(X_train,Y_train,target_attribute,positive_class,sensitive_attribute,privileged_class,unprivileged_class)\n",
    "di_before_debiasing = disparate_impact(X_train,Y_train,target_attribute,positive_class,sensitive_attribute,privileged_class,unprivileged_class)"
   ]
  },
  {
   "cell_type": "code",
   "execution_count": 8,
   "metadata": {},
   "outputs": [
    {
     "name": "stdout",
     "output_type": "stream",
     "text": [
      "Before Data debiasing : DPD 0.12185074184660516 Disparate Impact : 0.8122901942928004\n"
     ]
    }
   ],
   "source": [
    "print(f\"Before Data debiasing : DPD {abs(dpd_before_debiasing)} Disparate Impact : {abs(di_before_debiasing)}\" )"
   ]
  },
  {
   "cell_type": "markdown",
   "metadata": {},
   "source": [
    "#### 3.2 Bias In The Model\n",
    "\n",
    "Here in this tutorial we shall train multiple classifiers to evaluate their performance and fairness before and after debiasing the dataset with the Preferential Sampling Algorithm. To keep it simple and facilitate understanding, we have included only the Logistic Regression, GradientBoostingClassifier, Random Forest Classifier, and XGB Classifier in the models list. However, you can add your preferred models to the list and run other experiments accordingly."
   ]
  },
  {
   "cell_type": "code",
   "execution_count": 9,
   "metadata": {},
   "outputs": [],
   "source": [
    "models = []\n",
    "models.append(('LR', LogisticRegression(max_iter=500,random_state=42)))\n",
    "models.append(('GBC', GradientBoostingClassifier(random_state=42)))\n",
    "models.append(('RF', RandomForestClassifier(random_state=42)))\n",
    "models.append(('XGB', xgb.XGBClassifier(eval_metric='mlogloss',use_label_encoder=False)))"
   ]
  },
  {
   "cell_type": "code",
   "execution_count": 10,
   "metadata": {},
   "outputs": [],
   "source": [
    "scale_orig = StandardScaler() # scale before modelling\n",
    "S_train = scale_orig.fit_transform(X_train)\n",
    "S_test = scale_orig.fit_transform(X_test)"
   ]
  },
  {
   "cell_type": "markdown",
   "metadata": {},
   "source": [
    "#### Evaluation"
   ]
  },
  {
   "cell_type": "code",
   "execution_count": 11,
   "metadata": {},
   "outputs": [
    {
     "name": "stdout",
     "output_type": "stream",
     "text": [
      "Model : LR accuracy : 0.65 DPD : 0.19 ,DI : 0.76, EOD : 0.108 , AAOD : 0.167\n",
      "Model : GBC accuracy : 0.68 DPD : 0.176 ,DI : 0.763, EOD : 0.091 , AAOD : 0.141\n",
      "Model : RF accuracy : 0.65 DPD : 0.132 ,DI : 0.801, EOD : 0.071 , AAOD : 0.1\n",
      "Model : XGB accuracy : 0.67 DPD : 0.185 ,DI : 0.757, EOD : 0.107 , AAOD : 0.151\n"
     ]
    }
   ],
   "source": [
    "models_names, dpd_list, di_list, eod_list, aaod_list, accuracy_list, roc_auc_list, preds_prob = [], [], [], [], [], [], [], []\n",
    "for name, model in models:\n",
    "    clf = train_model(model, S_train, Y_train.values.ravel())\n",
    "    y_score = clf.predict_proba(S_test)[:, 1]\n",
    "    preds = (y_score > 0.5).astype(int)\n",
    "    accuracy = accuracy_score(Y_test, preds)\n",
    "    fpr, tpr, _ = roc_curve(Y_test, preds)\n",
    "    roc_auc = auc(fpr, tpr)\n",
    "    \n",
    "    DPD, DI, EOD,AAOD = get_model_fairness(Y_test,Z_test[sensitive_attribute]==privileged_class,preds)\n",
    "    dpd_list.append(abs(DPD))\n",
    "    di_list.append(abs(DI))\n",
    "    eod_list.append(abs(EOD))\n",
    "    aaod_list.append(abs(AAOD))\n",
    "    accuracy_list.append(accuracy)\n",
    "    preds_prob.append(y_score)\n",
    "    roc_auc_list.append(roc_auc)\n",
    "    models_names.append(name)\n",
    "    print(f\"Model : {name} accuracy : {round(accuracy,2)} DPD : {abs(round(DPD,3))} ,DI : {abs(round(DI,3))}, EOD : {abs(round(EOD,3))} , AAOD : {abs(round(AAOD,3))}\")"
   ]
  },
  {
   "cell_type": "markdown",
   "metadata": {},
   "source": [
    "Check if the fairness metric indicates any bias towards a particular group. If such bias exists, use the Preferential Sampling algorithm to address it and make the model more fair."
   ]
  },
  {
   "cell_type": "code",
   "execution_count": 12,
   "metadata": {},
   "outputs": [],
   "source": [
    "before_debiasing = defaultdict(dict)\n",
    "before_debiasing[\"Accuracy\"] = accuracy_list\n",
    "before_debiasing[\"DPD\"] = dpd_list\n",
    "before_debiasing[\"DI\"] = di_list\n",
    "before_debiasing[\"EOD\"] = eod_list\n",
    "before_debiasing[\"AAOD\"] = aaod_list\n",
    "before_debiasing[\"AUC\"] = roc_auc_list"
   ]
  },
  {
   "cell_type": "markdown",
   "metadata": {},
   "source": [
    "### 4. Preferential Sampling Algorithm\n",
    "\n",
    "Preferential Sampling (PS) is a method used to create a discrimination-free training set by using a sampling technique. \n",
    "\n",
    "The idea behind PS is that data objects that are close to the borderline where discrimination may have occurred, are more likely to have been treated unfairly or favored due to discrimination in the dataset. Therefore, PS gives preference to these borderline objects when selecting samples.\n",
    "\n",
    "To implement PS, the training dataset is divided into four groups based on the sensitive attribute (SA) and class labels (c). \n",
    "\n",
    "These groups are DP (Discriminated community with Positive class labels), DN (Discriminated community with Negative class labels), PP (Privileged community with Positive class labels), and PN (Privileged community with Negative class labels).\n",
    "\n",
    "$$\\begin{align*}\n",
    "DP & := \\{x \\in D \\mid x.\\text{SA} = s \\land x.c = +\\} \\\\\n",
    "DN & := \\{x \\in D \\mid x.\\text{SA} = s \\land x.c = -\\} \\\\\n",
    "PP & := \\{x \\in D \\mid x.\\text{SA} = \\bar{s} \\land x.c = +\\} \\\\\n",
    "PN & := \\{x \\in D \\mid x.\\text{SA} = \\bar{s} \\land x.c = -\\} \\\\\n",
    "\\end{align*}$$\n",
    "$$ Where as \n",
    " D: Labeled Dataset, SA: Sensitive Attribute, c: Class label, x: Features In Dataset D$$\n",
    "\n",
    "To identify the borderline objects, PS first trains a ranker on the training data. This ranker is used to sort the objects in the DP and PP groups in ascending order, and the objects in the DN and PN groups in descending order, based on their positive class probabilities. This sorting ensures that objects with higher ranks are closer to the borderline.\n",
    "\n",
    "To make the dataset bias-free, PS calculates the expected size for each group using the formula: \n",
    "\n",
    "$$v \\in SA \\text{ and } c \\in C \\text{ by } \\frac{|v| \\times |c|}{|D|}$$\n",
    "\n",
    "The PS process starts with the original training dataset and iteratively adjusts it. \n",
    "\n",
    "For the DP and PN groups, samples are duplicated, while for the DN and PP groups, samples are removed. The size of a group is reduced by removing the data objects that are closest to the borderline (i.e., the top element). On the other hand, to increase the sample size, the data object that is closest to the borderline is duplicated.\n",
    "\n"
   ]
  },
  {
   "cell_type": "markdown",
   "metadata": {},
   "source": [
    "Beflow figure is an illustration of \"Preferential Sampling (PS)\", for 40 data points. Data points of the desired class and the negative class are represented by + and - symbols respectively. "
   ]
  },
  {
   "cell_type": "code",
   "execution_count": 13,
   "metadata": {},
   "outputs": [
    {
     "data": {
      "image/png": "[encoded data removed]",
      "text/plain": [
       "<IPython.core.display.Image object>"
      ]
     },
     "execution_count": 13,
     "metadata": {},
     "output_type": "execute_result"
    }
   ],
   "source": [
    "img = cv2.imread(r'preferential_sampling/images/preferential_sampling_representation.PNG')\n",
    "cv2_imshow(img)"
   ]
  },
  {
   "cell_type": "markdown",
   "metadata": {},
   "source": [
    "Now let's implement the Preferential Sampling algorithm"
   ]
  },
  {
   "cell_type": "code",
   "execution_count": 14,
   "metadata": {},
   "outputs": [],
   "source": [
    "def preferential_sampling(df, df_c, class_attribute, favourable_class, un_favourable_class, df_s, sensitive_attribute, privileged_class, unprivileged_class):\n",
    "    # Separate four groups based on sensitive attribute  and class attribute: DP, DN, PP, PN\n",
    "    df = pd.concat([df, df_c], axis=1)\n",
    "    DP = df[(df_s[sensitive_attribute] == unprivileged_class) & (df_c[class_attribute] == favourable_class)]\n",
    "    DN = df[(df_s[sensitive_attribute] == unprivileged_class) & (df_c[class_attribute] == un_favourable_class)]\n",
    "    PP = df[(df_s[sensitive_attribute] == privileged_class) & (df_c[class_attribute] == favourable_class)]\n",
    "    PN = df[(df_s[sensitive_attribute] == privileged_class) & (df_c[class_attribute] == un_favourable_class)]\n",
    "\n",
    "    # Learn a ranking model ranker on D\n",
    "    ranker = RandomForestClassifier(random_state=42)\n",
    "    X = df.drop([class_attribute], axis=1)\n",
    "    y = df[class_attribute]\n",
    "    ranker.fit(X, y)\n",
    "    # Arrange the elements of DP and PP in ascending order\n",
    "    # DN and PN in descending order\n",
    "    DP_sorted = DP.assign(ranker_score=ranker.predict_proba(DP.drop([class_attribute], axis=1))[:, 1]).sort_values(\n",
    "        'ranker_score')\n",
    "    PP_sorted = PP.assign(ranker_score=ranker.predict_proba(PP.drop([class_attribute], axis=1))[:, 1]).sort_values(\n",
    "        'ranker_score')\n",
    "    DN_sorted = DN.assign(ranker_score=ranker.predict_proba(DN.drop([class_attribute], axis=1))[:, 1]).sort_values(\n",
    "        'ranker_score', ascending=False)\n",
    "    PN_sorted = PN.assign(ranker_score=ranker.predict_proba(PN.drop([class_attribute], axis=1))[:, 1]).sort_values(\n",
    "        'ranker_score', ascending=False)\n",
    "\n",
    "    # Step 4: Calculate the expected size for each combination of v ∈ SenstiveAttribute and c ∈ ClassAttribute by |v| * |c| / |D|\n",
    "    expected_sizes = {}\n",
    "    for v in [privileged_class, unprivileged_class]:\n",
    "        for c in [favourable_class, un_favourable_class]:\n",
    "            expected_sizes[(v, c)] = (len(df[df[sensitive_attribute] == v]) * len(\n",
    "                df[df[class_attribute] == c])) / len(df)\n",
    "\n",
    "    DP_resampled = pd.DataFrame()\n",
    "    PN_resampled = pd.DataFrame()\n",
    "    DN_resampled = pd.DataFrame()\n",
    "    PP_resampled = pd.DataFrame()\n",
    "\n",
    "    for v in [privileged_class, unprivileged_class]:\n",
    "        for c in [favourable_class, un_favourable_class]:\n",
    "            expected_size = expected_sizes[(v, c)]\n",
    "            group = df[(df[sensitive_attribute] == v) & (df_c[class_attribute] == c)]\n",
    "            size_of_group = len(group)\n",
    "            no_resubstitution_skipping = round(abs(expected_size - size_of_group))\n",
    "            if expected_size > len(group):\n",
    "                if v == unprivileged_class and c == favourable_class:\n",
    "                    if no_resubstitution_skipping > len(group):\n",
    "                        n_repeats = int(expected_size // size_of_group)\n",
    "                        DP_resampled = pd.concat([DP_sorted]*n_repeats)\n",
    "                        n_remaining = int(expected_size % size_of_group)\n",
    "                        if n_remaining > 0:\n",
    "                            DP_resampled = pd.concat([DP_resampled,DP_sorted.head(n_remaining)])\n",
    "                    else:\n",
    "                        DP_resampled = pd.concat([DP_sorted[:no_resubstitution_skipping], DP_sorted])\n",
    "                if v == privileged_class and c == un_favourable_class:\n",
    "                    if no_resubstitution_skipping > len(group):\n",
    "                        n_repeats = int(expected_size // size_of_group)\n",
    "                        PN_resampled = pd.concat([PN_sorted]*n_repeats)\n",
    "                        n_remaining = int(expected_size % size_of_group)\n",
    "                        if n_remaining > 0:\n",
    "                            DP_resampled = pd.concat([PN_resampled,PN_sorted.head(n_remaining)])\n",
    "                    PN_resampled = pd.concat([PN_sorted[:no_resubstitution_skipping], PN_sorted])\n",
    "            elif expected_size < len(group):\n",
    "                if v == unprivileged_class and c == un_favourable_class:\n",
    "                    DN_resampled = DN_sorted[no_resubstitution_skipping:]\n",
    "                if v == privileged_class and c == favourable_class:\n",
    "                    PP_resampled = PP_sorted[no_resubstitution_skipping:]\n",
    "            else:\n",
    "                if v == privileged_class and c == favourable_class:\n",
    "                    PP_resampled = group\n",
    "                if v == unprivileged_class and c == un_favourable_class:\n",
    "                    DN_resampled = group\n",
    "                if v == privileged_class and c == un_favourable_class:\n",
    "                    PN_resampled = group\n",
    "                if v == unprivileged_class and c == favourable_class:\n",
    "                    DP_resampled = group\n",
    "    resampled_df = pd.concat([DP_resampled, PN_resampled, DN_resampled, PP_resampled])\n",
    "    resampled_features = resampled_df.drop([class_attribute, 'ranker_score'], axis=1)\n",
    "    resampled_protected_attr = resampled_df[sensitive_attribute].to_frame()\n",
    "    resampled_class_attr = resampled_df[class_attribute].to_frame()\n",
    "    return resampled_features, resampled_protected_attr, resampled_class_attr"
   ]
  },
  {
   "cell_type": "code",
   "execution_count": 15,
   "metadata": {},
   "outputs": [],
   "source": [
    "resampled_features, resampled_protected_attr, resampled_class_attr = preferential_sampling(X_train, Y_train, target_attribute, positive_class, negative_class, Z_train, sensitive_attribute, privileged_class, unprivileged_class)"
   ]
  },
  {
   "cell_type": "markdown",
   "metadata": {},
   "source": [
    "### 5. Fairness After Debiasing\n",
    "#### 5.1 Bias In The Data"
   ]
  },
  {
   "cell_type": "code",
   "execution_count": 16,
   "metadata": {},
   "outputs": [],
   "source": [
    "dpd_after_debiasing = statistical_parity_difference(resampled_features,resampled_class_attr,target_attribute,positive_class,sensitive_attribute,privileged_class,unprivileged_class)\n",
    "di_after_debiasing = disparate_impact(resampled_features,resampled_class_attr,target_attribute,positive_class,sensitive_attribute,privileged_class,unprivileged_class)"
   ]
  },
  {
   "cell_type": "code",
   "execution_count": 17,
   "metadata": {},
   "outputs": [
    {
     "name": "stdout",
     "output_type": "stream",
     "text": [
      "After Data debiasing : DPD 0.0003207343208782021 Disparate Impact : 1.0005830237210631\n"
     ]
    }
   ],
   "source": [
    "print(f\"After Data debiasing : DPD {abs(dpd_after_debiasing)} Disparate Impact : {abs(di_after_debiasing)}\" )"
   ]
  },
  {
   "cell_type": "markdown",
   "metadata": {},
   "source": [
    "Standardize the resampled features and assign the resampled class attribute to Y_train"
   ]
  },
  {
   "cell_type": "code",
   "execution_count": 18,
   "metadata": {},
   "outputs": [],
   "source": [
    "scale_orig = StandardScaler()\n",
    "S_train = scale_orig.fit_transform(resampled_features)\n",
    "Y_train = resampled_class_attr"
   ]
  },
  {
   "cell_type": "markdown",
   "metadata": {},
   "source": [
    "#### 5.2 Bias In The Model\n",
    "Let's train the model with the relabelled target attribute."
   ]
  },
  {
   "cell_type": "code",
   "execution_count": 19,
   "metadata": {},
   "outputs": [
    {
     "name": "stdout",
     "output_type": "stream",
     "text": [
      "Model : LR accuracy : 0.64 DPD : 0.059 ,DI : 1.1, EOD : 0.105 , AAOD : 0.097\n",
      "Model : GBC accuracy : 0.68 DPD : 0.075 ,DI : 0.888, EOD : 0.008 , AAOD : 0.033\n",
      "Model : RF accuracy : 0.64 DPD : 0.009 ,DI : 0.984, EOD : 0.086 , AAOD : 0.072\n",
      "Model : XGB accuracy : 0.66 DPD : 0.014 ,DI : 1.023, EOD : 0.081 , AAOD : 0.051\n"
     ]
    }
   ],
   "source": [
    "models_names, dpd_list, di_list, eod_list, aaod_list, accuracy_list, roc_auc_list, preds_prob = [], [], [], [], [], [], [], []\n",
    "for name, model in models:\n",
    "    clf = train_model(model, S_train, Y_train.values.ravel())\n",
    "    y_score = clf.predict_proba(S_test)[:, 1]\n",
    "    preds = (y_score > 0.5).astype(int)\n",
    "    accuracy = accuracy_score(Y_test, preds)\n",
    "    fpr, tpr, _ = roc_curve(Y_test, preds)\n",
    "    roc_auc = auc(fpr, tpr)\n",
    "    \n",
    "    DPD, DI, EOD,AAOD = get_model_fairness(Y_test,Z_test[sensitive_attribute]==privileged_class,preds)\n",
    "    dpd_list.append(abs(DPD))\n",
    "    di_list.append(abs(DI))\n",
    "    eod_list.append(abs(EOD))\n",
    "    aaod_list.append(abs(AAOD))\n",
    "    accuracy_list.append(accuracy)\n",
    "    preds_prob.append(y_score)\n",
    "    roc_auc_list.append(roc_auc)\n",
    "    models_names.append(name)\n",
    "    print(f\"Model : {name} accuracy : {round(accuracy,2)} DPD : {abs(round(DPD,3))} ,DI : {abs(round(DI,3))}, EOD : {abs(round(EOD,3))} , AAOD : {abs(round(AAOD,3))}\")"
   ]
  },
  {
   "cell_type": "code",
   "execution_count": 20,
   "metadata": {},
   "outputs": [],
   "source": [
    "after_debiasing = defaultdict(dict)\n",
    "after_debiasing[\"Accuracy\"] = accuracy_list\n",
    "after_debiasing[\"DPD\"] = dpd_list\n",
    "after_debiasing[\"DI\"] = di_list\n",
    "after_debiasing[\"EOD\"] = eod_list\n",
    "after_debiasing[\"AAOD\"] = aaod_list\n",
    "after_debiasing[\"AUC\"] = roc_auc_list"
   ]
  },
  {
   "cell_type": "markdown",
   "metadata": {},
   "source": [
    "Now that we have all the data, let's plot and compare the bias of the original and modified datasets to determine if the fairness of the dataset and model has improved or not."
   ]
  },
  {
   "cell_type": "markdown",
   "metadata": {},
   "source": [
    "### 6. Fairness Comparission (Orignial vs Mitigated)"
   ]
  },
  {
   "cell_type": "markdown",
   "metadata": {},
   "source": [
    "#### 6.1 Data Fairness"
   ]
  },
  {
   "cell_type": "markdown",
   "metadata": {},
   "source": [
    "Compare the Statistical Parity Difference(Demogrpahic Parity) of Original and Resampled dataset."
   ]
  },
  {
   "cell_type": "code",
   "execution_count": 21,
   "metadata": {},
   "outputs": [
    {
     "data": {
      "image/png": "[encoded data removed]",
      "text/plain": [
       "<Figure size 288x288 with 1 Axes>"
      ]
     },
     "metadata": {},
     "output_type": "display_data"
    }
   ],
   "source": [
    "plot_fairness_comp(abs(dpd_before_debiasing),abs(dpd_after_debiasing))"
   ]
  },
  {
   "cell_type": "markdown",
   "metadata": {},
   "source": [
    "Compare the Disparate Impact of Original and Resampled dataset."
   ]
  },
  {
   "cell_type": "code",
   "execution_count": 22,
   "metadata": {},
   "outputs": [
    {
     "data": {
      "image/png": "[encoded data removed]",
      "text/plain": [
       "<Figure size 288x288 with 1 Axes>"
      ]
     },
     "metadata": {},
     "output_type": "display_data"
    }
   ],
   "source": [
    "plot_fairness_comp(abs(di_before_debiasing),abs(di_after_debiasing),metric = \"DI\")"
   ]
  },
  {
   "cell_type": "markdown",
   "metadata": {},
   "source": [
    "#### 6.2 Model Performance and Fairness"
   ]
  },
  {
   "cell_type": "code",
   "execution_count": 23,
   "metadata": {},
   "outputs": [
    {
     "data": {
      "image/png": "[encoded data removed]",
      "text/plain": [
       "<Figure size 1800x288 with 6 Axes>"
      ]
     },
     "metadata": {
      "needs_background": "light"
     },
     "output_type": "display_data"
    }
   ],
   "source": [
    "def autolabel(rects, axes):\n",
    "        for rect in rects:\n",
    "            h = rect.get_height()\n",
    "            if h < 0:\n",
    "                axes.text(rect.get_x() + rect.get_width() / 2., h - 0.04, '%.2f' % float(h),\n",
    "                          ha='center', va='bottom')\n",
    "            else:\n",
    "                axes.text(rect.get_x() + rect.get_width() / 2., 1.02 * h, '%.2f' % float(h),\n",
    "                          ha='center', va='bottom')\n",
    "ind = np.arange(len(models_names))  # the x locations for the groups\n",
    "width = 0.2  # the width of the bars\n",
    "\n",
    "fig, axs = plt.subplots(1, 6, figsize=(25, 4))\n",
    "\n",
    "for ax,metric in zip (axs.ravel(),after_debiasing.keys()):\n",
    "    fairness_base_bar = ax.bar(ind, before_debiasing[metric], width, color='r',\n",
    "                        label='Before bias mitigation')\n",
    "    fairness_mitigated_bar = ax.bar(ind + width, after_debiasing[metric], width, color='g',\n",
    "                                     label='After bias mitigation')\n",
    "    ax.set_ylabel(metric)\n",
    "    ax.set_xticks(ind + width)\n",
    "    ax.set_xticklabels(models_names)\n",
    "    ax.title.set_text(metric)\n",
    "    autolabel(fairness_base_bar, axes=ax)\n",
    "    autolabel(fairness_mitigated_bar, axes=ax)\n",
    "plt.legend(loc =\"lower right\")\n",
    "plt.show()"
   ]
  },
  {
   "cell_type": "markdown",
   "metadata": {},
   "source": [
    "Above plots indicate whether there is any improvement in model fairness after application of \"Massage Data Preprocessing Algorithm\". We used several fairness metrics such as Demographic Parity, Disparate Impact, Equal Opportunity Difference and Equalised odds, along with Accuracy and ROC-AUC for measuring the model performance. However, in some cases, it can be observed that the model fairness decreases for some fairness metrics (Equal Opportunity Difference and Equalised odds) due to a large number of removing/duplicating the data objects. If the number of removing/duplicating the data objects are minimized, other fairness metrics could be improved."
   ]
  },
  {
   "cell_type": "markdown",
   "metadata": {},
   "source": [
    "### 7. Summary\n",
    "\n",
    "This tutorial provides a high-level overview of the \"Preferential Sampling\" algorithm and its utilization for reducing bias in datasets. PS method aims to create a discrimination-free training set where each group is balanced and representative. It also helps to mitigate the effects of discrimination in the dataset and promotes fairness in machine learning models."
   ]
  },
  {
   "cell_type": "markdown",
   "metadata": {},
   "source": [
    "### 8. References"
   ]
  },
  {
   "cell_type": "markdown",
   "metadata": {},
   "source": [
    "Kamiran, Faisal, and Toon Calders. \"Classification with no discrimination by preferential sampling.\" In Proc. 19th Machine Learning Conf. Belgium and The Netherlands, vol. 1, no. 6. Citeseer, 2010."
   ]
  }
 ],
 "metadata": {
  "kernelspec": {
   "display_name": "Python 3",
   "language": "python",
   "name": "python3"
  },
  "language_info": {
   "codemirror_mode": {
    "name": "ipython",
    "version": 3
   },
   "file_extension": ".py",
   "mimetype": "text/x-python",
   "name": "python",
   "nbconvert_exporter": "python",
   "pygments_lexer": "ipython3",
   "version": "3.6.10"
  }
 },
 "nbformat": 4,
 "nbformat_minor": 4
}
