{
 "cells": [
  {
   "attachments": {},
   "cell_type": "markdown",
   "metadata": {},
   "source": [
    "# Prejudice Remover Regularizer"
   ]
  },
  {
   "attachments": {},
   "cell_type": "markdown",
   "metadata": {},
   "source": [
    "### Table of contents :\n",
    "1. [Introduction](#1.-Introduction)\n",
    "2. [Data preparation](#2.-Data-preparation)\n",
    "3. [Classifier network](#3.-Classifier-network)\n",
    "\t*  [Model Fairness for Classifier Network](#Model-Fairness-for-Classifier)\n",
    "4. [Prejudice Remover Regularizer](#4.-Prejudice-Remover-Regularizer)\n",
    "\t* [Model Fairness: with PRR](#Model-Fairness:-with-PRR)\n",
    "5. [Summary](#5.-Summary)\n",
    "6. [References](#References)"
   ]
  },
  {
   "attachments": {},
   "cell_type": "markdown",
   "metadata": {},
   "source": [
    "## 1. Introduction "
   ]
  },
  {
   "attachments": {},
   "cell_type": "markdown",
   "metadata": {},
   "source": [
    "So far, we have published a series of bias identification and mitigation tutorials in NNabla. They include pre-processing, in-processing and post-processing techniques. \n",
    "\n",
    "In this tutorial, we give an overview of yet another in-processing technique for bias mitigation in predictive models. In-processing techniques involve modification of learning algorithms to address discrimination during the model training phase. [Classification with Fairness Constraints](https://arxiv.org/abs/1806.06055), [Prejudice Remover Regularizer](https://link.springer.com/content/pdf/10.1007%2F978-3-642-33486-3_3.pdf) and [Adversarial Debiasing](https://arxiv.org/pdf/1801.07593.pdf) are among the popular in-processing bias mitigation techniques proposed in academic literature. Adversarial debiasing technique is explained earlier. So, we will show how to mitigate bias in a predictive model using the `Prejudice Remover Regularizer` technique in this tutorial.\n",
    "\n",
    "Before we go into detailed explanation, here is a sneak peek into the steps involved in the process:"
   ]
  },
  {
   "attachments": {},
   "cell_type": "markdown",
   "metadata": {},
   "source": [
    "### Preparation\n",
    "Let's start by installing NNabla and accessing [nnabla-examples repository](https://github.com/sony/nnabla-examples). If you want to run this tutorial in Google Colab, please make sure to set Runtime setting to GPU. It can be set up from the top menu (Runtime → change runtime type). Click **Connect** on the top right-hand side of the screen before you start."
   ]
  },
  {
   "cell_type": "code",
   "execution_count": 1,
   "metadata": {},
   "outputs": [],
   "source": [
    "# Preparation\n",
    "# May show warnings for newly imported packages if run in Colab default python environment.\n",
    "# Please click the `RESTART RUNTIME` to run the following script correctly.\n",
    "# The error message of conflicts is acceptable.\n",
    "!git clone https://github.com/sony/nnabla-examples.git\n",
    "!pip install nnabla-ext-cuda116"
   ]
  },
  {
   "cell_type": "code",
   "execution_count": null,
   "metadata": {},
   "outputs": [],
   "source": [
    "%cd nnabla-examples/responsible_ai/prejudice_remover_regularizer"
   ]
  },
  {
   "cell_type": "code",
   "execution_count": null,
   "metadata": {},
   "outputs": [],
   "source": [
    "import cv2\n",
    "from google.colab.patches import cv2_imshow\n",
    "img = cv2.imread('images/Prejudice_Remover_Regularizer_workflow_diagram.png')\n",
    "cv2_imshow(img)"
   ]
  },
  {
   "attachments": {},
   "cell_type": "markdown",
   "metadata": {},
   "source": [
    "As illustrated in the picture, we will train a model to make income level predictions, analyze model fairness and then show how Prejudice Remover Regularizer training can be employed to make the model fair if fairness metric/score is not up to the mark.\n",
    "\n",
    "At first, import all the necessary python libraries used in all the steps."
   ]
  },
  {
   "cell_type": "code",
   "execution_count": 2,
   "metadata": {},
   "outputs": [
    {
     "name": "stderr",
     "output_type": "stream",
     "text": [
      "2022-05-17 11:27:48,595 [nnabla][INFO]: Initializing CPU extension...\n"
     ]
    }
   ],
   "source": [
    "import matplotlib.pyplot as plt\n",
    "import numpy as np\n",
    "import os\n",
    "import sys\n",
    "import pandas as pd\n",
    "from sklearn.model_selection import train_test_split\n",
    "from sklearn.preprocessing import StandardScaler\n",
    "from sklearn import metrics\n",
    "import nnabla as nn\n",
    "from nnabla.logger import logger\n",
    "import nnabla.functions as F\n",
    "import nnabla.parametric_functions as PF\n",
    "import nnabla.solvers as S\n",
    "from nnabla.utils.data_iterator import data_iterator\n",
    "from nnabla.utils.data_source import DataSource\n",
    "from sklearn.metrics import confusion_matrix, ConfusionMatrixDisplay\n",
    "from IPython.display import Markdown\n",
    "\n",
    "from utils import *"
   ]
  },
  {
   "attachments": {},
   "cell_type": "markdown",
   "metadata": {},
   "source": [
    "## 2. Data preparation"
   ]
  },
  {
   "attachments": {},
   "cell_type": "markdown",
   "metadata": {},
   "source": [
    "Before training the model, we need to parse [adult](https://archive.ics.uci.edu/ml/datasets/Adult) dataset and categorize it into three categories: features, targets and sensitive attributes. Features contain input attributes, targets contain binary class labels (income range) and sensitive attributes are those for which we want the prediction to be fair (race, sex, etc.).\n",
    "\n",
    "Note: sensitive attributes race and sex are not \"features\".\n",
    "\n",
    "Next, we split the data into train and test sets. Features are scaled using \"standard scaling\" method."
   ]
  },
  {
   "cell_type": "code",
   "execution_count": 3,
   "metadata": {},
   "outputs": [
    {
     "data": {
      "text/markdown": [
       "features : 28750 samples, 88 attributes"
      ],
      "text/plain": [
       "<IPython.core.display.Markdown object>"
      ]
     },
     "metadata": {},
     "output_type": "display_data"
    },
    {
     "data": {
      "text/markdown": [
       "targets : 28750 samples"
      ],
      "text/plain": [
       "<IPython.core.display.Markdown object>"
      ]
     },
     "metadata": {},
     "output_type": "display_data"
    },
    {
     "data": {
      "text/markdown": [
       "sensitives attributes : 28750 samples, 2 attributes"
      ],
      "text/plain": [
       "<IPython.core.display.Markdown object>"
      ]
     },
     "metadata": {},
     "output_type": "display_data"
    }
   ],
   "source": [
    "X, y, Z = load_adult_dataset()\n",
    "Z = Z.drop(['race'], axis = 1)\n",
    "\n",
    "# split into train/test set\n",
    "(X_train, X_test, y_train, y_test,\n",
    " Z_train, Z_test) = train_test_split(X, y, Z, test_size=0.3, stratify=y, random_state=7)\n",
    "\n",
    "scale_orig = StandardScaler()\n",
    "X_train = scale_orig.fit_transform(X_train)\n",
    "X_test = scale_orig.fit_transform(X_test)"
   ]
  },
  {
   "attachments": {},
   "cell_type": "markdown",
   "metadata": {},
   "source": [
    "NNabla provides utilities to load data for training. Here, we will use NNabla DataSource and data_iterator."
   ]
  },
  {
   "cell_type": "code",
   "execution_count": 4,
   "metadata": {},
   "outputs": [
    {
     "name": "stderr",
     "output_type": "stream",
     "text": [
      "2022-05-17 11:27:52,835 [nnabla][INFO]: DataSource with shuffle(True)\n",
      "2022-05-17 11:27:52,836 [nnabla][INFO]: DataSource with shuffle(False)\n",
      "2022-05-17 11:27:52,836 [nnabla][INFO]: Using DataSourceWithMemoryCache\n",
      "2022-05-17 11:27:52,837 [nnabla][INFO]: DataSource with shuffle(True)\n",
      "2022-05-17 11:27:52,837 [nnabla][INFO]: On-memory\n",
      "2022-05-17 11:27:52,838 [nnabla][INFO]: Using DataIterator\n",
      "2022-05-17 11:27:52,839 [nnabla][INFO]: Using DataSourceWithMemoryCache\n",
      "2022-05-17 11:27:52,839 [nnabla][INFO]: DataSource with shuffle(False)\n",
      "2022-05-17 11:27:52,840 [nnabla][INFO]: On-memory\n",
      "2022-05-17 11:27:52,840 [nnabla][INFO]: Using DataIterator\n"
     ]
    }
   ],
   "source": [
    "class dataset(DataSource):\n",
    "    def __init__(self,features, labels, senstive_attribute, shuffle=False):\n",
    "        super(dataset, self).__init__(shuffle=shuffle)\n",
    "        self.x = features\n",
    "        self.y = labels.reshape(-1, 1)\n",
    "        self.z = senstive_attribute\n",
    "        self._size = self.y.size\n",
    "        self._variables = ('x', 'y', 'z')\n",
    "        \n",
    "    def _get_data(self, idx):\n",
    "        return self.x[idx], self.y[idx], self.z[idx]\n",
    "\n",
    "trainset = dataset(X_train, y_train.to_numpy(), Z_train.to_numpy(), shuffle=True)\n",
    "testset = dataset(X_test, y_test.to_numpy(), Z_test.to_numpy())\n",
    "\n",
    "batachsize = 32\n",
    "test_batachsize = X_test.shape[0]\n",
    "\n",
    "trainloader = data_iterator(trainset, batch_size=batachsize)\n",
    "testloader = data_iterator(testset, batch_size=test_batachsize)"
   ]
  },
  {
   "attachments": {},
   "cell_type": "markdown",
   "metadata": {},
   "source": [
    "Let’s start with importing basic modules to switch between CPU and GPU."
   ]
  },
  {
   "cell_type": "code",
   "execution_count": 5,
   "metadata": {},
   "outputs": [],
   "source": [
    "from nnabla.ext_utils import get_extension_context\n",
    "context = \"cudnn\" # for cpu set context as 'cpu'\n",
    "device_id = 0\n",
    "ctx = get_extension_context(context, device_id=device_id)\n",
    "nn.set_default_context(ctx)"
   ]
  },
  {
   "attachments": {},
   "cell_type": "markdown",
   "metadata": {},
   "source": [
    "Now we are going to create input & test NNabla variables for the network."
   ]
  },
  {
   "cell_type": "code",
   "execution_count": 6,
   "metadata": {},
   "outputs": [],
   "source": [
    "n_feature = nn.Variable((batachsize, 88))\n",
    "n_label = nn.Variable((batachsize, 1))\n",
    "n_senstive = nn.Variable((batachsize, 1))\n",
    "\n",
    "test_feature = nn.Variable((test_batachsize, 88))\n",
    "test_label = nn.Variable((test_batachsize, 1))\n",
    "test_senstive = nn.Variable((test_batachsize, 1))"
   ]
  },
  {
   "attachments": {},
   "cell_type": "markdown",
   "metadata": {},
   "source": [
    "## 3. Classifier network\n",
    "\n",
    "Let us create a simple network in NNabla to train our basic income level predictor. Our network consists of three sequential hidden layers with ReLu activation and dropout for regularization."
   ]
  },
  {
   "cell_type": "code",
   "execution_count": 7,
   "metadata": {},
   "outputs": [],
   "source": [
    "def Classifier(features_n, n_hidden=32, p_dropout=0.2,train=True):\n",
    "    with nn.parameter_scope('classifier'):\n",
    "        l1 = PF.affine(features_n, n_hidden, name='l1')\n",
    "        l1 = F.relu(l1)\n",
    "        if (train):\n",
    "            l1 = F.dropout(l1,p_dropout)\n",
    "        l2 = PF.affine(l1, n_hidden, name='l2')\n",
    "        l2 = F.relu(l2)\n",
    "        if (train):\n",
    "            l2 = F.dropout(l2,p_dropout)\n",
    "        l3 = PF.affine(l2, n_hidden, name='l3')\n",
    "        l3 = F.relu(l3)\n",
    "        if (train):\n",
    "            l3 = F.dropout(l3,p_dropout)\n",
    "        l4 = PF.affine(l3, 1, name='l4')\n",
    "    return l4"
   ]
  },
  {
   "attachments": {},
   "cell_type": "markdown",
   "metadata": {},
   "source": [
    "Parameters are created and initialized randomly at function call. \n",
    "\n",
    "We have defined the classifier network and it returns the output of the last affine layer.\n",
    "\n",
    "Let us create training graph first."
   ]
  },
  {
   "cell_type": "code",
   "execution_count": 8,
   "metadata": {},
   "outputs": [],
   "source": [
    "clf = Classifier(n_feature)\n",
    "clf_sigm = F.sigmoid(clf)\n",
    "clf.persistent = True\n",
    "clf_sigm.persistent = True"
   ]
  },
  {
   "attachments": {},
   "cell_type": "markdown",
   "metadata": {},
   "source": [
    "Creating the testing graph is almost the same. You simply need to change train flag to 'False'."
   ]
  },
  {
   "cell_type": "code",
   "execution_count": 9,
   "metadata": {},
   "outputs": [],
   "source": [
    "t_clf = Classifier(test_feature,train=False)"
   ]
  },
  {
   "attachments": {},
   "cell_type": "markdown",
   "metadata": {},
   "source": [
    "Let's choose sigmoid cross-entropy as the loss function and Adam optimizer as our solver."
   ]
  },
  {
   "cell_type": "code",
   "execution_count": 10,
   "metadata": {},
   "outputs": [],
   "source": [
    "loss = F.sum(F.sigmoid_cross_entropy(clf, n_label))\n",
    "loss.persistent = True\n",
    "learning_rate = 1e-03\n",
    "clf_solver = S.Adam(learning_rate)\n",
    "with nn.parameter_scope(\"classifier\"):\n",
    "    clf_solver.set_parameters(nn.get_parameters())\n",
    "clf_solver.weight_decay(1e-05)\n",
    "clf_solver.update()"
   ]
  },
  {
   "attachments": {},
   "cell_type": "markdown",
   "metadata": {},
   "source": [
    "We shall train the classifier now. For each epoch, we'll iterate over the batches returned by our data_iterator"
   ]
  },
  {
   "cell_type": "code",
   "execution_count": 11,
   "metadata": {},
   "outputs": [],
   "source": [
    "max_iter = int(trainloader.size / batachsize)\n",
    "total_epochs = 10\n",
    "for epoch in range(total_epochs):\n",
    "    for i in range(max_iter):\n",
    "        n_feature.d, n_label.d, _ = trainloader.next()\n",
    "        clf_solver.zero_grad()\n",
    "        loss.forward(clear_no_need_grad=True)\n",
    "        loss.backward(clear_buffer=True)\n",
    "        clf_solver.update()"
   ]
  },
  {
   "attachments": {},
   "cell_type": "markdown",
   "metadata": {},
   "source": [
    "The above 'for loop' does the following for each batch:\n",
    "1. Retrieve new batch of data.\n",
    "2. Initialize gradients to zero.\n",
    "3. Execute computation graph by calling the loss.forward(). Compute the loss.\n",
    "4. Execute backprop by calling loss.backward(), to compute gradients.\n",
    "5. Update classfier weights (clf_solver.update())."
   ]
  },
  {
   "attachments": {},
   "cell_type": "markdown",
   "metadata": {},
   "source": [
    "### Model Fairness for Classifier\n",
    "Let's start our investigation of classifier model fairness by analyzing the predictions it made on test set. Caldars and Verwer defined a discrimination score (hereafter referred to as the Caldars-Verwer score/CV score) which is the difference between conditional probabilities of the positive class for sensitive attributes. Before presenting this we must introduce several notations. Here, we discuss supervised learning, such as classification, which is aware of unfairness. Y is a target random variable to be predicted based on the instance values of features. The sensitive variable, S, and the non-sensitive variable, X. In this example, a CV score is defined as:\n",
    "\n",
    "$$Pr[Y =High|S=Male] − Pr[Y =High|S=Female]$$\n",
    "\n",
    "Let's compute the Accuracy and Fairness of the classifier model"
   ]
  },
  {
   "cell_type": "code",
   "execution_count": 12,
   "metadata": {},
   "outputs": [],
   "source": [
    "test_feature.d, test_label.d,test_senstive.d = testloader.next()\n",
    "t_clf_out = F.sigmoid(t_clf)\n",
    "t_clf_out.forward(clear_buffer=True)\n",
    "y_pre_clf = t_clf_out.d.ravel()\n",
    "preds = np.where(y_pre_clf > 0.5, 1, 0)\n",
    "clf_accuracy = metrics.accuracy_score(y_test, preds) * 100\n",
    "\n",
    "out_f = t_clf_out.d[test_senstive.d == 1]\n",
    "out_m = t_clf_out.d[test_senstive.d == 0]\n",
    "\n",
    "clf_cv_score = CVS(out_f,out_m)"
   ]
  },
  {
   "cell_type": "code",
   "execution_count": 13,
   "metadata": {},
   "outputs": [
    {
     "name": "stdout",
     "output_type": "stream",
     "text": [
      "Classfier accuracy :  84.47536231884058 Classfier CV Score : 0.1843\n"
     ]
    }
   ],
   "source": [
    "print(\"Classfier accuracy : \", clf_accuracy,\"Classfier CV Score :\", clf_cv_score)"
   ]
  },
  {
   "attachments": {},
   "cell_type": "markdown",
   "metadata": {},
   "source": [
    "As seen above, predictions are definitely not fair when considered in the context of `sex` as a sensitive attribute.\n",
    "\n",
    "Now let's mitigate the bias using `Prejudice Remover Regularizer'"
   ]
  },
  {
   "attachments": {},
   "cell_type": "markdown",
   "metadata": {},
   "source": [
    "### 4. Prejudice Remover Regularizer\n",
    "\n",
    "Before going to the Prejudice Remover Regularizer method, let's understand what is prejudice and different prejudice methods.\n",
    "\n",
    "**Prejudice:** Prejudice means a statistical dependence between a sensitive variable S, and the target variable, Y, or a non-sensitive variable, X. There are three types of prejudices: `direct prejudice`, `indirect prejudice`, and `latent prejudice`\n",
    "\n",
    "1. Direct prejudice: The prediction model directly depends on S.\n",
    "2. Indirect prejudice: Statistical dependence of Y on S, even lack of direct S.\n",
    "3. Latent prejudice: Statistical dependence of X on S\n",
    "\n",
    "In this tutorial we discuss how to reduce Indirect prejudice, using the Prejudice Removal Regularization Technique. We next show an index to quantify the degree of indirect prejudice, which is defined as the mutual information between Y and S.\n",
    "$$PI =\\sum_{y,s∈D}\\hat{Pr}[y,s] ln\\frac{\\hat{Pr}[y, s]}{\\hat{Pr}[y]\\hat{Pr}[s]}$$, we refer this index as a `prejudice index`(PI for short).\n"
   ]
  },
  {
   "attachments": {},
   "cell_type": "markdown",
   "metadata": {},
   "source": [
    "In this PRR technique, we use two types of regularizers to enforce fair classification. First regularizer is a standard one to avoid over-fitting. We used an L2 regularizer $||Θ||^2$, Second regularizer,$R(D,Θ)$, is introduced to enforce fair classification. These two regularizers are added to objective function for minimization. In the\n",
    "case of classifier, the objective function to minimize is rewritten as :"
   ]
  },
  {
   "cell_type": "code",
   "execution_count": 14,
   "metadata": {},
   "outputs": [],
   "source": [
    "img = cv2.imread('images/Prejudice_Remover_Regularizer_Equation.png')\n",
    "cv2_imshow(img)"
   ]
  },
  {
   "attachments": {},
   "cell_type": "markdown",
   "metadata": {},
   "source": [
    "where λ and η are positive regularization parameters.\n",
    "\n",
    "in the above equation prejudice remover regularizer:\n",
    "* Directly tries to reduce the prejudice index(PI).\n",
    "* Smaller value more strongly constraints independence b/w Y and S\n",
    "\n",
    "in short :\n",
    "\n",
    "PRLR : Loss function(log-likelihood) + Prejudice Remover Regularizer(mutual information) + l2 Regularizer\n",
    "\n",
    "let's implement PR Loss"
   ]
  },
  {
   "cell_type": "code",
   "execution_count": 15,
   "metadata": {},
   "outputs": [],
   "source": [
    "def pr_loss(output_f, output_m, eta):\n",
    "    \"\"\"\n",
    "    Prejudice Remover Regularizer\n",
    "    \n",
    "    Args:\n",
    "        output_f (NNabla Variable): output of unprivileged class\n",
    "        output_m (NNabla Variable) : output of privileged class\n",
    "        eta : Parameter for Prejudice Remover(eta)\n",
    "    Returns:\n",
    "        Prejudice Index\n",
    "    \"\"\"\n",
    "    N_female = F.constant(output_f.shape[0])\n",
    "    N_male   = F.constant(output_m.shape[0])\n",
    "    Dxisi = F.stack(N_male,N_female,axis=0) #male sample, #female sample\n",
    "    # Pr[y|s]\n",
    "    y_pred_female = F.sum(output_f)\n",
    "    y_pred_male   = F.sum(output_m)\n",
    "    P_ys = F.stack(y_pred_male,y_pred_female,axis=0) / Dxisi\n",
    "    P = F.concatenate(output_f,output_m,axis=0)\n",
    "    P_y =  F.sum(P) / (output_f.shape[0]+output_m.shape[0])\n",
    "    P_s1y1 = F.log(P_ys[1]) - F.log(P_y)\n",
    "    P_s1y0 = F.log(1-P_ys[1]) - F.log(1-P_y)\n",
    "    P_s0y1 = F.log(P_ys[0]) - F.log(P_y)\n",
    "    P_s0y0 = F.log(1-P_ys[0]) - F.log(1-P_y)\n",
    "    \n",
    "    P_s1y1 = F.reshape(P_s1y1,(P_s1y1.d.size,))\n",
    "    P_s1y0 = F.reshape(P_s1y0,(P_s1y0.d.size,))\n",
    "    P_s0y1 = F.reshape(P_s0y1,(P_s0y1.d.size,))\n",
    "    P_s0y0 = F.reshape(P_s0y0,(P_s0y0.d.size,))\n",
    "    \n",
    "    # PI\n",
    "    PI_s1y1 = output_f * P_s1y1\n",
    "    PI_s1y0 =(1- output_f) * P_s1y0\n",
    "    PI_s0y1 = output_m * P_s0y1\n",
    "    PI_s0y0 = (1- output_m )* P_s0y0\n",
    "    PI = F.sum(PI_s1y1) + F.sum(PI_s1y0) + F.sum(PI_s0y1) + F.sum(PI_s0y0)\n",
    "    PI = eta * PI\n",
    "    return PI\n"
   ]
  },
  {
   "attachments": {},
   "cell_type": "markdown",
   "metadata": {},
   "source": [
    "### Train Classfier model wirh Prejudice Remover Regularizer\n",
    "\n",
    "Let's train the Classifier model with different η (eta) regularization parameters and check how the model fairness improves at different `eta` values."
   ]
  },
  {
   "cell_type": "code",
   "execution_count": 16,
   "metadata": {},
   "outputs": [],
   "source": [
    "max_iter = int(trainloader.size / batachsize)\n",
    "acc = [] # to plot the accuracy\n",
    "cvs_score = [] # to plot the CV score\n",
    "eta_value = [0.0,1.0,5.0,10.0,15.0,20.0,50.0] # Parameter for Prejudice Remover\n",
    "for eta in eta_value :\n",
    "    nn.clear_parameters()\n",
    "    for epoch in range(total_epochs):\n",
    "        for i in range(max_iter):\n",
    "            n_feature.d, n_label.d, n_senstive.d = trainloader.next()\n",
    "            clf_solver.zero_grad()\n",
    "            clf_sigm.forward(clear_no_need_grad=True)\n",
    "            output_f = clf_sigm[n_senstive.d == 0]\n",
    "            output_m = clf_sigm[n_senstive.d == 1]\n",
    "            PILoss = pr_loss(output_f,output_m,eta)\n",
    "            t_loss = loss + PILoss\n",
    "            t_loss.forward(clear_no_need_grad=True)\n",
    "            t_loss.backward(clear_buffer=True)\n",
    "            clf_solver.update()\n",
    "    test_feature.d, test_label.d,test_senstive.d = testloader.next()\n",
    "    t_clf_out = F.sigmoid(t_clf)\n",
    "    t_clf_out.forward(clear_buffer=True)\n",
    "    y_pre_clf = t_clf_out.d.ravel()\n",
    "    preds = np.where(y_pre_clf > 0.5, 1, 0)\n",
    "    clf_accuracy = metrics.accuracy_score(y_test, preds) * 100\n",
    "    out_f = t_clf_out.d[test_senstive.d == 0]\n",
    "    out_m = t_clf_out.d[test_senstive.d == 1]\n",
    "    cvscore = CVS(out_f,out_m)\n",
    "    acc.append(clf_accuracy)\n",
    "    cvs_score.append(cvscore)"
   ]
  },
  {
   "attachments": {},
   "cell_type": "markdown",
   "metadata": {},
   "source": [
    "## Model Fairness: with PRR\n"
   ]
  },
  {
   "cell_type": "code",
   "execution_count": 17,
   "metadata": {},
   "outputs": [
    {
     "data": {
      "image/png": "[encoded data removed]",
      "text/plain": [
       "<Figure size 720x504 with 2 Axes>"
      ]
     },
     "metadata": {
      "needs_background": "light"
     },
     "output_type": "display_data"
    }
   ],
   "source": [
    "fairness_plot(eta_value,'Parameter for Prejudice Remover(eta)',acc,\"Accuracy\",cvs_score,\"CV Score\")"
   ]
  },
  {
   "attachments": {},
   "cell_type": "markdown",
   "metadata": {},
   "source": [
    "The plot above shows impact of different eta values on model performance and fairness.\n",
    "\n",
    "It can be observed that the model fairness improves after induction of PRR into training, compared to baseline model."
   ]
  },
  {
   "attachments": {},
   "cell_type": "markdown",
   "metadata": {},
   "source": [
    "## 5. Summary\n",
    " \n",
    "In this tutorial, we have shown how to reduce the bias and force our model into making fair predictions by the `Prejudice Remover Regularizer` procedure (an in-processing technique). And yes, making fair predictions comes at a cost: it will reduce the performance of our model (hopefully, only by a little). However, in many cases, this will be a relatively small price to pay."
   ]
  },
  {
   "attachments": {},
   "cell_type": "markdown",
   "metadata": {},
   "source": [
    "## References\n",
    "1. Toshihiro Kamishima, Shotaro Akaho, Hideki Asoh & Jun Sakuma. \"Fairness-aware classifier with prejudice remover regularizer.\" Joint European Conference on Machine Learning and Knowledge Discovery in Databases ECML PKDD 2012: Machine Learning and Knowledge Discovery in Databases pp 35–50.\n",
    "2. Celis, L. Elisa, et al. \"Classification with fairness constraints: A meta-algorithm with provable guarantees.\" Proceedings of the conference on fairness, accountability, and transparency. 2019.\n",
    "3. Zhang, Brian Hu, Blake Lemoine, and Margaret Mitchell. \"Mitigating unwanted biases with adversarial learning.\" Proceedings of the 2018 AAAI/ACM Conference on AI, Ethics, and Society. 2018.\n",
    "4. https://archive.ics.uci.edu/ml/datasets/Adult\n",
    "5. Zafar, Muhammad Bilal, et al. \"Fairness constraints: Mechanisms for fair classification.\" Artificial Intelligence and Statistics. PMLR, 2017."
   ]
  }
 ],
 "metadata": {
  "kernelspec": {
   "display_name": "Python 3 (ipykernel)",
   "language": "python",
   "name": "python3"
  },
  "language_info": {
   "codemirror_mode": {
    "name": "ipython",
    "version": 3
   },
   "file_extension": ".py",
   "mimetype": "text/x-python",
   "name": "python",
   "nbconvert_exporter": "python",
   "pygments_lexer": "ipython3",
   "version": "3.9.7"
  }
 },
 "nbformat": 4,
 "nbformat_minor": 4
}
