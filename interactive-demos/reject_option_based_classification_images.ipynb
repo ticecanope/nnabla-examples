{
 "cells": [
  {
   "attachments": {},
   "cell_type": "markdown",
   "metadata": {},
   "source": [
    "## Rejection Option-based Classfication (Image Data)"
   ]
  },
  {
   "attachments": {},
   "cell_type": "markdown",
   "metadata": {},
   "source": [
    "### Table of contents:\n",
    "1. [Introduction](#1.-Introduction)\n",
    "2. [Data preparation](#2.-Data-preparation)\n",
    "3. [Train classifier network](#3.-Classifier-network)\n",
    "\t* [Model fairness](#Model-Fairness) \n",
    "4. [Mitigate the bias using ROC](#4.-Mitigate-the-bias-using-ROC)\n",
    "\t* [Estimate optimal parameters for the ROC method](#Estimate-optimal-parameters-for-the-ROC-method)\n",
    "\t* [Model Fairness after bias mitigation](#Model-Fairness-after-bias-mitigation)\n",
    "5. [Summary](#5.-Summary)\n",
    "6. [References](#6.-References)"
   ]
  },
  {
   "attachments": {},
   "cell_type": "markdown",
   "metadata": {},
   "source": [
    "### 1. Introduction\n",
    "\n",
    "Welcome!\n",
    "\n",
    "We hope you have had a chance to go through previous tutorials on \"Fairness in AI\" by Sony. In one of the tutorials, we applied `Rejection Option-based Classification (hereafter referred to as ROC)` technique after training the classifier on UCI Adult (Census) dataset. As a result, model fairness improved without causing significant drop in accuracy.\n",
    "\n",
    "In this tutorial, we will explore ROC for a visual recognition task on CelebA dataset."
   ]
  },
  {
   "attachments": {},
   "cell_type": "markdown",
   "metadata": {},
   "source": [
    "Let's start by installing NNabla and accessing [nnabla-examples repository](https://github.com/sony/nnabla-examples). If you're running notebook on Google Colab, make sure  Runtime setting is set as GPU, which can be set up from the top menu (Runtime → change runtime type). Click **Connect** on the top right-hand side of the screen before you start."
   ]
  },
  {
   "cell_type": "code",
   "execution_count": null,
   "metadata": {},
   "outputs": [],
   "source": [
    "# Preparation\n",
    "# May show warnings for newly imported packages if run in Colab default python environment.\n",
    "# Please click the `RESTART RUNTIME` to run the following script correctly.\n",
    "# The error message of conflicts is acceptable.\n",
    "!git clone https://github.com/sony/nnabla-examples.git\n",
    "!pip install albumentations\n",
    "!pip install nnabla-ext-cuda116"
   ]
  },
  {
   "cell_type": "code",
   "execution_count": null,
   "metadata": {},
   "outputs": [],
   "source": [
    "%cd nnabla-examples/responsible_ai/rejection_option_based_classification_images"
   ]
  },
  {
   "cell_type": "code",
   "execution_count": null,
   "metadata": {},
   "outputs": [],
   "source": [
    "import cv2\n",
    "from google.colab.patches import cv2_imshow\n",
    "img = cv2.imread('images/roc_workflow_diagram.png')\n",
    "cv2_imshow(img)"
   ]
  },
  {
   "attachments": {},
   "cell_type": "markdown",
   "metadata": {},
   "source": [
    "As illustrated in the picture, we will train a classifier ML model, analyze model fairness and then show how ROC technique reduces bias in model predictions.\n",
    "\n",
    "Import all the necessary python libraries:"
   ]
  },
  {
   "cell_type": "code",
   "execution_count": 1,
   "metadata": {},
   "outputs": [
    {
     "name": "stderr",
     "output_type": "stream",
     "text": [
      "2022-07-21 21:22:27,838 [nnabla][INFO]: Initializing CPU extension...\n"
     ]
    }
   ],
   "source": [
    "import os\n",
    "import glob\n",
    "import pickle\n",
    "import shutil\n",
    "import numpy as np\n",
    "from sklearn import metrics\n",
    "from PIL import Image\n",
    "import albumentations as A\n",
    "import nnabla as nn\n",
    "from nnabla.utils.data_iterator import data_iterator_simple\n",
    "import classifier as clf\n",
    "from utils import utils"
   ]
  },
  {
   "attachments": {},
   "cell_type": "markdown",
   "metadata": {},
   "source": [
    "Let us train an `Blond_Hair` classifier that is not dependent on `Gender` expression. "
   ]
  },
  {
   "attachments": {},
   "cell_type": "markdown",
   "metadata": {},
   "source": [
    "### 2. Data preparation\n",
    "\n",
    "Before training a classifier model, let's download and split the CelebA dataset into three categories: training, validation and test sets."
   ]
  },
  {
   "cell_type": "code",
   "execution_count": null,
   "metadata": {},
   "outputs": [],
   "source": [
    "# download the celeba dataset and unzip\n",
    "URL = \"https://www.dropbox.com/s/d1kjpkqklf0uw77/celeba.zip?dl=0\"\n",
    "ZIP_FILE= \"./data/celeba.zip\"\n",
    "!mkdir -p ./data/\n",
    "!wget -N $URL -O $ZIP_FILE\n",
    "!unzip $ZIP_FILE -d ./data/\n",
    "!rm $ZIP_FILE"
   ]
  },
  {
   "cell_type": "code",
   "execution_count": 2,
   "metadata": {},
   "outputs": [],
   "source": [
    "def split_celeba_dataset(img_path, attr_path, out_dir, split=\"test\"):\n",
    "    \n",
    "    \"\"\"\n",
    "    split the celebA dataset\n",
    "    Args:\n",
    "        img_path (str): image path directory \n",
    "        attr_path (str): celebA attribute file path (ex: list_attr_celeba.txt)\n",
    "        out_dir (str): Path where the split data to be saved\n",
    "        split (string): split the dataset depends on the split attribute(train, valid, and test)\n",
    "    \"\"\"\n",
    "    # as per the author's remark, we split the dataset\n",
    "    train_beg = 0  # train starts from\n",
    "    valid_beg = 162770  # valid starts from\n",
    "    test_beg = 182610  # test starts from\n",
    "    \n",
    "    label_file = open(attr_path, 'r')\n",
    "    label_file = label_file.readlines()\n",
    "    \n",
    "    # skipping the first two rows for header\n",
    "    total_samples = len(label_file) - 2\n",
    "    if split == 'train':\n",
    "        number_samples = valid_beg - train_beg\n",
    "        beg = train_beg\n",
    "    \n",
    "    elif split == 'valid':\n",
    "        number_samples = test_beg - valid_beg\n",
    "        beg = valid_beg\n",
    "    \n",
    "    elif split == 'test':\n",
    "        number_samples = total_samples - test_beg\n",
    "        beg = test_beg\n",
    "    else:\n",
    "        print('Error')\n",
    "        return\n",
    "    \n",
    "    if not os.path.exists(out_dir):\n",
    "        os.makedirs(out_dir)\n",
    "    \n",
    "    for i in range(beg + 2, beg + number_samples + 2):\n",
    "        temp = label_file[i].strip().split()\n",
    "        src_dir = os.path.join(img_path,temp[0])\n",
    "        dst_dir = os.path.join(out_dir,temp[0])\n",
    "        shutil.copy(src_dir, dst_dir)\n",
    "    print(f\"splitting completed for {split} set\")\n",
    "    return out_dir"
   ]
  },
  {
   "cell_type": "code",
   "execution_count": null,
   "metadata": {},
   "outputs": [],
   "source": [
    "source_image_dir = r'./data/celeba/images'\n",
    "attr_path = r'./data/celeba/list_attr_celeba.txt'\n",
    "\n",
    "# train_dir = split_celeba_dataset(img_path=source_image_dir, attr_path=attr_path, out_dir= r'./train',split=\"train\")\n",
    "valid_dir = split_celeba_dataset(img_path=source_image_dir, attr_path=attr_path, out_dir= r'./valid',split=\"valid\")\n",
    "test_dir = split_celeba_dataset(img_path=source_image_dir, attr_path=attr_path, out_dir= r'./test',split=\"test\")"
   ]
  },
  {
   "attachments": {},
   "cell_type": "markdown",
   "metadata": {},
   "source": [
    "[CelebA](https://mmlab.ie.cuhk.edu.hk/projects/CelebA.html) is a dataset with 2,02,599 celebrity face images, each with 40 binary attributes labels.\n",
    "\n",
    "Let's first import basic modules to switch between CPU and GPU."
   ]
  },
  {
   "cell_type": "code",
   "execution_count": 4,
   "metadata": {},
   "outputs": [
    {
     "name": "stderr",
     "output_type": "stream",
     "text": [
      "2022-07-21 21:25:08,266 [nnabla][INFO]: Initializing CUDA extension...\n",
      "2022-07-21 21:25:09,539 [nnabla][INFO]: Initializing cuDNN extension...\n"
     ]
    }
   ],
   "source": [
    "from nnabla.ext_utils import get_extension_context\n",
    "context = \"cudnn\" # for cpu set context as 'cpu'\n",
    "device_id = 0\n",
    "ctx = get_extension_context(context, device_id=device_id)\n",
    "nn.set_default_context(ctx)"
   ]
  },
  {
   "attachments": {},
   "cell_type": "markdown",
   "metadata": {},
   "source": [
    "Create train, validation & test data loaders to train the classifier model. In this tutorial we train a `Blond_Hair` classifier that does not depend on 'Gender' expression, which means 'target' attribute is `Blond_Hair` and 'protected' attribute is 'Male' in CelebA dataset (configure Target and Protected attributes in the data loader)."
   ]
  },
  {
   "cell_type": "code",
   "execution_count": 5,
   "metadata": {},
   "outputs": [],
   "source": [
    "def data_iterator_celeba(img_path, attr_path, batch_size,\n",
    "                         target_attribute ='Attractive', protected_attribute = 'Male', \n",
    "                         num_samples=-1, augment=False, shuffle=False, rng=None):\n",
    "    \"\"\"\n",
    "    create celebA data iterator\n",
    "    Args:\n",
    "        img_path (str) : image path directory\n",
    "        attr_path (str) : celebA attribute file path (ex: list_attr_celeba.txt)\n",
    "        batch_size (int) :  number of samples contained in each generated batch\n",
    "        target_attribute (str) : target attribute (ex: Arched EyeBrows, Bushy Eyebrows, smilling,etc..)\n",
    "        protected_attribute (str): protected attribute (ex: Male, Pale_Skin)\n",
    "        num_samples (int) : number of samples taken in data loader\n",
    "                            (if num_samples=-1, it will take all the images in the dataset)\n",
    "        augment (bool) : data augmentation (True for training)\n",
    "        shuffle (bool) : shuffle the data (True /False)\n",
    "        rng : None\n",
    "    Returns:\n",
    "        simple data iterator\n",
    "    \"\"\"\n",
    "\n",
    "    imgs = []\n",
    "    for file in sorted(os.listdir(img_path), key=lambda x: int(x.split(\".\")[0])):\n",
    "        imgs.append(os.path.join(img_path,file))\n",
    "    with open(attr_path, 'r') as f:\n",
    "        lines = f.readlines()\n",
    "\n",
    "    attr_list = lines[1].strip().split()\n",
    "    attr_idx_dict = {attr: i for i, attr in enumerate(attr_list)}\n",
    "    labels_dict = {}\n",
    "    for line in lines[2:]:\n",
    "        line = line.strip().split()\n",
    "        key = line[0]\n",
    "        attr = line[1:]\n",
    "        labels_dict[key] = np.array([int((int(attr[attr_idx_dict[target_attribute]]) + 1) / 2), int((int(attr[attr_idx_dict[protected_attribute]]) + 1) / 2)])\n",
    "\n",
    "    # transform image as published originally by authors\n",
    "    # (resize to , 256×256, 224×224)\n",
    "    pre_process = [(256, 256), (224, 224)]\n",
    "    mean_normalize = (0.485, 0.456, 0.406)\n",
    "    std_normalize = (0.229, 0.224, 0.225)\n",
    "\n",
    "    if augment:\n",
    "        transform = A.Compose([\n",
    "            A.Resize(pre_process[0][0], pre_process[0][1]),\n",
    "            A.RandomCrop(width=pre_process[1][0], height=pre_process[1][1]),\n",
    "            A.HorizontalFlip(p=0.5),\n",
    "            A.Normalize(mean=mean_normalize, std=std_normalize)\n",
    "        ])\n",
    "    else:\n",
    "        transform = A.Compose([\n",
    "            A.Resize(pre_process[0][0], pre_process[0][1]),\n",
    "            A.CenterCrop(width=pre_process[1][0], height=pre_process[1][1]),\n",
    "            A.Normalize(mean=mean_normalize, std=std_normalize)\n",
    "        ])\n",
    "    if num_samples == -1:\n",
    "        num_samples = len(imgs)\n",
    "    else:\n",
    "        print(\"Num. of data ({}) is used for debugging\".format(num_samples))\n",
    "\n",
    "    def load_func(i):\n",
    "        img = Image.open(imgs[i])\n",
    "        img = np.array(img.convert('RGB'))\n",
    "        # transform\n",
    "        transformed_image = transform(image=img)['image'].transpose(2, 0, 1)\n",
    "        return transformed_image, labels_dict[os.path.basename(imgs[i])]\n",
    "\n",
    "    return data_iterator_simple(load_func, num_samples, batch_size, shuffle=shuffle, rng=rng, with_file_cache=False)"
   ]
  },
  {
   "cell_type": "code",
   "execution_count": 6,
   "metadata": {},
   "outputs": [
    {
     "name": "stderr",
     "output_type": "stream",
     "text": [
      "2022-07-21 21:26:34,349 [nnabla][INFO]: DataSource with shuffle(False)\n",
      "2022-07-21 21:26:34,758 [nnabla][INFO]: Using DataIterator\n",
      "2022-07-21 21:26:35,355 [nnabla][INFO]: DataSource with shuffle(False)\n",
      "2022-07-21 21:26:35,373 [nnabla][INFO]: Using DataIterator\n"
     ]
    }
   ],
   "source": [
    "val_loader = data_iterator_celeba(img_path= r'./valid',\n",
    "                            attr_path= r'./data/celeba/list_attr_celeba.txt',\n",
    "                            target_attribute ='Blond_Hair', protected_attribute = 'Male',\n",
    "                            batch_size=32)\n",
    "test_loader = data_iterator_celeba(img_path= r'./test',\n",
    "                            attr_path= r'./data/celeba/list_attr_celeba.txt',\n",
    "                            target_attribute ='Blond_Hair', protected_attribute = 'Male',\n",
    "                            batch_size=32)"
   ]
  },
  {
   "attachments": {},
   "cell_type": "markdown",
   "metadata": {},
   "source": [
    "### 3. Classifier network\n",
    "\n",
    "To train a classifier, we take [ResNet-50](https://nnabla.org/pretrained-models/nnp_models/imagenet/Resnet-50/Resnet-50.nnp) pre-trained on [ImageNet](https://image-net.org/) as base architecture. Fully connected layer in ResNet is replaced with two fully connected layers of size 2048. Drop-Out and ReLU are applied. We train all models with sigmoid cross-entropy loss for 20 epochs with a batch size of 32. We use [Adam](https://arxiv.org/abs/1412.6980) optimizer with a learning rate of 1e-3.\n",
    "\n",
    "We have trained the Attribute Classifier and saved the model with the best accuracy on the validation set. Now let us get these pre-trained classifier weights and evaluate model fairness. \n",
    "\n",
    "PS:\n",
    "If you want to train the Attribute Classifier from scratch, please refer to our GitHub page and follow the steps."
   ]
  },
  {
   "cell_type": "code",
   "execution_count": 8,
   "metadata": {},
   "outputs": [
    {
     "name": "stdout",
     "output_type": "stream",
     "text": [
      "--2022-07-21 21:29:21--  https://nnabla.org/pretrained-models/nnabla-examples/responsible_ai/rejection_option_based_classification_images/best_acc.h5\n",
      "Resolving nnabla.org (nnabla.org)... 54.192.150.11, 54.192.150.66, 54.192.150.21, ...\n",
      "Connecting to nnabla.org (nnabla.org)|54.192.150.11|:443... connected.\n",
      "HTTP request sent, awaiting response... 200 OK\n",
      "Length: 111384648 (106M) [application/x-hdf5]\n",
      "Saving to: ‘best_acc.h5’\n",
      "\n",
      "best_acc.h5         100%[===================>] 106.22M  8.92MB/s    in 11s     \n",
      "\n",
      "2022-07-21 21:29:33 (9.32 MB/s) - ‘best_acc.h5’ saved [111384648/111384648]\n",
      "\n",
      "--2022-07-21 21:29:33--  https://nnabla.org/pretrained-models/nnabla-examples/responsible_ai/rejection_option_based_classification_images/val_results.pkl\n",
      "Resolving nnabla.org (nnabla.org)... 54.192.150.11, 54.192.150.66, 54.192.150.21, ...\n",
      "Connecting to nnabla.org (nnabla.org)|54.192.150.11|:443... connected.\n",
      "HTTP request sent, awaiting response... 200 OK\n",
      "Length: 383 [binary/octet-stream]\n",
      "Saving to: ‘val_results.pkl’\n",
      "\n",
      "val_results.pkl     100%[===================>]     383  --.-KB/s    in 0s      \n",
      "\n",
      "2022-07-21 21:29:33 (12.1 MB/s) - ‘val_results.pkl’ saved [383/383]\n",
      "\n"
     ]
    }
   ],
   "source": [
    "# download the pre-trained weights\n",
    "!wget https://nnabla.org/pretrained-models/nnabla-examples/responsible_ai/rejection_option_based_classification_images/best_acc.h5\n",
    "!wget https://nnabla.org/pretrained-models/nnabla-examples/responsible_ai/rejection_option_based_classification_images/val_results.pkl"
   ]
  },
  {
   "cell_type": "code",
   "execution_count": 9,
   "metadata": {},
   "outputs": [
    {
     "name": "stderr",
     "output_type": "stream",
     "text": [
      "2022-07-21 21:29:48,916 [nnabla][INFO]: Downloading Resnet-50.nnp from https://nnabla.org/pretrained-models/nnp_models/imagenet/Resnet-50/Resnet-50.nnp\n",
      "2022-07-21 21:29:50,319 [nnabla][INFO]: > /home/ubuntu/nnabla_data/nnp_models/imagenet/Resnet-50.nnp already exists.\n",
      "2022-07-21 21:29:50,320 [nnabla][INFO]: > If you have any issue when using this file, \n",
      "2022-07-21 21:29:50,322 [nnabla][INFO]: > manually remove the file and try download again.\n"
     ]
    },
    {
     "name": "stdout",
     "output_type": "stream",
     "text": [
      "Loading /home/ubuntu/nnabla_data/nnp_models/imagenet/Resnet-50.nnp.\n"
     ]
    }
   ],
   "source": [
    "nn.clear_parameters()\n",
    "attribute_classifier_model = clf.AttributeClassifier(model_load_path=r'./best_acc.h5')\n",
    "cal_thresh = pickle.load(open(r'./val_results.pkl', 'rb'))['cal_thresh']"
   ]
  },
  {
   "attachments": {},
   "cell_type": "markdown",
   "metadata": {},
   "source": [
    "### Model Fairness\n",
    "\n",
    "Let's start our investigation of classifier model fairness by analyzing the test and validation set prediction scores, depending on the optimal classification threshold. In one of the [earlier tutorials](https://github.com/sony/nnabla-examples/tree/master/responsible_ai/three_metrics), we have shown how to measure model fairness using different fairness criteria (Demographic parity, Equal opportunity & Equalized odds).\n",
    "\n",
    "Get model fairness with respect to sensitive attribute."
   ]
  },
  {
   "cell_type": "code",
   "execution_count": 10,
   "metadata": {},
   "outputs": [],
   "source": [
    "val_targets, val_scores = attribute_classifier_model.get_scores(val_loader)\n",
    "test_targets, test_scores = attribute_classifier_model.get_scores(test_loader)\n",
    "val_pred = np.where(val_scores > cal_thresh, 1, 0)\n",
    "test_pred = np.where(test_scores > cal_thresh, 1, 0)"
   ]
  },
  {
   "attachments": {},
   "cell_type": "markdown",
   "metadata": {},
   "source": [
    "#### Model Fairness on Validation set "
   ]
  },
  {
   "cell_type": "code",
   "execution_count": 11,
   "metadata": {},
   "outputs": [
    {
     "data": {
      "image/png": "[encoded data removed]",
      "text/plain": [
       "<Figure size 720x288 with 3 Axes>"
      ]
     },
     "metadata": {
      "needs_background": "light"
     },
     "output_type": "display_data"
    }
   ],
   "source": [
    "DPD,EOD,AAOD =  utils.get_fairness(val_targets[:, 0], val_targets[:, 1] == 1, val_pred)\n",
    "accuracy = metrics.accuracy_score(val_targets[:, 0], val_pred)\n",
    "utils.plot_fairness_multi(DPD, EOD, AAOD, accuracy, bar_x_axis=\"original\")"
   ]
  },
  {
   "attachments": {},
   "cell_type": "markdown",
   "metadata": {},
   "source": [
    "#### Model Fairness on Test set "
   ]
  },
  {
   "cell_type": "code",
   "execution_count": 12,
   "metadata": {},
   "outputs": [
    {
     "data": {
      "image/png": "[encoded data removed]",
      "text/plain": [
       "<Figure size 720x288 with 3 Axes>"
      ]
     },
     "metadata": {
      "needs_background": "light"
     },
     "output_type": "display_data"
    }
   ],
   "source": [
    "DPD, EOD, AAOD =  utils.get_fairness(test_targets[:, 0], test_targets[:, 1] == 1, test_pred)\n",
    "accuracy = metrics.accuracy_score(test_targets[:, 0], test_pred)\n",
    "utils.plot_fairness_multi(DPD, EOD, AAOD, accuracy, bar_x_axis=\"original\")"
   ]
  },
  {
   "attachments": {},
   "cell_type": "markdown",
   "metadata": {},
   "source": [
    "As seen above, predictions are not fair when considered in the context of `Male` as a sensitive/protected attribute.\n",
    "\n",
    "Now let's mitigate the bias using `Rejection Option-based Classification' technique."
   ]
  },
  {
   "attachments": {},
   "cell_type": "markdown",
   "metadata": {},
   "source": [
    "## 4. Mitigate the bias using ROC\n",
    "\n",
    "In this approach, assumption is that most discrimination occurs when a model is least certain of the prediction, i.e. around the decision boundary (classification threshold). For example, with a classification threshold of 0.5, if the model prediction is 0.81 or 0.1, we would consider the model certain of its prediction but for 0.51 or 0.49, the model is not certain about the chosen category. In ROC, favorable & unfavorable outcomes are adjusted for unprivileged & privileged groups in a confidence band around the decision boundary with highest uncertainty.\n",
    "\n",
    "### Estimate optimal parameters for the ROC method\n",
    "\n",
    "Please look at code below to estimate optimal parameters (optimal classification threshold and critical region boundary (ROC margin)) for desired constraint on fairness using ROC technique. \n",
    "\n",
    "Constraints can be used on following fairness measures:\n",
    "* Statistical parity difference \n",
    "* Absolute Average odds difference\n",
    "* Equal opportunity difference \n",
    "\n",
    "Best parameters are those that maximize the classification threshold while satisfying the fairness constraints."
   ]
  },
  {
   "cell_type": "code",
   "execution_count": 13,
   "metadata": {},
   "outputs": [],
   "source": [
    "from warnings import warn\n",
    "def reject_option_classification(y_true, y_predicted_score,\n",
    "                                 privileged_group, metric_name=\"DPD\",\n",
    "                                 metric_upper_bound=0.10, metric_lower_bound=0.05):\n",
    "    \"\"\"\n",
    "    Reject option classification is a postprocessing technique that swaps outcomes\n",
    "    between privileged and underprivileged groups near the decision boundary.\n",
    "    Args:\n",
    "        y_true (numpy.ndarray) : ground truth (correct) target values.\n",
    "        y_predicted_score (numpy.ndarray) : estimated probability predictions (targets scores)\n",
    "                                            as returned by a classifier.\n",
    "        privileged_group (numpy.ndarray): list of privileged group values.\n",
    "        metric_name (str) : name of the metric to use for the optimization\n",
    "                            (DPD(Demographic parity difference,\n",
    "                            AAOD (Absolute average odds difference),\n",
    "                            EOD (Equal opportunity difference))\n",
    "        metric_upper_bound (float) : upper bound of constraint on the metric value\n",
    "        metric_lower_bound (float) : upper bound of constraint on the metric value\n",
    "\n",
    "    Returns:\n",
    "        ROC_margin (float): critical region boundary,\n",
    "        classification_threshold (float) : optimal classification threshold\n",
    "    \"\"\"\n",
    "\n",
    "    low_classification_threshold = 0.01  # smallest classification threshold\n",
    "    high_classification_threshold = 0.99  # highest classification threshold\n",
    "    # number of classification threshold b/w low class threshold and high class threshold\n",
    "    number_classification_threshold = 100\n",
    "    number_ROC_margin = 50  # number of relevant ROC margins to be used in the optimization search\n",
    "\n",
    "    fair_metric_array = np.zeros(number_classification_threshold * number_ROC_margin)\n",
    "    balanced_accuracy_array = np.zeros_like(fair_metric_array)\n",
    "    ROC_margin_array = np.zeros_like(fair_metric_array)\n",
    "    classification_threshold_array = np.zeros_like(fair_metric_array)\n",
    "    count = 0\n",
    "    # Iterate through class thresholds\n",
    "    for class_thresh in np.linspace(low_classification_threshold,\n",
    "                                    high_classification_threshold,\n",
    "                                    number_classification_threshold):\n",
    "\n",
    "        classification_threshold = class_thresh\n",
    "        if class_thresh <= 0.5:\n",
    "            low_ROC_margin = 0.0\n",
    "            high_ROC_margin = class_thresh\n",
    "        else:\n",
    "            low_ROC_margin = 0.0\n",
    "            high_ROC_margin = (1.0 - class_thresh)\n",
    "\n",
    "        # Iterate through ROC margins\n",
    "        for ROC_margin in np.linspace(\n",
    "                low_ROC_margin,\n",
    "                high_ROC_margin,\n",
    "                number_ROC_margin):\n",
    "            ROC_margin = ROC_margin\n",
    "            # Predict using the current threshold and margin\n",
    "            y_pred = predict(y_predicted_score, classification_threshold,\n",
    "                             ROC_margin, privileged_group)\n",
    "            acc = metrics.accuracy_score(y_true, y_pred)\n",
    "            dpd, eod, aaod = utils.get_fairness(y_true, privileged_group, y_pred)\n",
    "            ROC_margin_array[count] = ROC_margin\n",
    "            classification_threshold_array[count] = classification_threshold\n",
    "            balanced_accuracy_array[count] = acc\n",
    "            if metric_name == \"DPD\":\n",
    "                fair_metric_array[count] = dpd\n",
    "            elif metric_name == \"AAOD\":\n",
    "                fair_metric_array[count] = aaod\n",
    "            elif metric_name == \"EOD\":\n",
    "                fair_metric_array[count] = eod\n",
    "            count += 1\n",
    "\n",
    "    rel_inds = np.logical_and(fair_metric_array >= metric_lower_bound,\n",
    "                              fair_metric_array <= metric_upper_bound)\n",
    "    if any(rel_inds):\n",
    "        best_ind = np.where(balanced_accuracy_array[rel_inds]\n",
    "                            == np.max(balanced_accuracy_array[rel_inds]))[0][0]\n",
    "    else:\n",
    "        warn(\"Unable to satisy fairness constraints\")\n",
    "        rel_inds = np.ones(len(fair_metric_array), dtype=bool)\n",
    "        best_ind = np.where(fair_metric_array[rel_inds]\n",
    "                            == np.min(fair_metric_array[rel_inds]))[0][0]\n",
    "\n",
    "    ROC_margin = ROC_margin_array[rel_inds][best_ind]\n",
    "    classification_threshold = classification_threshold_array[rel_inds][best_ind]\n",
    "\n",
    "    return ROC_margin, classification_threshold\n",
    "\n",
    "\n",
    "def predict(y_predicted_score, classification_threshold, ROC_margin, privileged_group):\n",
    "    \"\"\"\n",
    "    Obtain fair predictions with ROC method\n",
    "    Args:\n",
    "        y_predicted_score (numpy.ndarray): estimated probability predictions\n",
    "                                           (targets score) as returned by a classifier.\n",
    "        classification_threshold (float) : optimal classification threshold\n",
    "        ROC_margin (float) : critical region boundary\n",
    "        privileged_group (numpy.ndarray) : list of privileged group values.\n",
    "    Returns:\n",
    "        y_pred numpy.ndarray: predictions using ROC method.\n",
    "    \"\"\"\n",
    "\n",
    "    y_pred = np.where(y_predicted_score > classification_threshold, 1, 0)\n",
    "\n",
    "    # Indices of critical region around the classification boundary\n",
    "    critical_region_indices = np.logical_and(\n",
    "        y_predicted_score <= classification_threshold + ROC_margin,\n",
    "        y_predicted_score > classification_threshold - ROC_margin)\n",
    "\n",
    "    # Indices of privileged and unprivileged groups\n",
    "    cond_priv = privileged_group\n",
    "    cond_unpriv = privileged_group == False\n",
    "    y_pred[np.logical_and(critical_region_indices,\n",
    "                          cond_priv)] = 0\n",
    "    y_pred[np.logical_and(critical_region_indices,\n",
    "                          cond_unpriv)] = 1\n",
    "\n",
    "    return y_pred"
   ]
  },
  {
   "attachments": {},
   "cell_type": "markdown",
   "metadata": {},
   "source": [
    "So let's estimate the optimal classification threshold, and the critical region boundary (ROC margin) using validation set for the desired constraint on fairness.\n",
    "\n",
    "In this tutorial, we have used `Demographic parity difference(DPD)` as a fairness constraint."
   ]
  },
  {
   "cell_type": "code",
   "execution_count": 14,
   "metadata": {},
   "outputs": [
    {
     "name": "stdout",
     "output_type": "stream",
     "text": [
      "0.008101422387136691 0.9603030303030302\n"
     ]
    }
   ],
   "source": [
    "metric_name = \"DPD\"\n",
    "ROC_margin, classification_threshold = reject_option_classification(val_targets[:, 0],val_scores,val_targets[:, 1] == 1,\n",
    "                metric_name=metric_name)\n",
    "print(ROC_margin, classification_threshold)"
   ]
  },
  {
   "attachments": {},
   "cell_type": "markdown",
   "metadata": {},
   "source": [
    "### Model Fairness after bias mitigation"
   ]
  },
  {
   "attachments": {},
   "cell_type": "markdown",
   "metadata": {},
   "source": [
    "#### Model Fairness on Val set\n",
    "Let's obtain the predictions fpr validation data using estimated optimal classification threshold, compute accuracy and fairness metrics."
   ]
  },
  {
   "cell_type": "code",
   "execution_count": 15,
   "metadata": {},
   "outputs": [
    {
     "data": {
      "image/png": "[encoded data removed]",
      "text/plain": [
       "<Figure size 720x288 with 3 Axes>"
      ]
     },
     "metadata": {
      "needs_background": "light"
     },
     "output_type": "display_data"
    }
   ],
   "source": [
    "pred = predict(val_scores, classification_threshold, ROC_margin,val_targets[:, 1] == 1)\n",
    "accuracy = metrics.accuracy_score(val_targets[:, 0], pred)\n",
    "DPD, EOD, AAOD = utils.get_fairness(val_targets[:, 0],val_targets[:, 1] == 1, pred)\n",
    "utils.plot_fairness_multi(DPD, EOD, AAOD, accuracy, bar_x_axis=\"ROC\")"
   ]
  },
  {
   "attachments": {},
   "cell_type": "markdown",
   "metadata": {},
   "source": [
    "#### Model Fairness on Test set\n",
    "Let's obtain predictions for test data using estimated optimal classification threshold, compute accuracy and fairness metrics now."
   ]
  },
  {
   "cell_type": "code",
   "execution_count": 16,
   "metadata": {},
   "outputs": [
    {
     "data": {
      "image/png": "[encoded data removed]",
      "text/plain": [
       "<Figure size 720x288 with 3 Axes>"
      ]
     },
     "metadata": {
      "needs_background": "light"
     },
     "output_type": "display_data"
    }
   ],
   "source": [
    "pred = predict(test_scores,classification_threshold,ROC_margin,test_targets[:, 1] == 1)\n",
    "accuracy = metrics.accuracy_score(test_targets[:, 0], pred)\n",
    "DPD, EOD, AAOD = utils.get_fairness(test_targets[:, 0],test_targets[:, 1] == 1, pred)\n",
    "utils.plot_fairness_multi(DPD, EOD, AAOD, accuracy, bar_x_axis=\"ROC\")"
   ]
  },
  {
   "attachments": {},
   "cell_type": "markdown",
   "metadata": {},
   "source": [
    "Plots above show how model fairness improved after induction of ROC at prediction time. DEO, EOD & AAOD scores have improved as compared to the baseline classifier model, but model accuracy dropped by 0.5%. To achieve this reduction in bias, the decision-makers should consider the trade-off between accuracy and fairness."
   ]
  },
  {
   "attachments": {},
   "cell_type": "markdown",
   "metadata": {},
   "source": [
    "### 5. Summary\n",
    "\n",
    "In this tutorial, we have shown how to reduce the bias at prediction time using Reject Option-based Classification procedure in a visual recognition task. In comparison to in-processing methods like Adversarial debiasing, experiments show that in-processing techniques like Prejudice Remover Regularizer are more effective at reducing bias than post-processing techniques such as ROC. However, advantage of this method is: ML practitioners could directly intervene at the last stage of the modeling workflow without modifying the data or learning algorithm while effectively reducing the bias with acceptable accuracy."
   ]
  },
  {
   "attachments": {},
   "cell_type": "markdown",
   "metadata": {},
   "source": [
    "### 6. References\n",
    "\n",
    "1. \"Decision theory for discrimination-aware classification\". Kamiran, Faisal, Asim Karim, and Xiangliang Zhang. In 2012 IEEE 12th International Conference on Data Mining, pp. 924-929. IEEE, 2012\n",
    "2. \"Equality of opportunity in supervised learning\". Hardt, Moritz, Eric Price, and Nati Srebro. Advances in neural information processing systems 29 (2016)\n",
    "3. \"Adam: A method for stochastic optimization\". Kingma, Diederik P., and Jimmy Ba. arXiv preprint arXiv:1412.6980 (2014).\n",
    "4. \"Large-scale celebfaces attributes (celeba) dataset\". Liu, Ziwei, Ping Luo, Xiaogang Wang, and Xiaoou Tang. Retrieved August 15, no. 2018 (2018): 11.\n",
    "5. \"AI Fairness 360: An extensible toolkit for detecting and mitigating algorithmic bias\".Bellamy RK, Dey K, Hind M, Hoffman SC, Houde S, Kannan K, Lohia P, Martino J, Mehta S, Mojsilović A, Nagar S. IBM Journal of Research and Development, 63(4/5), pp.4-1"
   ]
  }
 ],
 "metadata": {
  "kernelspec": {
   "display_name": "Python 3",
   "language": "python",
   "name": "python3"
  },
  "language_info": {
   "codemirror_mode": {
    "name": "ipython",
    "version": 3
   },
   "file_extension": ".py",
   "mimetype": "text/x-python",
   "name": "python",
   "nbconvert_exporter": "python",
   "pygments_lexer": "ipython3",
   "version": "3.6.10"
  }
 },
 "nbformat": 4,
 "nbformat_minor": 4
}
