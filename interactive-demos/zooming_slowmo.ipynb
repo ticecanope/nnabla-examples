{
  "cells": [
    {
      "attachments": {},
      "cell_type": "markdown",
      "metadata": {},
      "source": [
        "# Zooming Slow-Mo\n",
        "|Original| Zooming Slow-Mo|\n",
        "|:-------:|:-------------:|\n",
        "|<a href=\"url\"><img src='https://github.com/sony/nnabla-examples/raw/master/frame-interpolation/zooming-slow-mo/demo/original.gif' width=250></a>|<a href=\"url\"><img src='https://github.com/sony/nnabla-examples/raw/master/frame-interpolation/zooming-slow-mo/demo/original.gif' width=250></a>|\n",
        "\n",
        "This example interactively demonstrates [Zooming Slow-Mo](https://arxiv.org/abs/2002.11616), a model for video super-resolution and video frame interpolation."
      ]
    },
    {
      "attachments": {},
      "cell_type": "markdown",
      "metadata": {},
      "source": [
        "# Preparation\n",
        "Let's start by installing nnabla and accessing [nnabla-examples repository](https://github.com/sony/nnabla-examples). If you're running on Colab, make sure that your Runtime setting is set as GPU, which can be set up from the top menu (Runtime → change runtime type), and make sure to click **Connect** on the top right-hand side of the screen before you start."
      ]
    },
    {
      "cell_type": "code",
      "execution_count": null,
      "metadata": {},
      "outputs": [],
      "source": [
        "# May show warnings for newly imported packages if run in Colab default python environment.\n",
        "# Please click the `RESTART RUNTIME` to run the following script correctly.\n",
        "# The error message of conflicts is acceptable.\n",
        "!pip install nnabla-ext-cuda116\n",
        "!git clone https://github.com/sony/nnabla-examples.git"
      ]
    },
    {
      "cell_type": "code",
      "execution_count": null,
      "metadata": {},
      "outputs": [],
      "source": [
        "%cd nnabla-examples/frame-interpolation/zooming-slow-mo"
      ]
    },
    {
      "attachments": {},
      "cell_type": "markdown",
      "metadata": {},
      "source": [
        "We also need to install a library to work with videos and images."
      ]
    },
    {
      "cell_type": "code",
      "execution_count": null,
      "metadata": {},
      "outputs": [],
      "source": [
        "!pip install ffmpeg"
      ]
    },
    {
      "attachments": {},
      "cell_type": "markdown",
      "metadata": {},
      "source": [
        "Now we define a function which plays videos in Colab. Simply run the following cell."
      ]
    },
    {
      "cell_type": "code",
      "execution_count": null,
      "metadata": {},
      "outputs": [],
      "source": [
        "from IPython.display import HTML\n",
        "from base64 import b64encode\n",
        "\n",
        "\n",
        "def play_video(filename, height=512, width=512):\n",
        "    mp4 = open(filename, 'rb').read()\n",
        "    data_url = \"data:video/mp4;base64,\" + b64encode(mp4).decode()\n",
        "    return HTML(f\"\"\"\n",
        "    <video width={width} height={height} controls>\n",
        "          <source src={data_url} type=\"video/mp4\">\n",
        "    </video>\"\"\")"
      ]
    },
    {
      "attachments": {},
      "cell_type": "markdown",
      "metadata": {},
      "source": [
        "Let's also download the pre-trained weight parameters."
      ]
    },
    {
      "cell_type": "code",
      "execution_count": null,
      "metadata": {},
      "outputs": [],
      "source": [
        "!wget https://nnabla.org/pretrained-models/nnabla-examples/frame-interpolation/zooming-slo-mo/zooming_slo_mo.h5\n",
        "!wget https://nnabla.org/pretrained-models/nnabla-examples/frame-interpolation/zooming-slo-mo/slo_mo.h5"
      ]
    },
    {
      "attachments": {},
      "cell_type": "markdown",
      "metadata": {},
      "source": [
        "# Upload Video\n",
        "Run the following cell to upload your own video. You do not have to upload low resolution, low frame rate video, since we will convert it to low resolution and frame rate later, but try not to upload videos that are too long! We recommend videos of less than 5 seconds."
      ]
    },
    {
      "cell_type": "code",
      "execution_count": null,
      "metadata": {},
      "outputs": [],
      "source": [
        "from google.colab import files\n",
        "\n",
        "video = files.upload()"
      ]
    },
    {
      "attachments": {},
      "cell_type": "markdown",
      "metadata": {},
      "source": [
        "Let's rename the uploaded video file for convenience."
      ]
    },
    {
      "cell_type": "code",
      "execution_count": null,
      "metadata": {},
      "outputs": [],
      "source": [
        "import os\n",
        "ext = os.path.splitext(list(video.keys())[-1])[-1]\n",
        "os.rename(list(video.keys())[-1], \"input_video{}\".format(ext)) \n",
        "input_video = \"input_video\" + ext"
      ]
    },
    {
      "attachments": {},
      "cell_type": "markdown",
      "metadata": {},
      "source": [
        "We will now extract frames from the video with low resolution and low frame rate, and subsequently make a low resolution, low frame rate video out of it. \n",
        "\n",
        "We will convert it to resolution aspect ratio of width 200 and corresponding height, but if you want to specify your custom ratio, modify the part `scale=200:$new_height` in the cell below. Just make sure that both height and width are multiples of 4, and if aspect ratio is too high, it may result in memory error."
      ]
    },
    {
      "cell_type": "code",
      "execution_count": null,
      "metadata": {},
      "outputs": [],
      "source": [
        "width=!ffprobe -v error -select_streams v:0 -show_entries stream=width -of csv=p=0 input_video.mp4\n",
        "height=!ffprobe -v error -select_streams v:0 -show_entries stream=height -of csv=p=0 input_video.mp4\n",
        "new_height = int(height[0])*200 // int(width[0])\n",
        "new_height = 4*round(new_height/4)\n",
        "!mkdir -p frames/input_video\n",
        "!ffmpeg -i $input_video -vf \"fps=10, scale=200:$new_height\" frames/input_video/frame_%04d.png\n",
        "!ffmpeg -i frames/input_video/frame_%04d.png -r 10/1 -y low_res.mp4"
      ]
    },
    {
      "attachments": {},
      "cell_type": "markdown",
      "metadata": {},
      "source": [
        "# Video super-resolution and frame interpolation\n",
        "\n",
        "We are ready now!\n",
        "\n",
        "We will first apply frame interpolation only, and then apply both super-resolution and frame interpolation to see the differences.\n",
        "\n",
        "First, we run frame interpolation with the following cell, and make a video out of it.\n",
        "\n",
        "(**Note**: if you run into memory allocation error, please try with shorter video)"
      ]
    },
    {
      "cell_type": "code",
      "execution_count": null,
      "metadata": {},
      "outputs": [],
      "source": [
        "!python inference.py --model slo_mo.h5 --input-dir frames/ --only-slomo\n",
        "!ffmpeg -i results/input_video/%08d.png -r 24/1 -y slowmo.mp4"
      ]
    },
    {
      "attachments": {},
      "cell_type": "markdown",
      "metadata": {},
      "source": [
        "Now, let's apply both frame interpolatioon and super-resolution, and also make a video out of it."
      ]
    },
    {
      "cell_type": "code",
      "execution_count": null,
      "metadata": {},
      "outputs": [],
      "source": [
        "!python inference.py --model zooming_slo_mo.h5 --input-dir frames/\n",
        "!ffmpeg -i results/input_video/%08d.png -r 24/1 -y zooming_slowmo.mp4"
      ]
    },
    {
      "attachments": {},
      "cell_type": "markdown",
      "metadata": {},
      "source": [
        "Let's check the results!\n",
        "\n",
        "First, let's check the low resolution, low frame rate version of the video."
      ]
    },
    {
      "cell_type": "code",
      "execution_count": null,
      "metadata": {},
      "outputs": [],
      "source": [
        "play_video(\"low_res.mp4\")"
      ]
    },
    {
      "attachments": {},
      "cell_type": "markdown",
      "metadata": {},
      "source": [
        "OK, it was low resolution, low frame rate video that you proably don't feel like watching.\n",
        "\n",
        "Now let's see the high frame rate version of it."
      ]
    },
    {
      "cell_type": "code",
      "execution_count": null,
      "metadata": {},
      "outputs": [],
      "source": [
        "play_video(\"slowmo.mp4\")"
      ]
    },
    {
      "attachments": {},
      "cell_type": "markdown",
      "metadata": {},
      "source": [
        "Frame rate is higher with frame interpolation, but it's still low resolution.\n",
        "\n",
        "Finally, let's see the high resolution, high frame rate version!"
      ]
    },
    {
      "cell_type": "code",
      "execution_count": null,
      "metadata": {},
      "outputs": [],
      "source": [
        "play_video(\"zooming_slowmo.mp4\")"
      ]
    },
    {
      "attachments": {},
      "cell_type": "markdown",
      "metadata": {},
      "source": [
        "Were you able to see the enhancements?\n",
        "\n",
        "Hope you enjoyed it!"
      ]
    }
  ],
  "metadata": {
    "accelerator": "GPU",
    "kernelspec": {
      "display_name": "Python 3",
      "language": "python",
      "name": "python3"
    },
    "language_info": {
      "codemirror_mode": {
        "name": "ipython",
        "version": 3
      },
      "file_extension": ".py",
      "mimetype": "text/x-python",
      "name": "python",
      "nbconvert_exporter": "python",
      "pygments_lexer": "ipython3",
      "version": "3.5.2"
    }
  },
  "nbformat": 4,
  "nbformat_minor": 2
}
